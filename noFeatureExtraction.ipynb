{
  "cells": [
    {
      "cell_type": "code",
      "execution_count": 5,
      "metadata": {
        "id": "yWiBoIiuI3rS"
      },
      "outputs": [],
      "source": [
        "import tensorflow as tf\n",
        "import numpy as np\n",
        "import matplotlib.pyplot as plt\n",
        "import seaborn as sns\n",
        "import numpy as np\n",
        "import scipy.signal as signal\n",
        "import pandas as pd\n",
        "from tensorflow.keras.utils import pad_sequences"
      ]
    },
    {
      "cell_type": "code",
      "execution_count": 6,
      "metadata": {
        "colab": {
          "base_uri": "https://localhost:8080/"
        },
        "id": "rnC4uYkCdLoV",
        "outputId": "1ea42c24-2c56-43ab-ed8d-cc74638ccc0f"
      },
      "outputs": [
        {
          "name": "stdout",
          "output_type": "stream",
          "text": [
            "Num GPUs Available: 0\n",
            "TensorFlow version: 2.18.0\n"
          ]
        }
      ],
      "source": [
        "print(\"Num GPUs Available:\", len(tf.config.experimental.list_physical_devices('GPU')))\n",
        "print(\"TensorFlow version:\", tf.__version__)"
      ]
    },
    {
      "cell_type": "code",
      "execution_count": 13,
      "metadata": {
        "colab": {
          "base_uri": "https://localhost:8080/"
        },
        "id": "tOa7f9s-KSnC",
        "outputId": "05d7f686-825f-4fa3-ba6b-6b697321444d"
      },
      "outputs": [
        {
          "name": "stderr",
          "output_type": "stream",
          "text": [
            "'nvidia-smi' is not recognized as an internal or external command,\n",
            "operable program or batch file.\n"
          ]
        }
      ],
      "source": [
        "!nvidia-smi"
      ]
    },
    {
      "cell_type": "code",
      "execution_count": 14,
      "metadata": {
        "colab": {
          "base_uri": "https://localhost:8080/"
        },
        "id": "Smw1tCKQKTXz",
        "outputId": "144266d0-165c-46ee-aa6d-48ec240a4460"
      },
      "outputs": [],
      "source": [
        "gpus = tf.config.experimental.list_physical_devices('GPU')\n",
        "if gpus:\n",
        "    try:\n",
        "        # Set memory growth to avoid consuming all GPU memory\n",
        "        for gpu in gpus:\n",
        "            tf.config.experimental.set_memory_growth(gpu, True)\n",
        "        print(\"GPU is enabled!\")\n",
        "    except RuntimeError as e:\n",
        "        print(e)\n"
      ]
    },
    {
      "cell_type": "code",
      "execution_count": 8,
      "metadata": {
        "colab": {
          "base_uri": "https://localhost:8080/"
        },
        "id": "9PyRLGT0PIRT",
        "outputId": "e9c32aa7-71e7-42a0-e6d4-93b0e1b31ba2"
      },
      "outputs": [
        {
          "name": "stdout",
          "output_type": "stream",
          "text": [
            "Requirement already satisfied: wfdb in /usr/local/lib/python3.11/dist-packages (4.2.0)\n",
            "Requirement already satisfied: matplotlib>=3.2.2 in /usr/local/lib/python3.11/dist-packages (from wfdb) (3.10.0)\n",
            "Requirement already satisfied: numpy>=1.26.4 in /usr/local/lib/python3.11/dist-packages (from wfdb) (2.0.2)\n",
            "Requirement already satisfied: pandas>=2.2.3 in /usr/local/lib/python3.11/dist-packages (from wfdb) (2.2.3)\n",
            "Requirement already satisfied: requests>=2.8.1 in /usr/local/lib/python3.11/dist-packages (from wfdb) (2.32.3)\n",
            "Requirement already satisfied: scipy>=1.13.0 in /usr/local/lib/python3.11/dist-packages (from wfdb) (1.14.1)\n",
            "Requirement already satisfied: soundfile>=0.10.0 in /usr/local/lib/python3.11/dist-packages (from wfdb) (0.13.1)\n",
            "Requirement already satisfied: contourpy>=1.0.1 in /usr/local/lib/python3.11/dist-packages (from matplotlib>=3.2.2->wfdb) (1.3.1)\n",
            "Requirement already satisfied: cycler>=0.10 in /usr/local/lib/python3.11/dist-packages (from matplotlib>=3.2.2->wfdb) (0.12.1)\n",
            "Requirement already satisfied: fonttools>=4.22.0 in /usr/local/lib/python3.11/dist-packages (from matplotlib>=3.2.2->wfdb) (4.56.0)\n",
            "Requirement already satisfied: kiwisolver>=1.3.1 in /usr/local/lib/python3.11/dist-packages (from matplotlib>=3.2.2->wfdb) (1.4.8)\n",
            "Requirement already satisfied: packaging>=20.0 in /usr/local/lib/python3.11/dist-packages (from matplotlib>=3.2.2->wfdb) (24.2)\n",
            "Requirement already satisfied: pillow>=8 in /usr/local/lib/python3.11/dist-packages (from matplotlib>=3.2.2->wfdb) (11.1.0)\n",
            "Requirement already satisfied: pyparsing>=2.3.1 in /usr/local/lib/python3.11/dist-packages (from matplotlib>=3.2.2->wfdb) (3.2.3)\n",
            "Requirement already satisfied: python-dateutil>=2.7 in /usr/local/lib/python3.11/dist-packages (from matplotlib>=3.2.2->wfdb) (2.8.2)\n",
            "Requirement already satisfied: pytz>=2020.1 in /usr/local/lib/python3.11/dist-packages (from pandas>=2.2.3->wfdb) (2025.2)\n",
            "Requirement already satisfied: tzdata>=2022.7 in /usr/local/lib/python3.11/dist-packages (from pandas>=2.2.3->wfdb) (2025.2)\n",
            "Requirement already satisfied: charset-normalizer<4,>=2 in /usr/local/lib/python3.11/dist-packages (from requests>=2.8.1->wfdb) (3.4.1)\n",
            "Requirement already satisfied: idna<4,>=2.5 in /usr/local/lib/python3.11/dist-packages (from requests>=2.8.1->wfdb) (3.10)\n",
            "Requirement already satisfied: urllib3<3,>=1.21.1 in /usr/local/lib/python3.11/dist-packages (from requests>=2.8.1->wfdb) (2.3.0)\n",
            "Requirement already satisfied: certifi>=2017.4.17 in /usr/local/lib/python3.11/dist-packages (from requests>=2.8.1->wfdb) (2025.1.31)\n",
            "Requirement already satisfied: cffi>=1.0 in /usr/local/lib/python3.11/dist-packages (from soundfile>=0.10.0->wfdb) (1.17.1)\n",
            "Requirement already satisfied: pycparser in /usr/local/lib/python3.11/dist-packages (from cffi>=1.0->soundfile>=0.10.0->wfdb) (2.22)\n",
            "Requirement already satisfied: six>=1.5 in /usr/local/lib/python3.11/dist-packages (from python-dateutil>=2.7->matplotlib>=3.2.2->wfdb) (1.17.0)\n"
          ]
        }
      ],
      "source": [
        "!pip install wfdb"
      ]
    },
    {
      "cell_type": "code",
      "execution_count": 7,
      "metadata": {
        "id": "b_APoaXEKgDp"
      },
      "outputs": [],
      "source": [
        "import wfdb\n",
        "from wfdb import io\n",
        "\n",
        "# dataset_path = \"/content/mit-bih-arrhythmia-database\"\n",
        "\n",
        "\n",
        "# wfdb.dl_database('mitdb', dataset_path)\n",
        "\n",
        "# dataset_path = \"drive/MyDrive/dataset/input\"\n",
        "dataset_path = \"dataset/input\"\n"
      ]
    },
    {
      "cell_type": "code",
      "execution_count": 8,
      "metadata": {
        "colab": {
          "base_uri": "https://localhost:8080/",
          "height": 472
        },
        "id": "dwXow1dfQZqY",
        "outputId": "f7b044a4-8c06-45d5-8ac7-0bad4fbffac5"
      },
      "outputs": [
        {
          "data": {
            "image/png": "[encoded data removed]",
            "text/plain": [
              "<Figure size 640x480 with 2 Axes>"
            ]
          },
          "metadata": {},
          "output_type": "display_data"
        }
      ],
      "source": [
        "path = f'{dataset_path}/100'\n",
        "record = wfdb.rdrecord(path)\n",
        "ann = wfdb.rdann(path, 'atr')\n",
        "ecg_signal = record.p_signal[:,0]\n",
        "wfdb.plot_wfdb(record=record, annotation=ann)"
      ]
    },
    {
      "cell_type": "code",
      "execution_count": 9,
      "metadata": {
        "id": "QmplLDE7Qovz"
      },
      "outputs": [],
      "source": [
        "class Preprocess:\n",
        "    def __init__(self, path, std=True):\n",
        "        self.path = path\n",
        "        self.record = wfdb.rdrecord(path)\n",
        "        self.fs = self.record.fs\n",
        "        self.ecg_signal = self.record.p_signal[:,0]\n",
        "        self.ann = wfdb.rdann(path, 'atr')\n",
        "        self.cleaned_ecg = self.clean_signal(std)\n",
        "        self.segments, self.target, self.target_encoded = self.create_features()\n",
        "\n",
        "\n",
        "    def butter_bandpass(self, lowcut, highcut, fs, order=4):\n",
        "        nyquist = 0.5 * fs  # Nyquist frequency\n",
        "        low = lowcut / nyquist\n",
        "        high = highcut / nyquist\n",
        "        b, a = signal.butter(order, [low, high], btype='band')\n",
        "        return b, a\n",
        "\n",
        "    def apply_bandpass_filter(self, data, lowcut, highcut, order=4):\n",
        "        b, a = self.butter_bandpass(lowcut, highcut, self.fs, order)\n",
        "        filtered_signal = signal.filtfilt(b, a, data)\n",
        "        return filtered_signal\n",
        "\n",
        "    def standardize_signal(self, filtered_signal):\n",
        "        return (filtered_signal - np.mean(filtered_signal)) / np.std(filtered_signal)\n",
        "\n",
        "    def clean_signal(self, std=True):\n",
        "        filtered_signal = self.apply_bandpass_filter(self.ecg_signal, lowcut=0.5, highcut=40, order=4)\n",
        "        if std == True:\n",
        "          return self.standardize_signal(filtered_signal)\n",
        "        return filtered_signal\n",
        "\n",
        "    def create_features(self):\n",
        "        segment = []\n",
        "        for i in self.ann.sample:\n",
        "            start = np.max([i-180, 0])\n",
        "            end = np.min([i + 180, len(self.cleaned_ecg)])\n",
        "            ecg_segment = self.cleaned_ecg[start:end]\n",
        "            segment.append(ecg_segment)\n",
        "        \n",
        "        segment = pad_sequences(segment, maxlen=self.fs, padding='post', value=0)\n",
        "\n",
        "\n",
        "\n",
        "        target = list(self.ann.symbol)\n",
        "\n",
        "        aami_mapping = {\n",
        "                            'N': 'N', 'L': 'N', 'R': 'N', 'e': 'N', 'j': 'N',  # Normal Beats\n",
        "                            'A': 'S', 'a': 'S', 'J': 'S', 'S': 'S',  # Supraventricular\n",
        "                            'V': 'V', 'E': 'V',  # Ventricular\n",
        "                            'F': 'F',  # Fusion\n",
        "                            '/': 'Q', 'f': 'Q', 'Q': 'Q'  # Unknown/Paced\n",
        "                        }\n",
        "\n",
        "        aami_encoding = {'N': 0, 'S': 1, 'V': 2, 'F': 3, 'Q': 4}\n",
        "        for i in range(0, len(target)):\n",
        "             target[i] = aami_mapping.get(target[i], 'Q')\n",
        "\n",
        "        target_encoded = []\n",
        "        for i in range(0, len(target)):\n",
        "            target_encoded.append(aami_encoding[target[i]])\n",
        "\n",
        "        return np.array(segment), np.array(target), np.array(target_encoded)\n",
        "\n",
        "\n",
        "    def plot_signal_annotations(self, range):\n",
        "        if range > len(self.ecg_signal):\n",
        "            range = 1000\n",
        "        ann_range = [i for i in self.ann.sample if i <= range]\n",
        "        ecg_segment = self.ecg_signal[:range]\n",
        "        plt.plot(ecg_segment)\n",
        "        plt.scatter(ann_range, ecg_segment[ann_range])\n",
        "\n",
        "    def print_signal_features(self):\n",
        "        print(f\"Signal Data (first 5 samples):\\n{self.record.p_signal[:5]}\")\n",
        "        print(f\"Sampling Frequency (Hz): {self.record.fs}\")\n",
        "        print(f\"Signal Names: {self.record.sig_name}\")\n",
        "        print(f\"Signal Units: {self.record.units}\")\n",
        "        print(f\"Number of Signals: {self.record.n_sig}\")\n",
        "        print(f\"Record Comments: {self.record.comments}\", end='\\n\\n')\n",
        "        print(\"Annotations Sample Indices:\", self.ann.sample[:10])\n",
        "        print(\"Annotation Labels/Symbols:\", self.ann.symbol[:10])\n",
        "        print(\"Annotation Subtypes:\", self.ann.subtype[:10])\n",
        "        print(\"Auxiliary Notes:\", self.ann.aux_note[:10])\n",
        "\n",
        "        print(f\"Total Annotations: {len(self.ann.sample)}\")"
      ]
    },
    {
      "cell_type": "code",
      "execution_count": 10,
      "metadata": {
        "id": "TWZsiiMbQqyi"
      },
      "outputs": [],
      "source": [
        "dir_df = pd.read_csv('directory.csv')"
      ]
    },
    {
      "cell_type": "code",
      "execution_count": 11,
      "metadata": {
        "id": "G-2JuDosQvw3"
      },
      "outputs": [],
      "source": [
        "\n",
        "final_segments = []\n",
        "final_segments_wo_std = []\n",
        "final_target = []\n",
        "final_target_encoded = []\n",
        "signal_name = []\n",
        "for n in dir_df.name.values:\n",
        "    file = n.split('.')[0]\n",
        "    path = f'{dataset_path}/{file}'\n",
        "    pp = Preprocess(path, std=True)\n",
        "    pp_wo_std = Preprocess(path, std=False)\n",
        "    final_segments.append(pp.segments)\n",
        "    final_segments_wo_std.append(pp_wo_std.segments)\n",
        "    final_target.append(pp.target)\n",
        "    final_target_encoded.append(pp.target_encoded)\n",
        "    signal_name.append([file]*len(pp.segments))\n",
        "\n",
        "final_segments = np.concatenate(final_segments)\n",
        "final_segments_wo_std = np.concatenate(final_segments_wo_std)\n",
        "final_target = np.concatenate(final_target)\n",
        "final_target_encoded = np.concatenate(final_target_encoded)\n",
        "signal_name = np.concatenate(signal_name)\n",
        "\n",
        "\n"
      ]
    },
    {
      "cell_type": "code",
      "execution_count": 12,
      "metadata": {
        "id": "DncG_6ojtMKj"
      },
      "outputs": [],
      "source": [
        "from sklearn.model_selection import StratifiedKFold\n",
        "from sklearn.metrics import precision_score, recall_score, f1_score, accuracy_score\n",
        "from sklearn.preprocessing import StandardScaler\n",
        "\n",
        "from sklearn.model_selection import train_test_split\n",
        "\n",
        "from sklearn.linear_model import RidgeClassifier\n",
        "\n",
        "from sklearn.ensemble import RandomForestClassifier\n",
        "from sklearn.neighbors import KNeighborsClassifier\n",
        "from sklearn.svm import SVC\n",
        "from sklearn.naive_bayes import GaussianNB"
      ]
    },
    {
      "cell_type": "code",
      "execution_count": 13,
      "metadata": {
        "id": "Hc7xoI2MsvO7"
      },
      "outputs": [],
      "source": [
        "X_train, X_test, y_train, y_test = train_test_split(final_segments, final_target_encoded, test_size=0.2, random_state=42, stratify=final_target_encoded)\n",
        "X_train_wo_std, X_test_wo_std, _, _ = train_test_split(final_segments_wo_std, final_target_encoded, test_size=0.2, random_state=42, stratify=final_target_encoded)"
      ]
    },
    {
      "cell_type": "code",
      "execution_count": 14,
      "metadata": {
        "id": "S6Rd4o_DRFWi"
      },
      "outputs": [],
      "source": [
        "from sklearn.metrics import confusion_matrix, classification_report\n",
        "import numpy as np\n",
        "import seaborn as sns\n",
        "import matplotlib.pyplot as plt\n",
        "\n",
        "def confusion_matrix_plot(y_true, y_pred):\n",
        "    class_labels = ['N', 'S', 'V', 'F', 'Q']\n",
        "    label_mapping = {0: 'N', 1: 'S', 2: 'V', 3: 'F', 4: 'Q'}\n",
        "\n",
        "    # Ensure correct mapping from numbers to labels\n",
        "    if isinstance(y_true[0], int) or isinstance(y_true[0], np.integer):\n",
        "        y_true_labels = [label_mapping[label] for label in y_true]\n",
        "        y_pred_labels = [label_mapping[label] for label in y_pred]\n",
        "    else:\n",
        "        y_true_labels = y_true\n",
        "        y_pred_labels = y_pred\n",
        "\n",
        "    # Debugging: Print unique values\n",
        "    print(\"Unique values in y_true_labels:\", set(y_true_labels))\n",
        "    print(\"Unique values in y_pred_labels:\", set(y_pred_labels))\n",
        "\n",
        "    # Compute confusion matrix\n",
        "    cm = confusion_matrix(y_true_labels, y_pred_labels, labels=class_labels)\n",
        "\n",
        "    # Compute classification report (handling missing classes)\n",
        "    report = classification_report(y_true_labels, y_pred_labels, target_names=class_labels, labels=class_labels, zero_division=0)\n",
        "    print(\"\\nClassification Report:\\n\", report)\n",
        "\n",
        "    # Plot heatmap\n",
        "    plt.figure(figsize=(6, 5))\n",
        "    sns.heatmap(cm, annot=True, fmt='d', cmap='Blues', xticklabels=class_labels, yticklabels=class_labels)\n",
        "    plt.xlabel('Predicted Label')\n",
        "    plt.ylabel('Actual Label')\n",
        "    plt.title('Confusion Matrix')\n",
        "\n"
      ]
    },
    {
      "cell_type": "code",
      "execution_count": 9,
      "metadata": {
        "id": "RCHpo9KJs84h"
      },
      "outputs": [],
      "source": [
        "\n",
        "def stratified_kfold_cv(X, y, model, n_splits=10):\n",
        "\n",
        "    # Initialize StratifiedKFold for cross-validation\n",
        "    skf = StratifiedKFold(n_splits=n_splits, shuffle=True, random_state=42)\n",
        "\n",
        "    # Initialize lists to store scores for each fold\n",
        "    f1_scores = []\n",
        "    precision_scores = []\n",
        "    recall_scores = []\n",
        "    accuracy_scores = []\n",
        "    scaler = StandardScaler()\n",
        "\n",
        "    # Perform Stratified K-Fold Cross Validation\n",
        "    for train_idx, val_idx in skf.split(X, y):\n",
        "        # Get the training and validation sets for each fold\n",
        "        X_train_fold, X_val_fold = X[train_idx], X[val_idx]\n",
        "        y_train_fold, y_val_fold = y[train_idx], y[val_idx]\n",
        "        X_train_fold = scaler.fit_transform(X_train_fold)\n",
        "        X_val_fold = scaler.transform(X_val_fold)\n",
        "        # Train the model\n",
        "        model.fit(X_train_fold, y_train_fold)\n",
        "\n",
        "        # Predict on the validation fold\n",
        "        y_val_pred = model.predict(X_val_fold)\n",
        "\n",
        "        # Calculate Precision, Recall, F1 Score, and Accuracy for the current fold\n",
        "        precision = precision_score(y_val_fold, y_val_pred, average='weighted')\n",
        "        recall = recall_score(y_val_fold, y_val_pred, average='weighted')\n",
        "        f1 = f1_score(y_val_fold, y_val_pred, average='weighted')\n",
        "        accuracy = accuracy_score(y_val_fold, y_val_pred)\n",
        "\n",
        "        # Append the scores for the fold\n",
        "        precision_scores.append(precision)\n",
        "        recall_scores.append(recall)\n",
        "        f1_scores.append(f1)\n",
        "        accuracy_scores.append(accuracy)\n",
        "\n",
        "        print(f\"Fold Accuracy: {accuracy:.4f}, Precision: {precision:.4f}, Recall: {recall:.4f}, F1 Score: {f1:.4f}\")\n",
        "\n",
        "    # Calculate and print the average scores across all folds\n",
        "    avg_precision = np.mean(precision_scores)\n",
        "    avg_recall = np.mean(recall_scores)\n",
        "    avg_f1 = np.mean(f1_scores)\n",
        "    avg_accuracy = np.mean(accuracy_scores)\n",
        "\n",
        "    print(\"\\nAverage Scores across all folds:\")\n",
        "    print(f\"Average Accuracy: {avg_accuracy:.4f}\")\n",
        "    print(f\"Average Precision: {avg_precision:.4f}\")\n",
        "    print(f\"Average Recall: {avg_recall:.4f}\")\n",
        "    print(f\"Average F1 Score: {avg_f1:.4f}\")"
      ]
    },
    {
      "cell_type": "code",
      "execution_count": 69,
      "metadata": {
        "colab": {
          "base_uri": "https://localhost:8080/"
        },
        "id": "62d8Lh9Us8ns",
        "outputId": "8bff116d-e3df-4b65-e46e-59bde2733e0e"
      },
      "outputs": [
        {
          "name": "stdout",
          "output_type": "stream",
          "text": [
            "Fold Accuracy: 0.2085, Precision: 0.9183, Recall: 0.2085, F1 Score: 0.2821\n",
            "Fold Accuracy: 0.2076, Precision: 0.9188, Recall: 0.2076, F1 Score: 0.2775\n",
            "Fold Accuracy: 0.1840, Precision: 0.9201, Recall: 0.1840, F1 Score: 0.2446\n",
            "Fold Accuracy: 0.2557, Precision: 0.9167, Recall: 0.2557, F1 Score: 0.3495\n",
            "Fold Accuracy: 0.2110, Precision: 0.9211, Recall: 0.2110, F1 Score: 0.2850\n",
            "Fold Accuracy: 0.2169, Precision: 0.9135, Recall: 0.2169, F1 Score: 0.2964\n",
            "Fold Accuracy: 0.1908, Precision: 0.9145, Recall: 0.1908, F1 Score: 0.2543\n",
            "Fold Accuracy: 0.1899, Precision: 0.9207, Recall: 0.1899, F1 Score: 0.2555\n",
            "Fold Accuracy: 0.2184, Precision: 0.9195, Recall: 0.2184, F1 Score: 0.2970\n",
            "Fold Accuracy: 0.2085, Precision: 0.9206, Recall: 0.2085, F1 Score: 0.2817\n",
            "\n",
            "Average Scores across all folds:\n",
            "Average Accuracy: 0.2091\n",
            "Average Precision: 0.9184\n",
            "Average Recall: 0.2091\n",
            "Average F1 Score: 0.2824\n",
            "****************************************************************************************************\n",
            "without std\n"
          ]
        },
        {
          "name": "stderr",
          "output_type": "stream",
          "text": [
            "c:\\Users\\gadda\\anaconda3\\envs\\mitbih\\lib\\site-packages\\sklearn\\metrics\\_classification.py:1565: UndefinedMetricWarning: Precision is ill-defined and being set to 0.0 in labels with no predicted samples. Use `zero_division` parameter to control this behavior.\n",
            "  _warn_prf(average, modifier, f\"{metric.capitalize()} is\", len(result))\n"
          ]
        },
        {
          "name": "stdout",
          "output_type": "stream",
          "text": [
            "Fold Accuracy: 0.0566, Precision: 0.0767, Recall: 0.0566, F1 Score: 0.0396\n"
          ]
        },
        {
          "name": "stderr",
          "output_type": "stream",
          "text": [
            "c:\\Users\\gadda\\anaconda3\\envs\\mitbih\\lib\\site-packages\\sklearn\\metrics\\_classification.py:1565: UndefinedMetricWarning: Precision is ill-defined and being set to 0.0 in labels with no predicted samples. Use `zero_division` parameter to control this behavior.\n",
            "  _warn_prf(average, modifier, f\"{metric.capitalize()} is\", len(result))\n"
          ]
        },
        {
          "name": "stdout",
          "output_type": "stream",
          "text": [
            "Fold Accuracy: 0.0559, Precision: 0.0755, Recall: 0.0559, F1 Score: 0.0396\n"
          ]
        },
        {
          "name": "stderr",
          "output_type": "stream",
          "text": [
            "c:\\Users\\gadda\\anaconda3\\envs\\mitbih\\lib\\site-packages\\sklearn\\metrics\\_classification.py:1565: UndefinedMetricWarning: Precision is ill-defined and being set to 0.0 in labels with no predicted samples. Use `zero_division` parameter to control this behavior.\n",
            "  _warn_prf(average, modifier, f\"{metric.capitalize()} is\", len(result))\n"
          ]
        },
        {
          "name": "stdout",
          "output_type": "stream",
          "text": [
            "Fold Accuracy: 0.0572, Precision: 0.0776, Recall: 0.0572, F1 Score: 0.0418\n"
          ]
        },
        {
          "name": "stderr",
          "output_type": "stream",
          "text": [
            "c:\\Users\\gadda\\anaconda3\\envs\\mitbih\\lib\\site-packages\\sklearn\\metrics\\_classification.py:1565: UndefinedMetricWarning: Precision is ill-defined and being set to 0.0 in labels with no predicted samples. Use `zero_division` parameter to control this behavior.\n",
            "  _warn_prf(average, modifier, f\"{metric.capitalize()} is\", len(result))\n"
          ]
        },
        {
          "name": "stdout",
          "output_type": "stream",
          "text": [
            "Fold Accuracy: 0.0570, Precision: 0.0771, Recall: 0.0570, F1 Score: 0.0411\n"
          ]
        },
        {
          "name": "stderr",
          "output_type": "stream",
          "text": [
            "c:\\Users\\gadda\\anaconda3\\envs\\mitbih\\lib\\site-packages\\sklearn\\metrics\\_classification.py:1565: UndefinedMetricWarning: Precision is ill-defined and being set to 0.0 in labels with no predicted samples. Use `zero_division` parameter to control this behavior.\n",
            "  _warn_prf(average, modifier, f\"{metric.capitalize()} is\", len(result))\n"
          ]
        },
        {
          "name": "stdout",
          "output_type": "stream",
          "text": [
            "Fold Accuracy: 0.0569, Precision: 0.0727, Recall: 0.0569, F1 Score: 0.0399\n",
            "Fold Accuracy: 0.0560, Precision: 0.0692, Recall: 0.0560, F1 Score: 0.0391\n",
            "Fold Accuracy: 0.0566, Precision: 0.7679, Recall: 0.0566, F1 Score: 0.0417\n",
            "Fold Accuracy: 0.0528, Precision: 0.0769, Recall: 0.0528, F1 Score: 0.0369\n",
            "Fold Accuracy: 0.0558, Precision: 0.0736, Recall: 0.0558, F1 Score: 0.0398\n",
            "Fold Accuracy: 0.0571, Precision: 0.0742, Recall: 0.0571, F1 Score: 0.0404\n",
            "\n",
            "Average Scores across all folds:\n",
            "Average Accuracy: 0.0562\n",
            "Average Precision: 0.1441\n",
            "Average Recall: 0.0562\n",
            "Average F1 Score: 0.0400\n"
          ]
        },
        {
          "name": "stderr",
          "output_type": "stream",
          "text": [
            "c:\\Users\\gadda\\anaconda3\\envs\\mitbih\\lib\\site-packages\\sklearn\\metrics\\_classification.py:1565: UndefinedMetricWarning: Precision is ill-defined and being set to 0.0 in labels with no predicted samples. Use `zero_division` parameter to control this behavior.\n",
            "  _warn_prf(average, modifier, f\"{metric.capitalize()} is\", len(result))\n"
          ]
        }
      ],
      "source": [
        "model_nb = GaussianNB()\n",
        "stratified_kfold_cv(X_train, y_train, model_nb, n_splits=10)\n",
        "print('*' * 100)\n",
        "print('without std')\n",
        "stratified_kfold_cv(X_train_wo_std, y_train, model_nb, n_splits=10)"
      ]
    },
    {
      "cell_type": "code",
      "execution_count": 70,
      "metadata": {
        "colab": {
          "base_uri": "https://localhost:8080/"
        },
        "id": "MJFDlXgItQ6u",
        "outputId": "135d1003-fc4c-49dc-eb65-442fcd333f72"
      },
      "outputs": [
        {
          "name": "stdout",
          "output_type": "stream",
          "text": [
            "Fold Accuracy: 0.9647, Precision: 0.9637, Recall: 0.9647, F1 Score: 0.9629\n",
            "Fold Accuracy: 0.9675, Precision: 0.9661, Recall: 0.9675, F1 Score: 0.9658\n",
            "Fold Accuracy: 0.9664, Precision: 0.9655, Recall: 0.9664, F1 Score: 0.9643\n",
            "Fold Accuracy: 0.9687, Precision: 0.9674, Recall: 0.9687, F1 Score: 0.9668\n",
            "Fold Accuracy: 0.9679, Precision: 0.9665, Recall: 0.9679, F1 Score: 0.9660\n",
            "Fold Accuracy: 0.9660, Precision: 0.9642, Recall: 0.9660, F1 Score: 0.9640\n",
            "Fold Accuracy: 0.9665, Precision: 0.9649, Recall: 0.9665, F1 Score: 0.9644\n",
            "Fold Accuracy: 0.9684, Precision: 0.9672, Recall: 0.9684, F1 Score: 0.9660\n",
            "Fold Accuracy: 0.9630, Precision: 0.9613, Recall: 0.9630, F1 Score: 0.9609\n",
            "Fold Accuracy: 0.9683, Precision: 0.9670, Recall: 0.9683, F1 Score: 0.9664\n",
            "\n",
            "Average Scores across all folds:\n",
            "Average Accuracy: 0.9667\n",
            "Average Precision: 0.9654\n",
            "Average Recall: 0.9667\n",
            "Average F1 Score: 0.9648\n",
            "****************************************************************************************************\n",
            "without std\n",
            "Fold Accuracy: 0.9302, Precision: 0.9225, Recall: 0.9302, F1 Score: 0.9175\n",
            "Fold Accuracy: 0.9293, Precision: 0.9205, Recall: 0.9293, F1 Score: 0.9149\n",
            "Fold Accuracy: 0.9254, Precision: 0.9136, Recall: 0.9254, F1 Score: 0.9101\n",
            "Fold Accuracy: 0.9307, Precision: 0.9197, Recall: 0.9307, F1 Score: 0.9167\n",
            "Fold Accuracy: 0.9283, Precision: 0.9187, Recall: 0.9283, F1 Score: 0.9150\n",
            "Fold Accuracy: 0.9272, Precision: 0.9146, Recall: 0.9272, F1 Score: 0.9134\n",
            "Fold Accuracy: 0.9288, Precision: 0.9184, Recall: 0.9288, F1 Score: 0.9146\n",
            "Fold Accuracy: 0.9289, Precision: 0.9226, Recall: 0.9289, F1 Score: 0.9147\n",
            "Fold Accuracy: 0.9278, Precision: 0.9174, Recall: 0.9278, F1 Score: 0.9134\n",
            "Fold Accuracy: 0.9312, Precision: 0.9227, Recall: 0.9312, F1 Score: 0.9173\n",
            "\n",
            "Average Scores across all folds:\n",
            "Average Accuracy: 0.9288\n",
            "Average Precision: 0.9191\n",
            "Average Recall: 0.9288\n",
            "Average F1 Score: 0.9148\n"
          ]
        }
      ],
      "source": [
        "model_knn = KNeighborsClassifier(n_neighbors=5, n_jobs=-1)\n",
        "stratified_kfold_cv(X_train, y_train, model_knn, n_splits=10)\n",
        "print('*' * 100)\n",
        "print('without std')\n",
        "stratified_kfold_cv(X_train_wo_std, y_train, model_knn, n_splits=10)"
      ]
    },
    {
      "cell_type": "code",
      "execution_count": 71,
      "metadata": {
        "colab": {
          "base_uri": "https://localhost:8080/",
          "height": 391
        },
        "id": "T4PNqWKotRKH",
        "outputId": "f950e447-de2d-49d6-c841-8138510eae22"
      },
      "outputs": [
        {
          "name": "stdout",
          "output_type": "stream",
          "text": [
            "Fold Accuracy: 0.9685, Precision: 0.9681, Recall: 0.9685, F1 Score: 0.9650\n",
            "Fold Accuracy: 0.9704, Precision: 0.9701, Recall: 0.9704, F1 Score: 0.9675\n",
            "Fold Accuracy: 0.9682, Precision: 0.9677, Recall: 0.9682, F1 Score: 0.9639\n",
            "Fold Accuracy: 0.9718, Precision: 0.9720, Recall: 0.9718, F1 Score: 0.9681\n",
            "Fold Accuracy: 0.9711, Precision: 0.9710, Recall: 0.9711, F1 Score: 0.9680\n",
            "Fold Accuracy: 0.9702, Precision: 0.9703, Recall: 0.9702, F1 Score: 0.9670\n",
            "Fold Accuracy: 0.9718, Precision: 0.9718, Recall: 0.9718, F1 Score: 0.9690\n",
            "Fold Accuracy: 0.9719, Precision: 0.9719, Recall: 0.9719, F1 Score: 0.9687\n",
            "Fold Accuracy: 0.9693, Precision: 0.9693, Recall: 0.9693, F1 Score: 0.9661\n",
            "Fold Accuracy: 0.9706, Precision: 0.9703, Recall: 0.9706, F1 Score: 0.9673\n",
            "\n",
            "Average Scores across all folds:\n",
            "Average Accuracy: 0.9704\n",
            "Average Precision: 0.9703\n",
            "Average Recall: 0.9704\n",
            "Average F1 Score: 0.9671\n",
            "****************************************************************************************************\n",
            "without std\n"
          ]
        },
        {
          "name": "stderr",
          "output_type": "stream",
          "text": [
            "c:\\Users\\gadda\\anaconda3\\envs\\mitbih\\lib\\site-packages\\sklearn\\metrics\\_classification.py:1565: UndefinedMetricWarning: Precision is ill-defined and being set to 0.0 in labels with no predicted samples. Use `zero_division` parameter to control this behavior.\n",
            "  _warn_prf(average, modifier, f\"{metric.capitalize()} is\", len(result))\n"
          ]
        },
        {
          "name": "stdout",
          "output_type": "stream",
          "text": [
            "Fold Accuracy: 0.9146, Precision: 0.8913, Recall: 0.9146, F1 Score: 0.8867\n"
          ]
        },
        {
          "name": "stderr",
          "output_type": "stream",
          "text": [
            "c:\\Users\\gadda\\anaconda3\\envs\\mitbih\\lib\\site-packages\\sklearn\\metrics\\_classification.py:1565: UndefinedMetricWarning: Precision is ill-defined and being set to 0.0 in labels with no predicted samples. Use `zero_division` parameter to control this behavior.\n",
            "  _warn_prf(average, modifier, f\"{metric.capitalize()} is\", len(result))\n"
          ]
        },
        {
          "name": "stdout",
          "output_type": "stream",
          "text": [
            "Fold Accuracy: 0.9134, Precision: 0.8864, Recall: 0.9134, F1 Score: 0.8852\n"
          ]
        },
        {
          "name": "stderr",
          "output_type": "stream",
          "text": [
            "c:\\Users\\gadda\\anaconda3\\envs\\mitbih\\lib\\site-packages\\sklearn\\metrics\\_classification.py:1565: UndefinedMetricWarning: Precision is ill-defined and being set to 0.0 in labels with no predicted samples. Use `zero_division` parameter to control this behavior.\n",
            "  _warn_prf(average, modifier, f\"{metric.capitalize()} is\", len(result))\n"
          ]
        },
        {
          "name": "stdout",
          "output_type": "stream",
          "text": [
            "Fold Accuracy: 0.9142, Precision: 0.8912, Recall: 0.9142, F1 Score: 0.8861\n"
          ]
        },
        {
          "name": "stderr",
          "output_type": "stream",
          "text": [
            "c:\\Users\\gadda\\anaconda3\\envs\\mitbih\\lib\\site-packages\\sklearn\\metrics\\_classification.py:1565: UndefinedMetricWarning: Precision is ill-defined and being set to 0.0 in labels with no predicted samples. Use `zero_division` parameter to control this behavior.\n",
            "  _warn_prf(average, modifier, f\"{metric.capitalize()} is\", len(result))\n"
          ]
        },
        {
          "name": "stdout",
          "output_type": "stream",
          "text": [
            "Fold Accuracy: 0.9197, Precision: 0.8971, Recall: 0.9197, F1 Score: 0.8938\n"
          ]
        },
        {
          "name": "stderr",
          "output_type": "stream",
          "text": [
            "c:\\Users\\gadda\\anaconda3\\envs\\mitbih\\lib\\site-packages\\sklearn\\metrics\\_classification.py:1565: UndefinedMetricWarning: Precision is ill-defined and being set to 0.0 in labels with no predicted samples. Use `zero_division` parameter to control this behavior.\n",
            "  _warn_prf(average, modifier, f\"{metric.capitalize()} is\", len(result))\n"
          ]
        },
        {
          "name": "stdout",
          "output_type": "stream",
          "text": [
            "Fold Accuracy: 0.9159, Precision: 0.8894, Recall: 0.9159, F1 Score: 0.8882\n"
          ]
        },
        {
          "name": "stderr",
          "output_type": "stream",
          "text": [
            "c:\\Users\\gadda\\anaconda3\\envs\\mitbih\\lib\\site-packages\\sklearn\\metrics\\_classification.py:1565: UndefinedMetricWarning: Precision is ill-defined and being set to 0.0 in labels with no predicted samples. Use `zero_division` parameter to control this behavior.\n",
            "  _warn_prf(average, modifier, f\"{metric.capitalize()} is\", len(result))\n"
          ]
        },
        {
          "name": "stdout",
          "output_type": "stream",
          "text": [
            "Fold Accuracy: 0.9165, Precision: 0.8907, Recall: 0.9165, F1 Score: 0.8888\n"
          ]
        },
        {
          "name": "stderr",
          "output_type": "stream",
          "text": [
            "c:\\Users\\gadda\\anaconda3\\envs\\mitbih\\lib\\site-packages\\sklearn\\metrics\\_classification.py:1565: UndefinedMetricWarning: Precision is ill-defined and being set to 0.0 in labels with no predicted samples. Use `zero_division` parameter to control this behavior.\n",
            "  _warn_prf(average, modifier, f\"{metric.capitalize()} is\", len(result))\n"
          ]
        },
        {
          "name": "stdout",
          "output_type": "stream",
          "text": [
            "Fold Accuracy: 0.9164, Precision: 0.8942, Recall: 0.9164, F1 Score: 0.8895\n"
          ]
        },
        {
          "name": "stderr",
          "output_type": "stream",
          "text": [
            "c:\\Users\\gadda\\anaconda3\\envs\\mitbih\\lib\\site-packages\\sklearn\\metrics\\_classification.py:1565: UndefinedMetricWarning: Precision is ill-defined and being set to 0.0 in labels with no predicted samples. Use `zero_division` parameter to control this behavior.\n",
            "  _warn_prf(average, modifier, f\"{metric.capitalize()} is\", len(result))\n"
          ]
        },
        {
          "name": "stdout",
          "output_type": "stream",
          "text": [
            "Fold Accuracy: 0.9141, Precision: 0.8900, Recall: 0.9141, F1 Score: 0.8855\n"
          ]
        },
        {
          "name": "stderr",
          "output_type": "stream",
          "text": [
            "c:\\Users\\gadda\\anaconda3\\envs\\mitbih\\lib\\site-packages\\sklearn\\metrics\\_classification.py:1565: UndefinedMetricWarning: Precision is ill-defined and being set to 0.0 in labels with no predicted samples. Use `zero_division` parameter to control this behavior.\n",
            "  _warn_prf(average, modifier, f\"{metric.capitalize()} is\", len(result))\n"
          ]
        },
        {
          "name": "stdout",
          "output_type": "stream",
          "text": [
            "Fold Accuracy: 0.9159, Precision: 0.8887, Recall: 0.9159, F1 Score: 0.8882\n",
            "Fold Accuracy: 0.9177, Precision: 0.8962, Recall: 0.9177, F1 Score: 0.8901\n",
            "\n",
            "Average Scores across all folds:\n",
            "Average Accuracy: 0.9158\n",
            "Average Precision: 0.8915\n",
            "Average Recall: 0.9158\n",
            "Average F1 Score: 0.8882\n"
          ]
        },
        {
          "name": "stderr",
          "output_type": "stream",
          "text": [
            "c:\\Users\\gadda\\anaconda3\\envs\\mitbih\\lib\\site-packages\\sklearn\\metrics\\_classification.py:1565: UndefinedMetricWarning: Precision is ill-defined and being set to 0.0 in labels with no predicted samples. Use `zero_division` parameter to control this behavior.\n",
            "  _warn_prf(average, modifier, f\"{metric.capitalize()} is\", len(result))\n"
          ]
        }
      ],
      "source": [
        "model_rf = RandomForestClassifier(n_estimators = 500, max_depth = 10, n_jobs=-1, random_state=42)\n",
        "stratified_kfold_cv(X_train, y_train, model_rf, n_splits=10)\n",
        "print('*' * 100)\n",
        "print('without std')\n",
        "stratified_kfold_cv(X_train_wo_std, y_train, model_rf, n_splits=10)"
      ]
    },
    {
      "cell_type": "code",
      "execution_count": 10,
      "metadata": {
        "id": "HdrDKFtbtTpq"
      },
      "outputs": [
        {
          "name": "stdout",
          "output_type": "stream",
          "text": [
            "Fold Accuracy: 0.9678, Precision: 0.9681, Recall: 0.9678, F1 Score: 0.9667\n",
            "Fold Accuracy: 0.9704, Precision: 0.9708, Recall: 0.9704, F1 Score: 0.9693\n",
            "Fold Accuracy: 0.9681, Precision: 0.9684, Recall: 0.9681, F1 Score: 0.9666\n",
            "Fold Accuracy: 0.9705, Precision: 0.9706, Recall: 0.9705, F1 Score: 0.9690\n",
            "Fold Accuracy: 0.9742, Precision: 0.9747, Recall: 0.9742, F1 Score: 0.9735\n",
            "Fold Accuracy: 0.9687, Precision: 0.9692, Recall: 0.9687, F1 Score: 0.9675\n",
            "Fold Accuracy: 0.9700, Precision: 0.9705, Recall: 0.9700, F1 Score: 0.9690\n",
            "Fold Accuracy: 0.9685, Precision: 0.9685, Recall: 0.9685, F1 Score: 0.9672\n",
            "Fold Accuracy: 0.9681, Precision: 0.9690, Recall: 0.9681, F1 Score: 0.9671\n",
            "Fold Accuracy: 0.9726, Precision: 0.9733, Recall: 0.9726, F1 Score: 0.9714\n",
            "\n",
            "Average Scores across all folds:\n",
            "Average Accuracy: 0.9699\n",
            "Average Precision: 0.9703\n",
            "Average Recall: 0.9699\n",
            "Average F1 Score: 0.9687\n",
            "****************************************************************************************************\n",
            "without std\n",
            "Fold Accuracy: 0.9283, Precision: 0.9238, Recall: 0.9283, F1 Score: 0.9133\n",
            "Fold Accuracy: 0.9273, Precision: 0.9231, Recall: 0.9273, F1 Score: 0.9113\n",
            "Fold Accuracy: 0.9229, Precision: 0.9168, Recall: 0.9229, F1 Score: 0.9053\n",
            "Fold Accuracy: 0.9281, Precision: 0.9229, Recall: 0.9281, F1 Score: 0.9113\n",
            "Fold Accuracy: 0.9275, Precision: 0.9202, Recall: 0.9275, F1 Score: 0.9113\n",
            "Fold Accuracy: 0.9254, Precision: 0.9202, Recall: 0.9254, F1 Score: 0.9099\n",
            "Fold Accuracy: 0.9275, Precision: 0.9222, Recall: 0.9275, F1 Score: 0.9120\n",
            "Fold Accuracy: 0.9254, Precision: 0.9200, Recall: 0.9254, F1 Score: 0.9093\n",
            "Fold Accuracy: 0.9241, Precision: 0.9163, Recall: 0.9241, F1 Score: 0.9080\n",
            "Fold Accuracy: 0.9290, Precision: 0.9227, Recall: 0.9290, F1 Score: 0.9134\n",
            "\n",
            "Average Scores across all folds:\n",
            "Average Accuracy: 0.9265\n",
            "Average Precision: 0.9208\n",
            "Average Recall: 0.9265\n",
            "Average F1 Score: 0.9105\n"
          ]
        }
      ],
      "source": [
        "model = SVC(kernel='rbf')\n",
        "stratified_kfold_cv(X_train, y_train, model, n_splits=10)\n",
        "print('*' * 100)\n",
        "print('without std')\n",
        "stratified_kfold_cv(X_train_wo_std, y_train, model, n_splits=10)"
      ]
    },
    {
      "cell_type": "code",
      "execution_count": 11,
      "metadata": {
        "id": "sMu_TObctUVa"
      },
      "outputs": [],
      "source": [
        "# model = SVC(kernel='linear')\n",
        "# stratified_kfold_cv(X_train, y_train, model, n_splits=10)\n",
        "# print('*' * 100)\n",
        "# print('without std')\n",
        "# stratified_kfold_cv(X_train_wo_std, y_train, model, n_splits=10)"
      ]
    },
    {
      "cell_type": "code",
      "execution_count": 12,
      "metadata": {
        "id": "FwfV5rNxtUKX"
      },
      "outputs": [
        {
          "name": "stdout",
          "output_type": "stream",
          "text": [
            "Fold Accuracy: 0.9670, Precision: 0.9659, Recall: 0.9670, F1 Score: 0.9659\n",
            "Fold Accuracy: 0.9687, Precision: 0.9674, Recall: 0.9687, F1 Score: 0.9675\n",
            "Fold Accuracy: 0.9637, Precision: 0.9612, Recall: 0.9637, F1 Score: 0.9614\n",
            "Fold Accuracy: 0.9681, Precision: 0.9664, Recall: 0.9681, F1 Score: 0.9663\n",
            "Fold Accuracy: 0.9706, Precision: 0.9692, Recall: 0.9706, F1 Score: 0.9694\n",
            "Fold Accuracy: 0.9676, Precision: 0.9661, Recall: 0.9676, F1 Score: 0.9661\n",
            "Fold Accuracy: 0.9663, Precision: 0.9651, Recall: 0.9663, F1 Score: 0.9651\n",
            "Fold Accuracy: 0.9653, Precision: 0.9634, Recall: 0.9653, F1 Score: 0.9632\n",
            "Fold Accuracy: 0.9634, Precision: 0.9614, Recall: 0.9634, F1 Score: 0.9617\n",
            "Fold Accuracy: 0.9683, Precision: 0.9670, Recall: 0.9683, F1 Score: 0.9669\n",
            "\n",
            "Average Scores across all folds:\n",
            "Average Accuracy: 0.9669\n",
            "Average Precision: 0.9653\n",
            "Average Recall: 0.9669\n",
            "Average F1 Score: 0.9653\n",
            "****************************************************************************************************\n",
            "without std\n",
            "Fold Accuracy: 0.9297, Precision: 0.9200, Recall: 0.9297, F1 Score: 0.9155\n",
            "Fold Accuracy: 0.9278, Precision: 0.9163, Recall: 0.9278, F1 Score: 0.9126\n",
            "Fold Accuracy: 0.9232, Precision: 0.9112, Recall: 0.9232, F1 Score: 0.9062\n",
            "Fold Accuracy: 0.9277, Precision: 0.9154, Recall: 0.9277, F1 Score: 0.9119\n",
            "Fold Accuracy: 0.9265, Precision: 0.9146, Recall: 0.9265, F1 Score: 0.9110\n",
            "Fold Accuracy: 0.9250, Precision: 0.9111, Recall: 0.9250, F1 Score: 0.9092\n",
            "Fold Accuracy: 0.9271, Precision: 0.9166, Recall: 0.9271, F1 Score: 0.9121\n",
            "Fold Accuracy: 0.9255, Precision: 0.9161, Recall: 0.9255, F1 Score: 0.9097\n",
            "Fold Accuracy: 0.9266, Precision: 0.9168, Recall: 0.9266, F1 Score: 0.9110\n",
            "Fold Accuracy: 0.9312, Precision: 0.9219, Recall: 0.9312, F1 Score: 0.9166\n",
            "\n",
            "Average Scores across all folds:\n",
            "Average Accuracy: 0.9270\n",
            "Average Precision: 0.9160\n",
            "Average Recall: 0.9270\n",
            "Average F1 Score: 0.9116\n"
          ]
        }
      ],
      "source": [
        "model = SVC(kernel='poly')\n",
        "stratified_kfold_cv(X_train, y_train, model, n_splits=10)\n",
        "print('*' * 100)\n",
        "print('without std')\n",
        "stratified_kfold_cv(X_train_wo_std, y_train, model, n_splits=10)"
      ]
    },
    {
      "cell_type": "code",
      "execution_count": 13,
      "metadata": {
        "id": "cXtVuIqstXb4"
      },
      "outputs": [
        {
          "name": "stdout",
          "output_type": "stream",
          "text": [
            "Fold Accuracy: 0.8200, Precision: 0.7973, Recall: 0.8200, F1 Score: 0.8078\n",
            "Fold Accuracy: 0.8263, Precision: 0.8135, Recall: 0.8263, F1 Score: 0.8169\n",
            "Fold Accuracy: 0.8249, Precision: 0.8092, Recall: 0.8249, F1 Score: 0.8143\n",
            "Fold Accuracy: 0.8283, Precision: 0.8092, Recall: 0.8283, F1 Score: 0.8156\n",
            "Fold Accuracy: 0.8322, Precision: 0.8142, Recall: 0.8322, F1 Score: 0.8190\n",
            "Fold Accuracy: 0.8266, Precision: 0.8071, Recall: 0.8266, F1 Score: 0.8158\n",
            "Fold Accuracy: 0.8263, Precision: 0.8041, Recall: 0.8263, F1 Score: 0.8138\n",
            "Fold Accuracy: 0.8300, Precision: 0.8086, Recall: 0.8300, F1 Score: 0.8157\n",
            "Fold Accuracy: 0.8249, Precision: 0.8172, Recall: 0.8249, F1 Score: 0.8167\n",
            "Fold Accuracy: 0.8322, Precision: 0.8109, Recall: 0.8322, F1 Score: 0.8201\n",
            "\n",
            "Average Scores across all folds:\n",
            "Average Accuracy: 0.8272\n",
            "Average Precision: 0.8091\n",
            "Average Recall: 0.8272\n",
            "Average F1 Score: 0.8156\n",
            "****************************************************************************************************\n",
            "without std\n",
            "Fold Accuracy: 0.8611, Precision: 0.8292, Recall: 0.8611, F1 Score: 0.8432\n",
            "Fold Accuracy: 0.8541, Precision: 0.8271, Recall: 0.8541, F1 Score: 0.8390\n",
            "Fold Accuracy: 0.8642, Precision: 0.8284, Recall: 0.8642, F1 Score: 0.8444\n",
            "Fold Accuracy: 0.8639, Precision: 0.8306, Recall: 0.8639, F1 Score: 0.8455\n",
            "Fold Accuracy: 0.8607, Precision: 0.8310, Recall: 0.8607, F1 Score: 0.8441\n",
            "Fold Accuracy: 0.8596, Precision: 0.8274, Recall: 0.8596, F1 Score: 0.8421\n",
            "Fold Accuracy: 0.8619, Precision: 0.8281, Recall: 0.8619, F1 Score: 0.8436\n",
            "Fold Accuracy: 0.8670, Precision: 0.8323, Recall: 0.8670, F1 Score: 0.8483\n",
            "Fold Accuracy: 0.8614, Precision: 0.8246, Recall: 0.8614, F1 Score: 0.8406\n",
            "Fold Accuracy: 0.8667, Precision: 0.8325, Recall: 0.8667, F1 Score: 0.8479\n",
            "\n",
            "Average Scores across all folds:\n",
            "Average Accuracy: 0.8620\n",
            "Average Precision: 0.8291\n",
            "Average Recall: 0.8620\n",
            "Average F1 Score: 0.8439\n"
          ]
        }
      ],
      "source": [
        "model = SVC(kernel='sigmoid')\n",
        "stratified_kfold_cv(X_train, y_train, model, n_splits=10)\n",
        "print('*' * 100)\n",
        "print('without std')\n",
        "stratified_kfold_cv(X_train_wo_std, y_train, model, n_splits=10)"
      ]
    },
    {
      "cell_type": "code",
      "execution_count": 17,
      "metadata": {
        "id": "x-ugXSeYtY6n"
      },
      "outputs": [],
      "source": [
        "import tensorflow as tf\n",
        "from tensorflow.keras.models import Sequential\n",
        "from tensorflow.keras.layers import Conv1D, MaxPooling1D, Input, LSTM, Dense, Flatten, Dropout, BatchNormalization"
      ]
    },
    {
      "cell_type": "code",
      "execution_count": 18,
      "metadata": {
        "id": "JSdWT5MztbEt"
      },
      "outputs": [],
      "source": [
        "def stratified_kfold_cv_nn(X, y, model, n_splits=10, batch_size=64, lstm=False):\n",
        "\n",
        "    # Initialize StratifiedKFold for cross-validation\n",
        "    skf = StratifiedKFold(n_splits=n_splits, shuffle=True, random_state=42)\n",
        "\n",
        "    # Initialize lists to store scores for each fold\n",
        "    f1_scores = []\n",
        "    precision_scores = []\n",
        "    recall_scores = []\n",
        "    accuracy_scores = []\n",
        "    scaler = StandardScaler()\n",
        "\n",
        "    # Perform Stratified K-Fold Cross Validation\n",
        "    for train_idx, val_idx in skf.split(X, y):\n",
        "        # Get the training and validation sets for each fold\n",
        "        X_train_fold, X_val_fold = X[train_idx], X[val_idx]\n",
        "        y_train_fold, y_val_fold = y[train_idx], y[val_idx]\n",
        "        X_train_fold = scaler.fit_transform(X_train_fold)\n",
        "        X_val_fold = scaler.transform(X_val_fold)\n",
        "\n",
        "        if lstm == True:\n",
        "            # Reshape to (samples, timesteps, features)\n",
        "            X_train_fold = X_train_fold.reshape(X_train_fold.shape[0], X_train_fold.shape[1], 1)\n",
        "            X_val_fold = X_val_fold.reshape(X_val_fold.shape[0], X_val_fold.shape[1], 1)\n",
        "\n",
        "        # Train the model\n",
        "\n",
        "        model.fit(\n",
        "            X_train_fold, y_train_fold,\n",
        "            epochs=20,\n",
        "            batch_size=batch_size,\n",
        "            validation_data=(X_val_fold, y_val_fold),\n",
        "            verbose=0\n",
        "        )\n",
        "\n",
        "        # Predict on the validation fold\n",
        "        y_val_pred = np.argmax(model.predict(X_val_fold), axis=1)\n",
        "\n",
        "        # Calculate Precision, Recall, F1 Score, and Accuracy for the current fold\n",
        "        precision = precision_score(y_val_fold, y_val_pred, average='weighted')\n",
        "        recall = recall_score(y_val_fold, y_val_pred, average='weighted')\n",
        "        f1 = f1_score(y_val_fold, y_val_pred, average='weighted')\n",
        "        accuracy = accuracy_score(y_val_fold, y_val_pred)\n",
        "\n",
        "        # Append the scores for the fold\n",
        "        precision_scores.append(precision)\n",
        "        recall_scores.append(recall)\n",
        "        f1_scores.append(f1)\n",
        "        accuracy_scores.append(accuracy)\n",
        "\n",
        "        print(f\"Fold Accuracy: {accuracy:.4f}, Precision: {precision:.4f}, Recall: {recall:.4f}, F1 Score: {f1:.4f}\")\n",
        "\n",
        "    # Calculate and print the average scores across all folds\n",
        "    avg_precision = np.mean(precision_scores)\n",
        "    avg_recall = np.mean(recall_scores)\n",
        "    avg_f1 = np.mean(f1_scores)\n",
        "    avg_accuracy = np.mean(accuracy_scores)\n",
        "\n",
        "    print(\"\\nAverage Scores across all folds:\")\n",
        "    print(f\"Average Accuracy: {avg_accuracy:.4f}\")\n",
        "    print(f\"Average Precision: {avg_precision:.4f}\")\n",
        "    print(f\"Average Recall: {avg_recall:.4f}\")\n",
        "    print(f\"Average F1 Score: {avg_f1:.4f}\")"
      ]
    },
    {
      "cell_type": "code",
      "execution_count": 16,
      "metadata": {
        "colab": {
          "base_uri": "https://localhost:8080/"
        },
        "id": "RHx6rQ5gtdt2",
        "outputId": "5c140c1b-d5c0-4b15-9e2a-85dd2fc1068f"
      },
      "outputs": [
        {
          "name": "stdout",
          "output_type": "stream",
          "text": [
            "model_mlp batch_size: 64\n",
            "\u001b[1m260/260\u001b[0m \u001b[32m━━━━━━━━━━━━━━━━━━━━\u001b[0m\u001b[37m\u001b[0m \u001b[1m1s\u001b[0m 3ms/step\n",
            "Fold Accuracy: 0.9760, Precision: 0.9753, Recall: 0.9760, F1 Score: 0.9753\n",
            "\u001b[1m260/260\u001b[0m \u001b[32m━━━━━━━━━━━━━━━━━━━━\u001b[0m\u001b[37m\u001b[0m \u001b[1m1s\u001b[0m 2ms/step\n",
            "Fold Accuracy: 0.9851, Precision: 0.9847, Recall: 0.9851, F1 Score: 0.9847\n",
            "\u001b[1m260/260\u001b[0m \u001b[32m━━━━━━━━━━━━━━━━━━━━\u001b[0m\u001b[37m\u001b[0m \u001b[1m1s\u001b[0m 2ms/step\n",
            "Fold Accuracy: 0.9876, Precision: 0.9873, Recall: 0.9876, F1 Score: 0.9871\n",
            "\u001b[1m260/260\u001b[0m \u001b[32m━━━━━━━━━━━━━━━━━━━━\u001b[0m\u001b[37m\u001b[0m \u001b[1m1s\u001b[0m 4ms/step\n",
            "Fold Accuracy: 0.9890, Precision: 0.9889, Recall: 0.9890, F1 Score: 0.9887\n",
            "\u001b[1m260/260\u001b[0m \u001b[32m━━━━━━━━━━━━━━━━━━━━\u001b[0m\u001b[37m\u001b[0m \u001b[1m0s\u001b[0m 1ms/step\n",
            "Fold Accuracy: 0.9914, Precision: 0.9914, Recall: 0.9914, F1 Score: 0.9913\n",
            "\u001b[1m260/260\u001b[0m \u001b[32m━━━━━━━━━━━━━━━━━━━━\u001b[0m\u001b[37m\u001b[0m \u001b[1m1s\u001b[0m 3ms/step\n",
            "Fold Accuracy: 0.9911, Precision: 0.9910, Recall: 0.9911, F1 Score: 0.9909\n",
            "\u001b[1m260/260\u001b[0m \u001b[32m━━━━━━━━━━━━━━━━━━━━\u001b[0m\u001b[37m\u001b[0m \u001b[1m1s\u001b[0m 2ms/step\n",
            "Fold Accuracy: 0.9906, Precision: 0.9905, Recall: 0.9906, F1 Score: 0.9905\n",
            "\u001b[1m260/260\u001b[0m \u001b[32m━━━━━━━━━━━━━━━━━━━━\u001b[0m\u001b[37m\u001b[0m \u001b[1m1s\u001b[0m 2ms/step\n",
            "Fold Accuracy: 0.9916, Precision: 0.9915, Recall: 0.9916, F1 Score: 0.9914\n",
            "\u001b[1m260/260\u001b[0m \u001b[32m━━━━━━━━━━━━━━━━━━━━\u001b[0m\u001b[37m\u001b[0m \u001b[1m1s\u001b[0m 3ms/step\n",
            "Fold Accuracy: 0.9934, Precision: 0.9934, Recall: 0.9934, F1 Score: 0.9933\n",
            "\u001b[1m260/260\u001b[0m \u001b[32m━━━━━━━━━━━━━━━━━━━━\u001b[0m\u001b[37m\u001b[0m \u001b[1m1s\u001b[0m 2ms/step\n",
            "Fold Accuracy: 0.9936, Precision: 0.9936, Recall: 0.9936, F1 Score: 0.9936\n",
            "\n",
            "Average Scores across all folds:\n",
            "Average Accuracy: 0.9889\n",
            "Average Precision: 0.9888\n",
            "Average Recall: 0.9889\n",
            "Average F1 Score: 0.9887\n",
            "****************************************************************************************************\n",
            "\u001b[1m260/260\u001b[0m \u001b[32m━━━━━━━━━━━━━━━━━━━━\u001b[0m\u001b[37m\u001b[0m \u001b[1m1s\u001b[0m 3ms/step\n",
            "Fold Accuracy: 0.9382, Precision: 0.9319, Recall: 0.9382, F1 Score: 0.9277\n",
            "\u001b[1m260/260\u001b[0m \u001b[32m━━━━━━━━━━━━━━━━━━━━\u001b[0m\u001b[37m\u001b[0m \u001b[1m1s\u001b[0m 3ms/step\n",
            "Fold Accuracy: 0.9423, Precision: 0.9374, Recall: 0.9423, F1 Score: 0.9334\n",
            "\u001b[1m260/260\u001b[0m \u001b[32m━━━━━━━━━━━━━━━━━━━━\u001b[0m\u001b[37m\u001b[0m \u001b[1m1s\u001b[0m 3ms/step\n",
            "Fold Accuracy: 0.9423, Precision: 0.9391, Recall: 0.9423, F1 Score: 0.9323\n",
            "\u001b[1m260/260\u001b[0m \u001b[32m━━━━━━━━━━━━━━━━━━━━\u001b[0m\u001b[37m\u001b[0m \u001b[1m1s\u001b[0m 2ms/step\n",
            "Fold Accuracy: 0.9479, Precision: 0.9475, Recall: 0.9479, F1 Score: 0.9386\n",
            "\u001b[1m260/260\u001b[0m \u001b[32m━━━━━━━━━━━━━━━━━━━━\u001b[0m\u001b[37m\u001b[0m \u001b[1m1s\u001b[0m 3ms/step\n",
            "Fold Accuracy: 0.9452, Precision: 0.9436, Recall: 0.9452, F1 Score: 0.9360\n",
            "\u001b[1m260/260\u001b[0m \u001b[32m━━━━━━━━━━━━━━━━━━━━\u001b[0m\u001b[37m\u001b[0m \u001b[1m1s\u001b[0m 3ms/step\n",
            "Fold Accuracy: 0.9477, Precision: 0.9473, Recall: 0.9477, F1 Score: 0.9383\n",
            "\u001b[1m260/260\u001b[0m \u001b[32m━━━━━━━━━━━━━━━━━━━━\u001b[0m\u001b[37m\u001b[0m \u001b[1m1s\u001b[0m 2ms/step\n",
            "Fold Accuracy: 0.9481, Precision: 0.9473, Recall: 0.9481, F1 Score: 0.9390\n",
            "\u001b[1m260/260\u001b[0m \u001b[32m━━━━━━━━━━━━━━━━━━━━\u001b[0m\u001b[37m\u001b[0m \u001b[1m1s\u001b[0m 3ms/step\n",
            "Fold Accuracy: 0.9477, Precision: 0.9465, Recall: 0.9477, F1 Score: 0.9393\n",
            "\u001b[1m260/260\u001b[0m \u001b[32m━━━━━━━━━━━━━━━━━━━━\u001b[0m\u001b[37m\u001b[0m \u001b[1m1s\u001b[0m 3ms/step\n",
            "Fold Accuracy: 0.9481, Precision: 0.9484, Recall: 0.9481, F1 Score: 0.9390\n",
            "\u001b[1m260/260\u001b[0m \u001b[32m━━━━━━━━━━━━━━━━━━━━\u001b[0m\u001b[37m\u001b[0m \u001b[1m1s\u001b[0m 3ms/step\n",
            "Fold Accuracy: 0.9495, Precision: 0.9475, Recall: 0.9495, F1 Score: 0.9411\n",
            "\n",
            "Average Scores across all folds:\n",
            "Average Accuracy: 0.9457\n",
            "Average Precision: 0.9436\n",
            "Average Recall: 0.9457\n",
            "Average F1 Score: 0.9365\n"
          ]
        }
      ],
      "source": [
        "model_mlp = Sequential([\n",
        "    Input(shape=(X_train.shape[1],)),\n",
        "    Dense(256, activation='relu'),\n",
        "\n",
        "    Dense(128, activation='relu'),\n",
        "\n",
        "    Dense(64, activation='relu'),\n",
        "\n",
        "    Dense(32, activation='relu'),\n",
        "    Dense(5, activation='softmax')\n",
        "])\n",
        "\n",
        "\n",
        "model_mlp.compile(loss='sparse_categorical_crossentropy', optimizer='adam', metrics=['accuracy'])\n",
        "\n",
        "batch_sizes = [64]\n",
        "for bs in batch_sizes:\n",
        "    print(f'model_mlp batch_size: {bs}')\n",
        "    stratified_kfold_cv_nn(X_train, y_train, model_mlp, n_splits=10, batch_size=bs, lstm=False)\n",
        "    print('*' * 100)\n",
        "    stratified_kfold_cv_nn(X_train_wo_std, y_train, model_mlp, n_splits=10, batch_size=bs, lstm=False)"
      ]
    },
    {
      "cell_type": "code",
      "execution_count": null,
      "metadata": {
        "colab": {
          "base_uri": "https://localhost:8080/"
        },
        "id": "3OqpeljNtdpe",
        "outputId": "4c6699bb-d3f1-4c23-e5a4-8060cac51d87"
      },
      "outputs": [
        {
          "name": "stdout",
          "output_type": "stream",
          "text": [
            "model_lstm batch_size: 64\n"
          ]
        }
      ],
      "source": [
        "model_lstm = Sequential([\n",
        "    Input(shape=(X_train.shape[1], 1)),\n",
        "\n",
        "\n",
        "    LSTM(128, return_sequences=True),\n",
        "    LSTM(64, return_sequences=True),\n",
        "    LSTM(32),\n",
        "\n",
        "\n",
        "    Dense(128, activation='relu'),\n",
        "    Dense(5, activation='softmax')\n",
        "])\n",
        "\n",
        "model_lstm.compile(loss='sparse_categorical_crossentropy', optimizer='adam', metrics=['accuracy'])\n",
        "\n",
        "\n",
        "for bs in batch_sizes:\n",
        "    print(f'model_lstm batch_size: {bs}')\n",
        "    stratified_kfold_cv_nn(X_train, y_train, model_lstm, n_splits=10, batch_size=bs, lstm=True)\n",
        "    print('*' * 100)\n",
        "    stratified_kfold_cv_nn(X_train_wo_std, y_train, model_lstm, n_splits=10, batch_size=bs, lstm=True)"
      ]
    },
    {
      "cell_type": "code",
      "execution_count": 19,
      "metadata": {
        "colab": {
          "base_uri": "https://localhost:8080/"
        },
        "id": "PLoC7xLrtgfT",
        "outputId": "b5e273a1-3d7f-4f28-c15a-73849aa3d128"
      },
      "outputs": [],
      "source": [
        "model_cnn = Sequential([\n",
        "    Input(shape=(X_train.shape[1], 1)),  # Ensure X_train_reduced.shape[1] matches the number of features\n",
        "\n",
        "    Conv1D(filters=32, kernel_size=3, activation='relu', padding='same'),\n",
        "    MaxPooling1D(pool_size=2),  # Increased pool size to downsample the sequence length\n",
        "\n",
        "    Conv1D(filters=64, kernel_size=3, activation='relu', padding='same'),\n",
        "    MaxPooling1D(pool_size=2),  # Increased pool size\n",
        "\n",
        "    Flatten(),\n",
        "    Dense(128, activation='relu'),\n",
        "    Dense(64, activation='relu'),\n",
        "    Dense(5, activation='softmax')  # Output layer for 5 classes\n",
        "])\n",
        "\n",
        "model_cnn.compile(loss='sparse_categorical_crossentropy', optimizer='adam', metrics=['accuracy'])\n",
        "\n",
        "# for bs in batch_sizes:\n",
        "#     print(f'model_mlp batch_size: {bs}')\n",
        "#     stratified_kfold_cv_nn(X_train, y_train, model_cnn, n_splits=10, batch_size=bs, lstm=True)\n",
        "#     print('*' * 100)\n",
        "\n",
        "#     stratified_kfold_cv_nn(X_train_wo_std, y_train, model_cnn, n_splits=10, batch_size=bs, lstm=True)\n",
        "\n"
      ]
    },
    {
      "cell_type": "code",
      "execution_count": 20,
      "metadata": {
        "id": "OA9h14jeH0Pk"
      },
      "outputs": [
        {
          "name": "stdout",
          "output_type": "stream",
          "text": [
            "\u001b[1m649/649\u001b[0m \u001b[32m━━━━━━━━━━━━━━━━━━━━\u001b[0m\u001b[37m\u001b[0m \u001b[1m2s\u001b[0m 3ms/step\n",
            "\u001b[1m649/649\u001b[0m \u001b[32m━━━━━━━━━━━━━━━━━━━━\u001b[0m\u001b[37m\u001b[0m \u001b[1m1s\u001b[0m 2ms/step\n"
          ]
        }
      ],
      "source": [
        "history = model_cnn.fit(\n",
        "            X_train.reshape(X_train.shape[0], X_train.shape[1],1), y_train,\n",
        "            epochs=20,\n",
        "            batch_size=64,\n",
        "            verbose=0\n",
        "        )\n",
        "y_pred = np.argmax(model_cnn.predict(X_test.reshape(X_test.shape[0], X_test.shape[1],1)), axis=1)\n",
        "history_wo_std = model_cnn.fit(\n",
        "            X_train_wo_std.reshape(X_train.shape[0], X_train.shape[1],1), y_train,\n",
        "            epochs=20,\n",
        "            batch_size=64,\n",
        "            verbose=0\n",
        "        )\n",
        "y_pred_wo_std = np.argmax(model_cnn.predict(X_test_wo_std.reshape(X_test.shape[0], X_test.shape[1],1)), axis=1)\n"
      ]
    },
    {
      "cell_type": "code",
      "execution_count": 21,
      "metadata": {},
      "outputs": [
        {
          "name": "stdout",
          "output_type": "stream",
          "text": [
            "Unique values in y_true_labels: {'S', 'V', 'N', 'Q', 'F'}\n",
            "Unique values in y_pred_labels: {'S', 'V', 'N', 'Q', 'F'}\n",
            "\n",
            "Classification Report:\n",
            "               precision    recall  f1-score   support\n",
            "\n",
            "           N       0.99      0.99      0.99     18025\n",
            "           S       0.89      0.79      0.84       556\n",
            "           V       0.97      0.95      0.96      1402\n",
            "           F       0.83      0.62      0.71       161\n",
            "           Q       0.94      0.93      0.94       601\n",
            "\n",
            "    accuracy                           0.98     20745\n",
            "   macro avg       0.92      0.86      0.89     20745\n",
            "weighted avg       0.98      0.98      0.98     20745\n",
            "\n"
          ]
        },
        {
          "data": {
            "image/png": "[encoded data removed]",
            "text/plain": [
              "<Figure size 600x500 with 2 Axes>"
            ]
          },
          "metadata": {},
          "output_type": "display_data"
        }
      ],
      "source": [
        "confusion_matrix_plot(y_test, y_pred)"
      ]
    },
    {
      "cell_type": "code",
      "execution_count": 22,
      "metadata": {},
      "outputs": [
        {
          "name": "stdout",
          "output_type": "stream",
          "text": [
            "Unique values in y_true_labels: {'S', 'V', 'N', 'Q', 'F'}\n",
            "Unique values in y_pred_labels: {'S', 'V', 'N', 'Q', 'F'}\n",
            "\n",
            "Classification Report:\n",
            "               precision    recall  f1-score   support\n",
            "\n",
            "           N       0.94      0.99      0.97     18025\n",
            "           S       0.68      0.19      0.29       556\n",
            "           V       0.92      0.80      0.86      1402\n",
            "           F       0.86      0.55      0.67       161\n",
            "           Q       0.87      0.46      0.60       601\n",
            "\n",
            "    accuracy                           0.94     20745\n",
            "   macro avg       0.85      0.60      0.68     20745\n",
            "weighted avg       0.93      0.94      0.93     20745\n",
            "\n"
          ]
        },
        {
          "data": {
            "image/png": "[encoded data removed]",
            "text/plain": [
              "<Figure size 600x500 with 2 Axes>"
            ]
          },
          "metadata": {},
          "output_type": "display_data"
        }
      ],
      "source": [
        "confusion_matrix_plot(y_test, y_pred_wo_std)"
      ]
    },
    {
      "cell_type": "code",
      "execution_count": 23,
      "metadata": {},
      "outputs": [],
      "source": [
        "def plot_history(history):\n",
        "\n",
        "    epochs = range(1, len(history.history['loss']) + 1)\n",
        "    \n",
        "  \n",
        "    plt.figure(figsize=(12, 5))\n",
        "\n",
        "\n",
        "    plt.subplot(1, 2, 1)\n",
        "    plt.plot(epochs, history.history['loss'], label='Training Loss')\n",
        "    plt.xlabel('Epochs')\n",
        "    plt.ylabel('Loss')\n",
        "    plt.legend()\n",
        "    plt.title('Training Loss')\n",
        "\n",
        "    plt.subplot(1, 2, 2)\n",
        "    plt.plot(epochs, history.history['accuracy'], label='Training Accuracy')\n",
        "    plt.xlabel('Epochs')\n",
        "    plt.ylabel('Accuracy')\n",
        "    plt.legend()\n",
        "    plt.title('Training Accuracy')\n",
        "\n",
        "    plt.show()"
      ]
    },
    {
      "cell_type": "code",
      "execution_count": 24,
      "metadata": {},
      "outputs": [
        {
          "data": {
            "image/png": "[encoded data removed]",
            "text/plain": [
              "<Figure size 1200x500 with 2 Axes>"
            ]
          },
          "metadata": {},
          "output_type": "display_data"
        }
      ],
      "source": [
        "plot_history(history)"
      ]
    },
    {
      "cell_type": "code",
      "execution_count": 25,
      "metadata": {},
      "outputs": [
        {
          "data": {
            "image/png": "[encoded data removed]",
            "text/plain": [
              "<Figure size 1200x500 with 2 Axes>"
            ]
          },
          "metadata": {},
          "output_type": "display_data"
        }
      ],
      "source": [
        "plot_history(history_wo_std)"
      ]
    },
    {
      "cell_type": "code",
      "execution_count": null,
      "metadata": {},
      "outputs": [],
      "source": []
    }
  ],
  "metadata": {
    "accelerator": "GPU",
    "colab": {
      "gpuType": "A100",
      "machine_shape": "hm",
      "provenance": []
    },
    "kernelspec": {
      "display_name": "mitbih",
      "language": "python",
      "name": "python3"
    },
    "language_info": {
      "codemirror_mode": {
        "name": "ipython",
        "version": 3
      },
      "file_extension": ".py",
      "mimetype": "text/x-python",
      "name": "python",
      "nbconvert_exporter": "python",
      "pygments_lexer": "ipython3",
      "version": "3.10.16"
    }
  },
  "nbformat": 4,
  "nbformat_minor": 0
}

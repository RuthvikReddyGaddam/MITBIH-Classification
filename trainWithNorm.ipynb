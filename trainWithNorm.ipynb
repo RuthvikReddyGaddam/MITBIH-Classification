{
 "cells": [
  {
   "cell_type": "code",
   "execution_count": null,
   "metadata": {},
   "outputs": [],
   "source": [
    "import pandas as pd\n",
    "import numpy as np\n",
    "import matplotlib.pyplot as plt\n",
    "import seaborn as sns\n",
    "from tsfresh import select_features"
   ]
  },
  {
   "cell_type": "code",
   "execution_count": null,
   "metadata": {},
   "outputs": [],
   "source": [
    "from sklearn.model_selection import StratifiedKFold\n",
    "from sklearn.metrics import precision_score, recall_score, f1_score, accuracy_score\n",
    "from sklearn.preprocessing import StandardScaler\n",
    "\n",
    "from sklearn.model_selection import train_test_split\n",
    "\n",
    "from sklearn.linear_model import RidgeClassifier\n",
    "\n",
    "from sklearn.ensemble import RandomForestClassifier\n",
    "from sklearn.neighbors import KNeighborsClassifier\n",
    "from sklearn.svm import SVC\n",
    "from sklearn.naive_bayes import GaussianNB"
   ]
  },
  {
   "cell_type": "code",
   "execution_count": null,
   "metadata": {},
   "outputs": [],
   "source": [
    "feature_df = pd.read_csv('features.csv')\n",
    "dir_df = pd.read_csv('directory.csv')"
   ]
  },
  {
   "cell_type": "code",
   "execution_count": null,
   "metadata": {},
   "outputs": [
    {
     "data": {
      "application/vnd.microsoft.datawrangler.viewer.v0+json": {
       "columns": [
        {
         "name": "index",
         "rawType": "int64",
         "type": "integer"
        },
        {
         "name": "value__variance_larger_than_standard_deviation",
         "rawType": "float64",
         "type": "float"
        },
        {
         "name": "value__has_duplicate_max",
         "rawType": "float64",
         "type": "float"
        },
        {
         "name": "value__has_duplicate_min",
         "rawType": "float64",
         "type": "float"
        },
        {
         "name": "value__has_duplicate",
         "rawType": "float64",
         "type": "float"
        },
        {
         "name": "value__sum_values",
         "rawType": "float64",
         "type": "float"
        },
        {
         "name": "value__abs_energy",
         "rawType": "float64",
         "type": "float"
        },
        {
         "name": "value__mean_abs_change",
         "rawType": "float64",
         "type": "float"
        },
        {
         "name": "value__mean_change",
         "rawType": "float64",
         "type": "float"
        },
        {
         "name": "value__mean_second_derivative_central",
         "rawType": "float64",
         "type": "float"
        },
        {
         "name": "value__median",
         "rawType": "float64",
         "type": "float"
        },
        {
         "name": "value__mean",
         "rawType": "float64",
         "type": "float"
        },
        {
         "name": "value__length",
         "rawType": "float64",
         "type": "float"
        },
        {
         "name": "value__standard_deviation",
         "rawType": "float64",
         "type": "float"
        },
        {
         "name": "value__variation_coefficient",
         "rawType": "float64",
         "type": "float"
        },
        {
         "name": "value__variance",
         "rawType": "float64",
         "type": "float"
        },
        {
         "name": "value__skewness",
         "rawType": "float64",
         "type": "float"
        },
        {
         "name": "value__kurtosis",
         "rawType": "float64",
         "type": "float"
        },
        {
         "name": "value__root_mean_square",
         "rawType": "float64",
         "type": "float"
        },
        {
         "name": "value__absolute_sum_of_changes",
         "rawType": "float64",
         "type": "float"
        },
        {
         "name": "value__longest_strike_below_mean",
         "rawType": "float64",
         "type": "float"
        },
        {
         "name": "value__longest_strike_above_mean",
         "rawType": "float64",
         "type": "float"
        },
        {
         "name": "value__count_above_mean",
         "rawType": "float64",
         "type": "float"
        },
        {
         "name": "value__count_below_mean",
         "rawType": "float64",
         "type": "float"
        },
        {
         "name": "value__last_location_of_maximum",
         "rawType": "float64",
         "type": "float"
        },
        {
         "name": "value__first_location_of_maximum",
         "rawType": "float64",
         "type": "float"
        },
        {
         "name": "value__last_location_of_minimum",
         "rawType": "float64",
         "type": "float"
        },
        {
         "name": "value__first_location_of_minimum",
         "rawType": "float64",
         "type": "float"
        },
        {
         "name": "value__percentage_of_reoccurring_values_to_all_values",
         "rawType": "float64",
         "type": "float"
        },
        {
         "name": "value__percentage_of_reoccurring_datapoints_to_all_datapoints",
         "rawType": "float64",
         "type": "float"
        },
        {
         "name": "value__sum_of_reoccurring_values",
         "rawType": "float64",
         "type": "float"
        },
        {
         "name": "value__sum_of_reoccurring_data_points",
         "rawType": "float64",
         "type": "float"
        },
        {
         "name": "value__ratio_value_number_to_time_series_length",
         "rawType": "float64",
         "type": "float"
        },
        {
         "name": "value__sample_entropy",
         "rawType": "float64",
         "type": "float"
        },
        {
         "name": "value__maximum",
         "rawType": "float64",
         "type": "float"
        },
        {
         "name": "value__absolute_maximum",
         "rawType": "float64",
         "type": "float"
        },
        {
         "name": "value__minimum",
         "rawType": "float64",
         "type": "float"
        },
        {
         "name": "value__benford_correlation",
         "rawType": "float64",
         "type": "float"
        },
        {
         "name": "value__time_reversal_asymmetry_statistic__lag_1",
         "rawType": "float64",
         "type": "float"
        },
        {
         "name": "value__time_reversal_asymmetry_statistic__lag_2",
         "rawType": "float64",
         "type": "float"
        },
        {
         "name": "value__time_reversal_asymmetry_statistic__lag_3",
         "rawType": "float64",
         "type": "float"
        },
        {
         "name": "value__c3__lag_1",
         "rawType": "float64",
         "type": "float"
        },
        {
         "name": "value__c3__lag_2",
         "rawType": "float64",
         "type": "float"
        },
        {
         "name": "value__c3__lag_3",
         "rawType": "float64",
         "type": "float"
        },
        {
         "name": "value__cid_ce__normalize_True",
         "rawType": "float64",
         "type": "float"
        },
        {
         "name": "value__cid_ce__normalize_False",
         "rawType": "float64",
         "type": "float"
        },
        {
         "name": "value__symmetry_looking__r_0.0",
         "rawType": "float64",
         "type": "float"
        },
        {
         "name": "value__symmetry_looking__r_0.05",
         "rawType": "float64",
         "type": "float"
        },
        {
         "name": "value__symmetry_looking__r_0.1",
         "rawType": "float64",
         "type": "float"
        },
        {
         "name": "value__symmetry_looking__r_0.15000000000000002",
         "rawType": "float64",
         "type": "float"
        },
        {
         "name": "value__symmetry_looking__r_0.2",
         "rawType": "float64",
         "type": "float"
        },
        {
         "name": "value__symmetry_looking__r_0.25",
         "rawType": "float64",
         "type": "float"
        },
        {
         "name": "value__symmetry_looking__r_0.30000000000000004",
         "rawType": "float64",
         "type": "float"
        },
        {
         "name": "value__symmetry_looking__r_0.35000000000000003",
         "rawType": "float64",
         "type": "float"
        },
        {
         "name": "value__symmetry_looking__r_0.4",
         "rawType": "float64",
         "type": "float"
        },
        {
         "name": "value__symmetry_looking__r_0.45",
         "rawType": "float64",
         "type": "float"
        },
        {
         "name": "value__symmetry_looking__r_0.5",
         "rawType": "float64",
         "type": "float"
        },
        {
         "name": "value__symmetry_looking__r_0.55",
         "rawType": "float64",
         "type": "float"
        },
        {
         "name": "value__symmetry_looking__r_0.6000000000000001",
         "rawType": "float64",
         "type": "float"
        },
        {
         "name": "value__symmetry_looking__r_0.65",
         "rawType": "float64",
         "type": "float"
        },
        {
         "name": "value__symmetry_looking__r_0.7000000000000001",
         "rawType": "float64",
         "type": "float"
        },
        {
         "name": "value__symmetry_looking__r_0.75",
         "rawType": "float64",
         "type": "float"
        },
        {
         "name": "value__symmetry_looking__r_0.8",
         "rawType": "float64",
         "type": "float"
        },
        {
         "name": "value__symmetry_looking__r_0.8500000000000001",
         "rawType": "float64",
         "type": "float"
        },
        {
         "name": "value__symmetry_looking__r_0.9",
         "rawType": "float64",
         "type": "float"
        },
        {
         "name": "value__symmetry_looking__r_0.9500000000000001",
         "rawType": "float64",
         "type": "float"
        },
        {
         "name": "value__large_standard_deviation__r_0.05",
         "rawType": "float64",
         "type": "float"
        },
        {
         "name": "value__large_standard_deviation__r_0.1",
         "rawType": "float64",
         "type": "float"
        },
        {
         "name": "value__large_standard_deviation__r_0.15000000000000002",
         "rawType": "float64",
         "type": "float"
        },
        {
         "name": "value__large_standard_deviation__r_0.2",
         "rawType": "float64",
         "type": "float"
        },
        {
         "name": "value__large_standard_deviation__r_0.25",
         "rawType": "float64",
         "type": "float"
        },
        {
         "name": "value__large_standard_deviation__r_0.30000000000000004",
         "rawType": "float64",
         "type": "float"
        },
        {
         "name": "value__large_standard_deviation__r_0.35000000000000003",
         "rawType": "float64",
         "type": "float"
        },
        {
         "name": "value__large_standard_deviation__r_0.4",
         "rawType": "float64",
         "type": "float"
        },
        {
         "name": "value__large_standard_deviation__r_0.45",
         "rawType": "float64",
         "type": "float"
        },
        {
         "name": "value__large_standard_deviation__r_0.5",
         "rawType": "float64",
         "type": "float"
        },
        {
         "name": "value__large_standard_deviation__r_0.55",
         "rawType": "float64",
         "type": "float"
        },
        {
         "name": "value__large_standard_deviation__r_0.6000000000000001",
         "rawType": "float64",
         "type": "float"
        },
        {
         "name": "value__large_standard_deviation__r_0.65",
         "rawType": "float64",
         "type": "float"
        },
        {
         "name": "value__large_standard_deviation__r_0.7000000000000001",
         "rawType": "float64",
         "type": "float"
        },
        {
         "name": "value__large_standard_deviation__r_0.75",
         "rawType": "float64",
         "type": "float"
        },
        {
         "name": "value__large_standard_deviation__r_0.8",
         "rawType": "float64",
         "type": "float"
        },
        {
         "name": "value__large_standard_deviation__r_0.8500000000000001",
         "rawType": "float64",
         "type": "float"
        },
        {
         "name": "value__large_standard_deviation__r_0.9",
         "rawType": "float64",
         "type": "float"
        },
        {
         "name": "value__large_standard_deviation__r_0.9500000000000001",
         "rawType": "float64",
         "type": "float"
        },
        {
         "name": "value__quantile__q_0.1",
         "rawType": "float64",
         "type": "float"
        },
        {
         "name": "value__quantile__q_0.2",
         "rawType": "float64",
         "type": "float"
        },
        {
         "name": "value__quantile__q_0.3",
         "rawType": "float64",
         "type": "float"
        },
        {
         "name": "value__quantile__q_0.4",
         "rawType": "float64",
         "type": "float"
        },
        {
         "name": "value__quantile__q_0.6",
         "rawType": "float64",
         "type": "float"
        },
        {
         "name": "value__quantile__q_0.7",
         "rawType": "float64",
         "type": "float"
        },
        {
         "name": "value__quantile__q_0.8",
         "rawType": "float64",
         "type": "float"
        },
        {
         "name": "value__quantile__q_0.9",
         "rawType": "float64",
         "type": "float"
        },
        {
         "name": "value__autocorrelation__lag_0",
         "rawType": "float64",
         "type": "float"
        },
        {
         "name": "value__autocorrelation__lag_1",
         "rawType": "float64",
         "type": "float"
        },
        {
         "name": "value__autocorrelation__lag_2",
         "rawType": "float64",
         "type": "float"
        },
        {
         "name": "value__autocorrelation__lag_3",
         "rawType": "float64",
         "type": "float"
        },
        {
         "name": "value__autocorrelation__lag_4",
         "rawType": "float64",
         "type": "float"
        },
        {
         "name": "value__autocorrelation__lag_5",
         "rawType": "float64",
         "type": "float"
        },
        {
         "name": "value__autocorrelation__lag_6",
         "rawType": "float64",
         "type": "float"
        },
        {
         "name": "value__autocorrelation__lag_7",
         "rawType": "float64",
         "type": "float"
        },
        {
         "name": "value__autocorrelation__lag_8",
         "rawType": "float64",
         "type": "float"
        },
        {
         "name": "value__autocorrelation__lag_9",
         "rawType": "float64",
         "type": "float"
        },
        {
         "name": "value__agg_autocorrelation__f_agg_\"mean\"__maxlag_40",
         "rawType": "float64",
         "type": "float"
        },
        {
         "name": "value__agg_autocorrelation__f_agg_\"median\"__maxlag_40",
         "rawType": "float64",
         "type": "float"
        },
        {
         "name": "value__agg_autocorrelation__f_agg_\"var\"__maxlag_40",
         "rawType": "float64",
         "type": "float"
        },
        {
         "name": "value__partial_autocorrelation__lag_0",
         "rawType": "float64",
         "type": "float"
        },
        {
         "name": "value__partial_autocorrelation__lag_1",
         "rawType": "float64",
         "type": "float"
        },
        {
         "name": "value__partial_autocorrelation__lag_2",
         "rawType": "float64",
         "type": "float"
        },
        {
         "name": "value__partial_autocorrelation__lag_3",
         "rawType": "float64",
         "type": "float"
        },
        {
         "name": "value__partial_autocorrelation__lag_4",
         "rawType": "float64",
         "type": "float"
        },
        {
         "name": "value__partial_autocorrelation__lag_5",
         "rawType": "float64",
         "type": "float"
        },
        {
         "name": "value__partial_autocorrelation__lag_6",
         "rawType": "float64",
         "type": "float"
        },
        {
         "name": "value__partial_autocorrelation__lag_7",
         "rawType": "float64",
         "type": "float"
        },
        {
         "name": "value__partial_autocorrelation__lag_8",
         "rawType": "float64",
         "type": "float"
        },
        {
         "name": "value__partial_autocorrelation__lag_9",
         "rawType": "float64",
         "type": "float"
        },
        {
         "name": "value__number_cwt_peaks__n_1",
         "rawType": "float64",
         "type": "float"
        },
        {
         "name": "value__number_cwt_peaks__n_5",
         "rawType": "float64",
         "type": "float"
        },
        {
         "name": "value__number_peaks__n_1",
         "rawType": "float64",
         "type": "float"
        },
        {
         "name": "value__number_peaks__n_3",
         "rawType": "float64",
         "type": "float"
        },
        {
         "name": "value__number_peaks__n_5",
         "rawType": "float64",
         "type": "float"
        },
        {
         "name": "value__number_peaks__n_10",
         "rawType": "float64",
         "type": "float"
        },
        {
         "name": "value__number_peaks__n_50",
         "rawType": "float64",
         "type": "float"
        },
        {
         "name": "value__binned_entropy__max_bins_10",
         "rawType": "float64",
         "type": "float"
        },
        {
         "name": "value__index_mass_quantile__q_0.1",
         "rawType": "float64",
         "type": "float"
        },
        {
         "name": "value__index_mass_quantile__q_0.2",
         "rawType": "float64",
         "type": "float"
        },
        {
         "name": "value__index_mass_quantile__q_0.3",
         "rawType": "float64",
         "type": "float"
        },
        {
         "name": "value__index_mass_quantile__q_0.4",
         "rawType": "float64",
         "type": "float"
        },
        {
         "name": "value__index_mass_quantile__q_0.6",
         "rawType": "float64",
         "type": "float"
        },
        {
         "name": "value__index_mass_quantile__q_0.7",
         "rawType": "float64",
         "type": "float"
        },
        {
         "name": "value__index_mass_quantile__q_0.8",
         "rawType": "float64",
         "type": "float"
        },
        {
         "name": "value__index_mass_quantile__q_0.9",
         "rawType": "float64",
         "type": "float"
        },
        {
         "name": "value__cwt_coefficients__coeff_0__w_2__widths_(2, 5, 10, 20)",
         "rawType": "float64",
         "type": "float"
        },
        {
         "name": "value__cwt_coefficients__coeff_0__w_5__widths_(2, 5, 10, 20)",
         "rawType": "float64",
         "type": "float"
        },
        {
         "name": "value__cwt_coefficients__coeff_0__w_10__widths_(2, 5, 10, 20)",
         "rawType": "float64",
         "type": "float"
        },
        {
         "name": "value__cwt_coefficients__coeff_0__w_20__widths_(2, 5, 10, 20)",
         "rawType": "float64",
         "type": "float"
        },
        {
         "name": "value__cwt_coefficients__coeff_1__w_2__widths_(2, 5, 10, 20)",
         "rawType": "float64",
         "type": "float"
        },
        {
         "name": "value__cwt_coefficients__coeff_1__w_5__widths_(2, 5, 10, 20)",
         "rawType": "float64",
         "type": "float"
        },
        {
         "name": "value__cwt_coefficients__coeff_1__w_10__widths_(2, 5, 10, 20)",
         "rawType": "float64",
         "type": "float"
        },
        {
         "name": "value__cwt_coefficients__coeff_1__w_20__widths_(2, 5, 10, 20)",
         "rawType": "float64",
         "type": "float"
        },
        {
         "name": "value__cwt_coefficients__coeff_2__w_2__widths_(2, 5, 10, 20)",
         "rawType": "float64",
         "type": "float"
        },
        {
         "name": "value__cwt_coefficients__coeff_2__w_5__widths_(2, 5, 10, 20)",
         "rawType": "float64",
         "type": "float"
        },
        {
         "name": "value__cwt_coefficients__coeff_2__w_10__widths_(2, 5, 10, 20)",
         "rawType": "float64",
         "type": "float"
        },
        {
         "name": "value__cwt_coefficients__coeff_2__w_20__widths_(2, 5, 10, 20)",
         "rawType": "float64",
         "type": "float"
        },
        {
         "name": "value__cwt_coefficients__coeff_3__w_2__widths_(2, 5, 10, 20)",
         "rawType": "float64",
         "type": "float"
        },
        {
         "name": "value__cwt_coefficients__coeff_3__w_5__widths_(2, 5, 10, 20)",
         "rawType": "float64",
         "type": "float"
        },
        {
         "name": "value__cwt_coefficients__coeff_3__w_10__widths_(2, 5, 10, 20)",
         "rawType": "float64",
         "type": "float"
        },
        {
         "name": "value__cwt_coefficients__coeff_3__w_20__widths_(2, 5, 10, 20)",
         "rawType": "float64",
         "type": "float"
        },
        {
         "name": "value__cwt_coefficients__coeff_4__w_2__widths_(2, 5, 10, 20)",
         "rawType": "float64",
         "type": "float"
        },
        {
         "name": "value__cwt_coefficients__coeff_4__w_5__widths_(2, 5, 10, 20)",
         "rawType": "float64",
         "type": "float"
        },
        {
         "name": "value__cwt_coefficients__coeff_4__w_10__widths_(2, 5, 10, 20)",
         "rawType": "float64",
         "type": "float"
        },
        {
         "name": "value__cwt_coefficients__coeff_4__w_20__widths_(2, 5, 10, 20)",
         "rawType": "float64",
         "type": "float"
        },
        {
         "name": "value__cwt_coefficients__coeff_5__w_2__widths_(2, 5, 10, 20)",
         "rawType": "float64",
         "type": "float"
        },
        {
         "name": "value__cwt_coefficients__coeff_5__w_5__widths_(2, 5, 10, 20)",
         "rawType": "float64",
         "type": "float"
        },
        {
         "name": "value__cwt_coefficients__coeff_5__w_10__widths_(2, 5, 10, 20)",
         "rawType": "float64",
         "type": "float"
        },
        {
         "name": "value__cwt_coefficients__coeff_5__w_20__widths_(2, 5, 10, 20)",
         "rawType": "float64",
         "type": "float"
        },
        {
         "name": "value__cwt_coefficients__coeff_6__w_2__widths_(2, 5, 10, 20)",
         "rawType": "float64",
         "type": "float"
        },
        {
         "name": "value__cwt_coefficients__coeff_6__w_5__widths_(2, 5, 10, 20)",
         "rawType": "float64",
         "type": "float"
        },
        {
         "name": "value__cwt_coefficients__coeff_6__w_10__widths_(2, 5, 10, 20)",
         "rawType": "float64",
         "type": "float"
        },
        {
         "name": "value__cwt_coefficients__coeff_6__w_20__widths_(2, 5, 10, 20)",
         "rawType": "float64",
         "type": "float"
        },
        {
         "name": "value__cwt_coefficients__coeff_7__w_2__widths_(2, 5, 10, 20)",
         "rawType": "float64",
         "type": "float"
        },
        {
         "name": "value__cwt_coefficients__coeff_7__w_5__widths_(2, 5, 10, 20)",
         "rawType": "float64",
         "type": "float"
        },
        {
         "name": "value__cwt_coefficients__coeff_7__w_10__widths_(2, 5, 10, 20)",
         "rawType": "float64",
         "type": "float"
        },
        {
         "name": "value__cwt_coefficients__coeff_7__w_20__widths_(2, 5, 10, 20)",
         "rawType": "float64",
         "type": "float"
        },
        {
         "name": "value__cwt_coefficients__coeff_8__w_2__widths_(2, 5, 10, 20)",
         "rawType": "float64",
         "type": "float"
        },
        {
         "name": "value__cwt_coefficients__coeff_8__w_5__widths_(2, 5, 10, 20)",
         "rawType": "float64",
         "type": "float"
        },
        {
         "name": "value__cwt_coefficients__coeff_8__w_10__widths_(2, 5, 10, 20)",
         "rawType": "float64",
         "type": "float"
        },
        {
         "name": "value__cwt_coefficients__coeff_8__w_20__widths_(2, 5, 10, 20)",
         "rawType": "float64",
         "type": "float"
        },
        {
         "name": "value__cwt_coefficients__coeff_9__w_2__widths_(2, 5, 10, 20)",
         "rawType": "float64",
         "type": "float"
        },
        {
         "name": "value__cwt_coefficients__coeff_9__w_5__widths_(2, 5, 10, 20)",
         "rawType": "float64",
         "type": "float"
        },
        {
         "name": "value__cwt_coefficients__coeff_9__w_10__widths_(2, 5, 10, 20)",
         "rawType": "float64",
         "type": "float"
        },
        {
         "name": "value__cwt_coefficients__coeff_9__w_20__widths_(2, 5, 10, 20)",
         "rawType": "float64",
         "type": "float"
        },
        {
         "name": "value__cwt_coefficients__coeff_10__w_2__widths_(2, 5, 10, 20)",
         "rawType": "float64",
         "type": "float"
        },
        {
         "name": "value__cwt_coefficients__coeff_10__w_5__widths_(2, 5, 10, 20)",
         "rawType": "float64",
         "type": "float"
        },
        {
         "name": "value__cwt_coefficients__coeff_10__w_10__widths_(2, 5, 10, 20)",
         "rawType": "float64",
         "type": "float"
        },
        {
         "name": "value__cwt_coefficients__coeff_10__w_20__widths_(2, 5, 10, 20)",
         "rawType": "float64",
         "type": "float"
        },
        {
         "name": "value__cwt_coefficients__coeff_11__w_2__widths_(2, 5, 10, 20)",
         "rawType": "float64",
         "type": "float"
        },
        {
         "name": "value__cwt_coefficients__coeff_11__w_5__widths_(2, 5, 10, 20)",
         "rawType": "float64",
         "type": "float"
        },
        {
         "name": "value__cwt_coefficients__coeff_11__w_10__widths_(2, 5, 10, 20)",
         "rawType": "float64",
         "type": "float"
        },
        {
         "name": "value__cwt_coefficients__coeff_11__w_20__widths_(2, 5, 10, 20)",
         "rawType": "float64",
         "type": "float"
        },
        {
         "name": "value__cwt_coefficients__coeff_12__w_2__widths_(2, 5, 10, 20)",
         "rawType": "float64",
         "type": "float"
        },
        {
         "name": "value__cwt_coefficients__coeff_12__w_5__widths_(2, 5, 10, 20)",
         "rawType": "float64",
         "type": "float"
        },
        {
         "name": "value__cwt_coefficients__coeff_12__w_10__widths_(2, 5, 10, 20)",
         "rawType": "float64",
         "type": "float"
        },
        {
         "name": "value__cwt_coefficients__coeff_12__w_20__widths_(2, 5, 10, 20)",
         "rawType": "float64",
         "type": "float"
        },
        {
         "name": "value__cwt_coefficients__coeff_13__w_2__widths_(2, 5, 10, 20)",
         "rawType": "float64",
         "type": "float"
        },
        {
         "name": "value__cwt_coefficients__coeff_13__w_5__widths_(2, 5, 10, 20)",
         "rawType": "float64",
         "type": "float"
        },
        {
         "name": "value__cwt_coefficients__coeff_13__w_10__widths_(2, 5, 10, 20)",
         "rawType": "float64",
         "type": "float"
        },
        {
         "name": "value__cwt_coefficients__coeff_13__w_20__widths_(2, 5, 10, 20)",
         "rawType": "float64",
         "type": "float"
        },
        {
         "name": "value__cwt_coefficients__coeff_14__w_2__widths_(2, 5, 10, 20)",
         "rawType": "float64",
         "type": "float"
        },
        {
         "name": "value__cwt_coefficients__coeff_14__w_5__widths_(2, 5, 10, 20)",
         "rawType": "float64",
         "type": "float"
        },
        {
         "name": "value__cwt_coefficients__coeff_14__w_10__widths_(2, 5, 10, 20)",
         "rawType": "float64",
         "type": "float"
        },
        {
         "name": "value__cwt_coefficients__coeff_14__w_20__widths_(2, 5, 10, 20)",
         "rawType": "float64",
         "type": "float"
        },
        {
         "name": "value__spkt_welch_density__coeff_2",
         "rawType": "float64",
         "type": "float"
        },
        {
         "name": "value__spkt_welch_density__coeff_5",
         "rawType": "float64",
         "type": "float"
        },
        {
         "name": "value__spkt_welch_density__coeff_8",
         "rawType": "float64",
         "type": "float"
        },
        {
         "name": "value__ar_coefficient__coeff_0__k_10",
         "rawType": "float64",
         "type": "float"
        },
        {
         "name": "value__ar_coefficient__coeff_1__k_10",
         "rawType": "float64",
         "type": "float"
        },
        {
         "name": "value__ar_coefficient__coeff_2__k_10",
         "rawType": "float64",
         "type": "float"
        },
        {
         "name": "value__ar_coefficient__coeff_3__k_10",
         "rawType": "float64",
         "type": "float"
        },
        {
         "name": "value__ar_coefficient__coeff_4__k_10",
         "rawType": "float64",
         "type": "float"
        },
        {
         "name": "value__ar_coefficient__coeff_5__k_10",
         "rawType": "float64",
         "type": "float"
        },
        {
         "name": "value__ar_coefficient__coeff_6__k_10",
         "rawType": "float64",
         "type": "float"
        },
        {
         "name": "value__ar_coefficient__coeff_7__k_10",
         "rawType": "float64",
         "type": "float"
        },
        {
         "name": "value__ar_coefficient__coeff_8__k_10",
         "rawType": "float64",
         "type": "float"
        },
        {
         "name": "value__ar_coefficient__coeff_9__k_10",
         "rawType": "float64",
         "type": "float"
        },
        {
         "name": "value__ar_coefficient__coeff_10__k_10",
         "rawType": "float64",
         "type": "float"
        },
        {
         "name": "value__change_quantiles__f_agg_\"mean\"__isabs_False__qh_0.2__ql_0.0",
         "rawType": "float64",
         "type": "float"
        },
        {
         "name": "value__change_quantiles__f_agg_\"var\"__isabs_False__qh_0.2__ql_0.0",
         "rawType": "float64",
         "type": "float"
        },
        {
         "name": "value__change_quantiles__f_agg_\"mean\"__isabs_True__qh_0.2__ql_0.0",
         "rawType": "float64",
         "type": "float"
        },
        {
         "name": "value__change_quantiles__f_agg_\"var\"__isabs_True__qh_0.2__ql_0.0",
         "rawType": "float64",
         "type": "float"
        },
        {
         "name": "value__change_quantiles__f_agg_\"mean\"__isabs_False__qh_0.4__ql_0.0",
         "rawType": "float64",
         "type": "float"
        },
        {
         "name": "value__change_quantiles__f_agg_\"var\"__isabs_False__qh_0.4__ql_0.0",
         "rawType": "float64",
         "type": "float"
        },
        {
         "name": "value__change_quantiles__f_agg_\"mean\"__isabs_True__qh_0.4__ql_0.0",
         "rawType": "float64",
         "type": "float"
        },
        {
         "name": "value__change_quantiles__f_agg_\"var\"__isabs_True__qh_0.4__ql_0.0",
         "rawType": "float64",
         "type": "float"
        },
        {
         "name": "value__change_quantiles__f_agg_\"mean\"__isabs_False__qh_0.6__ql_0.0",
         "rawType": "float64",
         "type": "float"
        },
        {
         "name": "value__change_quantiles__f_agg_\"var\"__isabs_False__qh_0.6__ql_0.0",
         "rawType": "float64",
         "type": "float"
        },
        {
         "name": "value__change_quantiles__f_agg_\"mean\"__isabs_True__qh_0.6__ql_0.0",
         "rawType": "float64",
         "type": "float"
        },
        {
         "name": "value__change_quantiles__f_agg_\"var\"__isabs_True__qh_0.6__ql_0.0",
         "rawType": "float64",
         "type": "float"
        },
        {
         "name": "value__change_quantiles__f_agg_\"mean\"__isabs_False__qh_0.8__ql_0.0",
         "rawType": "float64",
         "type": "float"
        },
        {
         "name": "value__change_quantiles__f_agg_\"var\"__isabs_False__qh_0.8__ql_0.0",
         "rawType": "float64",
         "type": "float"
        },
        {
         "name": "value__change_quantiles__f_agg_\"mean\"__isabs_True__qh_0.8__ql_0.0",
         "rawType": "float64",
         "type": "float"
        },
        {
         "name": "value__change_quantiles__f_agg_\"var\"__isabs_True__qh_0.8__ql_0.0",
         "rawType": "float64",
         "type": "float"
        },
        {
         "name": "value__change_quantiles__f_agg_\"mean\"__isabs_False__qh_1.0__ql_0.0",
         "rawType": "float64",
         "type": "float"
        },
        {
         "name": "value__change_quantiles__f_agg_\"var\"__isabs_False__qh_1.0__ql_0.0",
         "rawType": "float64",
         "type": "float"
        },
        {
         "name": "value__change_quantiles__f_agg_\"mean\"__isabs_True__qh_1.0__ql_0.0",
         "rawType": "float64",
         "type": "float"
        },
        {
         "name": "value__change_quantiles__f_agg_\"var\"__isabs_True__qh_1.0__ql_0.0",
         "rawType": "float64",
         "type": "float"
        },
        {
         "name": "value__change_quantiles__f_agg_\"mean\"__isabs_False__qh_0.4__ql_0.2",
         "rawType": "float64",
         "type": "float"
        },
        {
         "name": "value__change_quantiles__f_agg_\"var\"__isabs_False__qh_0.4__ql_0.2",
         "rawType": "float64",
         "type": "float"
        },
        {
         "name": "value__change_quantiles__f_agg_\"mean\"__isabs_True__qh_0.4__ql_0.2",
         "rawType": "float64",
         "type": "float"
        },
        {
         "name": "value__change_quantiles__f_agg_\"var\"__isabs_True__qh_0.4__ql_0.2",
         "rawType": "float64",
         "type": "float"
        },
        {
         "name": "value__change_quantiles__f_agg_\"mean\"__isabs_False__qh_0.6__ql_0.2",
         "rawType": "float64",
         "type": "float"
        },
        {
         "name": "value__change_quantiles__f_agg_\"var\"__isabs_False__qh_0.6__ql_0.2",
         "rawType": "float64",
         "type": "float"
        },
        {
         "name": "value__change_quantiles__f_agg_\"mean\"__isabs_True__qh_0.6__ql_0.2",
         "rawType": "float64",
         "type": "float"
        },
        {
         "name": "value__change_quantiles__f_agg_\"var\"__isabs_True__qh_0.6__ql_0.2",
         "rawType": "float64",
         "type": "float"
        },
        {
         "name": "value__change_quantiles__f_agg_\"mean\"__isabs_False__qh_0.8__ql_0.2",
         "rawType": "float64",
         "type": "float"
        },
        {
         "name": "value__change_quantiles__f_agg_\"var\"__isabs_False__qh_0.8__ql_0.2",
         "rawType": "float64",
         "type": "float"
        },
        {
         "name": "value__change_quantiles__f_agg_\"mean\"__isabs_True__qh_0.8__ql_0.2",
         "rawType": "float64",
         "type": "float"
        },
        {
         "name": "value__change_quantiles__f_agg_\"var\"__isabs_True__qh_0.8__ql_0.2",
         "rawType": "float64",
         "type": "float"
        },
        {
         "name": "value__change_quantiles__f_agg_\"mean\"__isabs_False__qh_1.0__ql_0.2",
         "rawType": "float64",
         "type": "float"
        },
        {
         "name": "value__change_quantiles__f_agg_\"var\"__isabs_False__qh_1.0__ql_0.2",
         "rawType": "float64",
         "type": "float"
        },
        {
         "name": "value__change_quantiles__f_agg_\"mean\"__isabs_True__qh_1.0__ql_0.2",
         "rawType": "float64",
         "type": "float"
        },
        {
         "name": "value__change_quantiles__f_agg_\"var\"__isabs_True__qh_1.0__ql_0.2",
         "rawType": "float64",
         "type": "float"
        },
        {
         "name": "value__change_quantiles__f_agg_\"mean\"__isabs_False__qh_0.6__ql_0.4",
         "rawType": "float64",
         "type": "float"
        },
        {
         "name": "value__change_quantiles__f_agg_\"var\"__isabs_False__qh_0.6__ql_0.4",
         "rawType": "float64",
         "type": "float"
        },
        {
         "name": "value__change_quantiles__f_agg_\"mean\"__isabs_True__qh_0.6__ql_0.4",
         "rawType": "float64",
         "type": "float"
        },
        {
         "name": "value__change_quantiles__f_agg_\"var\"__isabs_True__qh_0.6__ql_0.4",
         "rawType": "float64",
         "type": "float"
        },
        {
         "name": "value__change_quantiles__f_agg_\"mean\"__isabs_False__qh_0.8__ql_0.4",
         "rawType": "float64",
         "type": "float"
        },
        {
         "name": "value__change_quantiles__f_agg_\"var\"__isabs_False__qh_0.8__ql_0.4",
         "rawType": "float64",
         "type": "float"
        },
        {
         "name": "value__change_quantiles__f_agg_\"mean\"__isabs_True__qh_0.8__ql_0.4",
         "rawType": "float64",
         "type": "float"
        },
        {
         "name": "value__change_quantiles__f_agg_\"var\"__isabs_True__qh_0.8__ql_0.4",
         "rawType": "float64",
         "type": "float"
        },
        {
         "name": "value__change_quantiles__f_agg_\"mean\"__isabs_False__qh_1.0__ql_0.4",
         "rawType": "float64",
         "type": "float"
        },
        {
         "name": "value__change_quantiles__f_agg_\"var\"__isabs_False__qh_1.0__ql_0.4",
         "rawType": "float64",
         "type": "float"
        },
        {
         "name": "value__change_quantiles__f_agg_\"mean\"__isabs_True__qh_1.0__ql_0.4",
         "rawType": "float64",
         "type": "float"
        },
        {
         "name": "value__change_quantiles__f_agg_\"var\"__isabs_True__qh_1.0__ql_0.4",
         "rawType": "float64",
         "type": "float"
        },
        {
         "name": "value__change_quantiles__f_agg_\"mean\"__isabs_False__qh_0.8__ql_0.6",
         "rawType": "float64",
         "type": "float"
        },
        {
         "name": "value__change_quantiles__f_agg_\"var\"__isabs_False__qh_0.8__ql_0.6",
         "rawType": "float64",
         "type": "float"
        },
        {
         "name": "value__change_quantiles__f_agg_\"mean\"__isabs_True__qh_0.8__ql_0.6",
         "rawType": "float64",
         "type": "float"
        },
        {
         "name": "value__change_quantiles__f_agg_\"var\"__isabs_True__qh_0.8__ql_0.6",
         "rawType": "float64",
         "type": "float"
        },
        {
         "name": "value__change_quantiles__f_agg_\"mean\"__isabs_False__qh_1.0__ql_0.6",
         "rawType": "float64",
         "type": "float"
        },
        {
         "name": "value__change_quantiles__f_agg_\"var\"__isabs_False__qh_1.0__ql_0.6",
         "rawType": "float64",
         "type": "float"
        },
        {
         "name": "value__change_quantiles__f_agg_\"mean\"__isabs_True__qh_1.0__ql_0.6",
         "rawType": "float64",
         "type": "float"
        },
        {
         "name": "value__change_quantiles__f_agg_\"var\"__isabs_True__qh_1.0__ql_0.6",
         "rawType": "float64",
         "type": "float"
        },
        {
         "name": "value__change_quantiles__f_agg_\"mean\"__isabs_False__qh_1.0__ql_0.8",
         "rawType": "float64",
         "type": "float"
        },
        {
         "name": "value__change_quantiles__f_agg_\"var\"__isabs_False__qh_1.0__ql_0.8",
         "rawType": "float64",
         "type": "float"
        },
        {
         "name": "value__change_quantiles__f_agg_\"mean\"__isabs_True__qh_1.0__ql_0.8",
         "rawType": "float64",
         "type": "float"
        },
        {
         "name": "value__change_quantiles__f_agg_\"var\"__isabs_True__qh_1.0__ql_0.8",
         "rawType": "float64",
         "type": "float"
        },
        {
         "name": "value__fft_coefficient__attr_\"real\"__coeff_0",
         "rawType": "float64",
         "type": "float"
        },
        {
         "name": "value__fft_coefficient__attr_\"real\"__coeff_1",
         "rawType": "float64",
         "type": "float"
        },
        {
         "name": "value__fft_coefficient__attr_\"real\"__coeff_2",
         "rawType": "float64",
         "type": "float"
        },
        {
         "name": "value__fft_coefficient__attr_\"real\"__coeff_3",
         "rawType": "float64",
         "type": "float"
        },
        {
         "name": "value__fft_coefficient__attr_\"real\"__coeff_4",
         "rawType": "float64",
         "type": "float"
        },
        {
         "name": "value__fft_coefficient__attr_\"real\"__coeff_5",
         "rawType": "float64",
         "type": "float"
        },
        {
         "name": "value__fft_coefficient__attr_\"real\"__coeff_6",
         "rawType": "float64",
         "type": "float"
        },
        {
         "name": "value__fft_coefficient__attr_\"real\"__coeff_7",
         "rawType": "float64",
         "type": "float"
        },
        {
         "name": "value__fft_coefficient__attr_\"real\"__coeff_8",
         "rawType": "float64",
         "type": "float"
        },
        {
         "name": "value__fft_coefficient__attr_\"real\"__coeff_9",
         "rawType": "float64",
         "type": "float"
        },
        {
         "name": "value__fft_coefficient__attr_\"real\"__coeff_10",
         "rawType": "float64",
         "type": "float"
        },
        {
         "name": "value__fft_coefficient__attr_\"real\"__coeff_11",
         "rawType": "float64",
         "type": "float"
        },
        {
         "name": "value__fft_coefficient__attr_\"real\"__coeff_12",
         "rawType": "float64",
         "type": "float"
        },
        {
         "name": "value__fft_coefficient__attr_\"real\"__coeff_13",
         "rawType": "float64",
         "type": "float"
        },
        {
         "name": "value__fft_coefficient__attr_\"real\"__coeff_14",
         "rawType": "float64",
         "type": "float"
        },
        {
         "name": "value__fft_coefficient__attr_\"real\"__coeff_15",
         "rawType": "float64",
         "type": "float"
        },
        {
         "name": "value__fft_coefficient__attr_\"real\"__coeff_16",
         "rawType": "float64",
         "type": "float"
        },
        {
         "name": "value__fft_coefficient__attr_\"real\"__coeff_17",
         "rawType": "float64",
         "type": "float"
        },
        {
         "name": "value__fft_coefficient__attr_\"real\"__coeff_18",
         "rawType": "float64",
         "type": "float"
        },
        {
         "name": "value__fft_coefficient__attr_\"real\"__coeff_19",
         "rawType": "float64",
         "type": "float"
        },
        {
         "name": "value__fft_coefficient__attr_\"real\"__coeff_20",
         "rawType": "float64",
         "type": "float"
        },
        {
         "name": "value__fft_coefficient__attr_\"real\"__coeff_21",
         "rawType": "float64",
         "type": "float"
        },
        {
         "name": "value__fft_coefficient__attr_\"real\"__coeff_22",
         "rawType": "float64",
         "type": "float"
        },
        {
         "name": "value__fft_coefficient__attr_\"real\"__coeff_23",
         "rawType": "float64",
         "type": "float"
        },
        {
         "name": "value__fft_coefficient__attr_\"real\"__coeff_24",
         "rawType": "float64",
         "type": "float"
        },
        {
         "name": "value__fft_coefficient__attr_\"real\"__coeff_25",
         "rawType": "float64",
         "type": "float"
        },
        {
         "name": "value__fft_coefficient__attr_\"real\"__coeff_26",
         "rawType": "float64",
         "type": "float"
        },
        {
         "name": "value__fft_coefficient__attr_\"real\"__coeff_27",
         "rawType": "float64",
         "type": "float"
        },
        {
         "name": "value__fft_coefficient__attr_\"real\"__coeff_28",
         "rawType": "float64",
         "type": "float"
        },
        {
         "name": "value__fft_coefficient__attr_\"real\"__coeff_29",
         "rawType": "float64",
         "type": "float"
        },
        {
         "name": "value__fft_coefficient__attr_\"real\"__coeff_30",
         "rawType": "float64",
         "type": "float"
        },
        {
         "name": "value__fft_coefficient__attr_\"real\"__coeff_31",
         "rawType": "float64",
         "type": "float"
        },
        {
         "name": "value__fft_coefficient__attr_\"real\"__coeff_32",
         "rawType": "float64",
         "type": "float"
        },
        {
         "name": "value__fft_coefficient__attr_\"real\"__coeff_33",
         "rawType": "float64",
         "type": "float"
        },
        {
         "name": "value__fft_coefficient__attr_\"real\"__coeff_34",
         "rawType": "float64",
         "type": "float"
        },
        {
         "name": "value__fft_coefficient__attr_\"real\"__coeff_35",
         "rawType": "float64",
         "type": "float"
        },
        {
         "name": "value__fft_coefficient__attr_\"real\"__coeff_36",
         "rawType": "float64",
         "type": "float"
        },
        {
         "name": "value__fft_coefficient__attr_\"real\"__coeff_37",
         "rawType": "float64",
         "type": "float"
        },
        {
         "name": "value__fft_coefficient__attr_\"real\"__coeff_38",
         "rawType": "float64",
         "type": "float"
        },
        {
         "name": "value__fft_coefficient__attr_\"real\"__coeff_39",
         "rawType": "float64",
         "type": "float"
        },
        {
         "name": "value__fft_coefficient__attr_\"real\"__coeff_40",
         "rawType": "float64",
         "type": "float"
        },
        {
         "name": "value__fft_coefficient__attr_\"real\"__coeff_41",
         "rawType": "float64",
         "type": "float"
        },
        {
         "name": "value__fft_coefficient__attr_\"real\"__coeff_42",
         "rawType": "float64",
         "type": "float"
        },
        {
         "name": "value__fft_coefficient__attr_\"real\"__coeff_43",
         "rawType": "float64",
         "type": "float"
        },
        {
         "name": "value__fft_coefficient__attr_\"real\"__coeff_44",
         "rawType": "float64",
         "type": "float"
        },
        {
         "name": "value__fft_coefficient__attr_\"real\"__coeff_45",
         "rawType": "float64",
         "type": "float"
        },
        {
         "name": "value__fft_coefficient__attr_\"real\"__coeff_46",
         "rawType": "float64",
         "type": "float"
        },
        {
         "name": "value__fft_coefficient__attr_\"real\"__coeff_47",
         "rawType": "float64",
         "type": "float"
        },
        {
         "name": "value__fft_coefficient__attr_\"real\"__coeff_48",
         "rawType": "float64",
         "type": "float"
        },
        {
         "name": "value__fft_coefficient__attr_\"real\"__coeff_49",
         "rawType": "float64",
         "type": "float"
        },
        {
         "name": "value__fft_coefficient__attr_\"real\"__coeff_50",
         "rawType": "float64",
         "type": "float"
        },
        {
         "name": "value__fft_coefficient__attr_\"real\"__coeff_51",
         "rawType": "float64",
         "type": "float"
        },
        {
         "name": "value__fft_coefficient__attr_\"real\"__coeff_52",
         "rawType": "float64",
         "type": "float"
        },
        {
         "name": "value__fft_coefficient__attr_\"real\"__coeff_53",
         "rawType": "float64",
         "type": "float"
        },
        {
         "name": "value__fft_coefficient__attr_\"real\"__coeff_54",
         "rawType": "float64",
         "type": "float"
        },
        {
         "name": "value__fft_coefficient__attr_\"real\"__coeff_55",
         "rawType": "float64",
         "type": "float"
        },
        {
         "name": "value__fft_coefficient__attr_\"real\"__coeff_56",
         "rawType": "float64",
         "type": "float"
        },
        {
         "name": "value__fft_coefficient__attr_\"real\"__coeff_57",
         "rawType": "float64",
         "type": "float"
        },
        {
         "name": "value__fft_coefficient__attr_\"real\"__coeff_58",
         "rawType": "float64",
         "type": "float"
        },
        {
         "name": "value__fft_coefficient__attr_\"real\"__coeff_59",
         "rawType": "float64",
         "type": "float"
        },
        {
         "name": "value__fft_coefficient__attr_\"real\"__coeff_60",
         "rawType": "float64",
         "type": "float"
        },
        {
         "name": "value__fft_coefficient__attr_\"real\"__coeff_61",
         "rawType": "float64",
         "type": "float"
        },
        {
         "name": "value__fft_coefficient__attr_\"real\"__coeff_62",
         "rawType": "float64",
         "type": "float"
        },
        {
         "name": "value__fft_coefficient__attr_\"real\"__coeff_63",
         "rawType": "float64",
         "type": "float"
        },
        {
         "name": "value__fft_coefficient__attr_\"real\"__coeff_64",
         "rawType": "float64",
         "type": "float"
        },
        {
         "name": "value__fft_coefficient__attr_\"real\"__coeff_65",
         "rawType": "float64",
         "type": "float"
        },
        {
         "name": "value__fft_coefficient__attr_\"real\"__coeff_66",
         "rawType": "float64",
         "type": "float"
        },
        {
         "name": "value__fft_coefficient__attr_\"real\"__coeff_67",
         "rawType": "float64",
         "type": "float"
        },
        {
         "name": "value__fft_coefficient__attr_\"real\"__coeff_68",
         "rawType": "float64",
         "type": "float"
        },
        {
         "name": "value__fft_coefficient__attr_\"real\"__coeff_69",
         "rawType": "float64",
         "type": "float"
        },
        {
         "name": "value__fft_coefficient__attr_\"real\"__coeff_70",
         "rawType": "float64",
         "type": "float"
        },
        {
         "name": "value__fft_coefficient__attr_\"real\"__coeff_71",
         "rawType": "float64",
         "type": "float"
        },
        {
         "name": "value__fft_coefficient__attr_\"real\"__coeff_72",
         "rawType": "float64",
         "type": "float"
        },
        {
         "name": "value__fft_coefficient__attr_\"real\"__coeff_73",
         "rawType": "float64",
         "type": "float"
        },
        {
         "name": "value__fft_coefficient__attr_\"real\"__coeff_74",
         "rawType": "float64",
         "type": "float"
        },
        {
         "name": "value__fft_coefficient__attr_\"real\"__coeff_75",
         "rawType": "float64",
         "type": "float"
        },
        {
         "name": "value__fft_coefficient__attr_\"real\"__coeff_76",
         "rawType": "float64",
         "type": "float"
        },
        {
         "name": "value__fft_coefficient__attr_\"real\"__coeff_77",
         "rawType": "float64",
         "type": "float"
        },
        {
         "name": "value__fft_coefficient__attr_\"real\"__coeff_78",
         "rawType": "float64",
         "type": "float"
        },
        {
         "name": "value__fft_coefficient__attr_\"real\"__coeff_79",
         "rawType": "float64",
         "type": "float"
        },
        {
         "name": "value__fft_coefficient__attr_\"real\"__coeff_80",
         "rawType": "float64",
         "type": "float"
        },
        {
         "name": "value__fft_coefficient__attr_\"real\"__coeff_81",
         "rawType": "float64",
         "type": "float"
        },
        {
         "name": "value__fft_coefficient__attr_\"real\"__coeff_82",
         "rawType": "float64",
         "type": "float"
        },
        {
         "name": "value__fft_coefficient__attr_\"real\"__coeff_83",
         "rawType": "float64",
         "type": "float"
        },
        {
         "name": "value__fft_coefficient__attr_\"real\"__coeff_84",
         "rawType": "float64",
         "type": "float"
        },
        {
         "name": "value__fft_coefficient__attr_\"real\"__coeff_85",
         "rawType": "float64",
         "type": "float"
        },
        {
         "name": "value__fft_coefficient__attr_\"real\"__coeff_86",
         "rawType": "float64",
         "type": "float"
        },
        {
         "name": "value__fft_coefficient__attr_\"real\"__coeff_87",
         "rawType": "float64",
         "type": "float"
        },
        {
         "name": "value__fft_coefficient__attr_\"real\"__coeff_88",
         "rawType": "float64",
         "type": "float"
        },
        {
         "name": "value__fft_coefficient__attr_\"real\"__coeff_89",
         "rawType": "float64",
         "type": "float"
        },
        {
         "name": "value__fft_coefficient__attr_\"real\"__coeff_90",
         "rawType": "float64",
         "type": "float"
        },
        {
         "name": "value__fft_coefficient__attr_\"real\"__coeff_91",
         "rawType": "float64",
         "type": "float"
        },
        {
         "name": "value__fft_coefficient__attr_\"real\"__coeff_92",
         "rawType": "float64",
         "type": "float"
        },
        {
         "name": "value__fft_coefficient__attr_\"real\"__coeff_93",
         "rawType": "float64",
         "type": "float"
        },
        {
         "name": "value__fft_coefficient__attr_\"real\"__coeff_94",
         "rawType": "float64",
         "type": "float"
        },
        {
         "name": "value__fft_coefficient__attr_\"real\"__coeff_95",
         "rawType": "float64",
         "type": "float"
        },
        {
         "name": "value__fft_coefficient__attr_\"real\"__coeff_96",
         "rawType": "float64",
         "type": "float"
        },
        {
         "name": "value__fft_coefficient__attr_\"real\"__coeff_97",
         "rawType": "float64",
         "type": "float"
        },
        {
         "name": "value__fft_coefficient__attr_\"real\"__coeff_98",
         "rawType": "float64",
         "type": "float"
        },
        {
         "name": "value__fft_coefficient__attr_\"real\"__coeff_99",
         "rawType": "float64",
         "type": "float"
        },
        {
         "name": "value__fft_coefficient__attr_\"imag\"__coeff_0",
         "rawType": "float64",
         "type": "float"
        },
        {
         "name": "value__fft_coefficient__attr_\"imag\"__coeff_1",
         "rawType": "float64",
         "type": "float"
        },
        {
         "name": "value__fft_coefficient__attr_\"imag\"__coeff_2",
         "rawType": "float64",
         "type": "float"
        },
        {
         "name": "value__fft_coefficient__attr_\"imag\"__coeff_3",
         "rawType": "float64",
         "type": "float"
        },
        {
         "name": "value__fft_coefficient__attr_\"imag\"__coeff_4",
         "rawType": "float64",
         "type": "float"
        },
        {
         "name": "value__fft_coefficient__attr_\"imag\"__coeff_5",
         "rawType": "float64",
         "type": "float"
        },
        {
         "name": "value__fft_coefficient__attr_\"imag\"__coeff_6",
         "rawType": "float64",
         "type": "float"
        },
        {
         "name": "value__fft_coefficient__attr_\"imag\"__coeff_7",
         "rawType": "float64",
         "type": "float"
        },
        {
         "name": "value__fft_coefficient__attr_\"imag\"__coeff_8",
         "rawType": "float64",
         "type": "float"
        },
        {
         "name": "value__fft_coefficient__attr_\"imag\"__coeff_9",
         "rawType": "float64",
         "type": "float"
        },
        {
         "name": "value__fft_coefficient__attr_\"imag\"__coeff_10",
         "rawType": "float64",
         "type": "float"
        },
        {
         "name": "value__fft_coefficient__attr_\"imag\"__coeff_11",
         "rawType": "float64",
         "type": "float"
        },
        {
         "name": "value__fft_coefficient__attr_\"imag\"__coeff_12",
         "rawType": "float64",
         "type": "float"
        },
        {
         "name": "value__fft_coefficient__attr_\"imag\"__coeff_13",
         "rawType": "float64",
         "type": "float"
        },
        {
         "name": "value__fft_coefficient__attr_\"imag\"__coeff_14",
         "rawType": "float64",
         "type": "float"
        },
        {
         "name": "value__fft_coefficient__attr_\"imag\"__coeff_15",
         "rawType": "float64",
         "type": "float"
        },
        {
         "name": "value__fft_coefficient__attr_\"imag\"__coeff_16",
         "rawType": "float64",
         "type": "float"
        },
        {
         "name": "value__fft_coefficient__attr_\"imag\"__coeff_17",
         "rawType": "float64",
         "type": "float"
        },
        {
         "name": "value__fft_coefficient__attr_\"imag\"__coeff_18",
         "rawType": "float64",
         "type": "float"
        },
        {
         "name": "value__fft_coefficient__attr_\"imag\"__coeff_19",
         "rawType": "float64",
         "type": "float"
        },
        {
         "name": "value__fft_coefficient__attr_\"imag\"__coeff_20",
         "rawType": "float64",
         "type": "float"
        },
        {
         "name": "value__fft_coefficient__attr_\"imag\"__coeff_21",
         "rawType": "float64",
         "type": "float"
        },
        {
         "name": "value__fft_coefficient__attr_\"imag\"__coeff_22",
         "rawType": "float64",
         "type": "float"
        },
        {
         "name": "value__fft_coefficient__attr_\"imag\"__coeff_23",
         "rawType": "float64",
         "type": "float"
        },
        {
         "name": "value__fft_coefficient__attr_\"imag\"__coeff_24",
         "rawType": "float64",
         "type": "float"
        },
        {
         "name": "value__fft_coefficient__attr_\"imag\"__coeff_25",
         "rawType": "float64",
         "type": "float"
        },
        {
         "name": "value__fft_coefficient__attr_\"imag\"__coeff_26",
         "rawType": "float64",
         "type": "float"
        },
        {
         "name": "value__fft_coefficient__attr_\"imag\"__coeff_27",
         "rawType": "float64",
         "type": "float"
        },
        {
         "name": "value__fft_coefficient__attr_\"imag\"__coeff_28",
         "rawType": "float64",
         "type": "float"
        },
        {
         "name": "value__fft_coefficient__attr_\"imag\"__coeff_29",
         "rawType": "float64",
         "type": "float"
        },
        {
         "name": "value__fft_coefficient__attr_\"imag\"__coeff_30",
         "rawType": "float64",
         "type": "float"
        },
        {
         "name": "value__fft_coefficient__attr_\"imag\"__coeff_31",
         "rawType": "float64",
         "type": "float"
        },
        {
         "name": "value__fft_coefficient__attr_\"imag\"__coeff_32",
         "rawType": "float64",
         "type": "float"
        },
        {
         "name": "value__fft_coefficient__attr_\"imag\"__coeff_33",
         "rawType": "float64",
         "type": "float"
        },
        {
         "name": "value__fft_coefficient__attr_\"imag\"__coeff_34",
         "rawType": "float64",
         "type": "float"
        },
        {
         "name": "value__fft_coefficient__attr_\"imag\"__coeff_35",
         "rawType": "float64",
         "type": "float"
        },
        {
         "name": "value__fft_coefficient__attr_\"imag\"__coeff_36",
         "rawType": "float64",
         "type": "float"
        },
        {
         "name": "value__fft_coefficient__attr_\"imag\"__coeff_37",
         "rawType": "float64",
         "type": "float"
        },
        {
         "name": "value__fft_coefficient__attr_\"imag\"__coeff_38",
         "rawType": "float64",
         "type": "float"
        },
        {
         "name": "value__fft_coefficient__attr_\"imag\"__coeff_39",
         "rawType": "float64",
         "type": "float"
        },
        {
         "name": "value__fft_coefficient__attr_\"imag\"__coeff_40",
         "rawType": "float64",
         "type": "float"
        },
        {
         "name": "value__fft_coefficient__attr_\"imag\"__coeff_41",
         "rawType": "float64",
         "type": "float"
        },
        {
         "name": "value__fft_coefficient__attr_\"imag\"__coeff_42",
         "rawType": "float64",
         "type": "float"
        },
        {
         "name": "value__fft_coefficient__attr_\"imag\"__coeff_43",
         "rawType": "float64",
         "type": "float"
        },
        {
         "name": "value__fft_coefficient__attr_\"imag\"__coeff_44",
         "rawType": "float64",
         "type": "float"
        },
        {
         "name": "value__fft_coefficient__attr_\"imag\"__coeff_45",
         "rawType": "float64",
         "type": "float"
        },
        {
         "name": "value__fft_coefficient__attr_\"imag\"__coeff_46",
         "rawType": "float64",
         "type": "float"
        },
        {
         "name": "value__fft_coefficient__attr_\"imag\"__coeff_47",
         "rawType": "float64",
         "type": "float"
        },
        {
         "name": "value__fft_coefficient__attr_\"imag\"__coeff_48",
         "rawType": "float64",
         "type": "float"
        },
        {
         "name": "value__fft_coefficient__attr_\"imag\"__coeff_49",
         "rawType": "float64",
         "type": "float"
        },
        {
         "name": "value__fft_coefficient__attr_\"imag\"__coeff_50",
         "rawType": "float64",
         "type": "float"
        },
        {
         "name": "value__fft_coefficient__attr_\"imag\"__coeff_51",
         "rawType": "float64",
         "type": "float"
        },
        {
         "name": "value__fft_coefficient__attr_\"imag\"__coeff_52",
         "rawType": "float64",
         "type": "float"
        },
        {
         "name": "value__fft_coefficient__attr_\"imag\"__coeff_53",
         "rawType": "float64",
         "type": "float"
        },
        {
         "name": "value__fft_coefficient__attr_\"imag\"__coeff_54",
         "rawType": "float64",
         "type": "float"
        },
        {
         "name": "value__fft_coefficient__attr_\"imag\"__coeff_55",
         "rawType": "float64",
         "type": "float"
        },
        {
         "name": "value__fft_coefficient__attr_\"imag\"__coeff_56",
         "rawType": "float64",
         "type": "float"
        },
        {
         "name": "value__fft_coefficient__attr_\"imag\"__coeff_57",
         "rawType": "float64",
         "type": "float"
        },
        {
         "name": "value__fft_coefficient__attr_\"imag\"__coeff_58",
         "rawType": "float64",
         "type": "float"
        },
        {
         "name": "value__fft_coefficient__attr_\"imag\"__coeff_59",
         "rawType": "float64",
         "type": "float"
        },
        {
         "name": "value__fft_coefficient__attr_\"imag\"__coeff_60",
         "rawType": "float64",
         "type": "float"
        },
        {
         "name": "value__fft_coefficient__attr_\"imag\"__coeff_61",
         "rawType": "float64",
         "type": "float"
        },
        {
         "name": "value__fft_coefficient__attr_\"imag\"__coeff_62",
         "rawType": "float64",
         "type": "float"
        },
        {
         "name": "value__fft_coefficient__attr_\"imag\"__coeff_63",
         "rawType": "float64",
         "type": "float"
        },
        {
         "name": "value__fft_coefficient__attr_\"imag\"__coeff_64",
         "rawType": "float64",
         "type": "float"
        },
        {
         "name": "value__fft_coefficient__attr_\"imag\"__coeff_65",
         "rawType": "float64",
         "type": "float"
        },
        {
         "name": "value__fft_coefficient__attr_\"imag\"__coeff_66",
         "rawType": "float64",
         "type": "float"
        },
        {
         "name": "value__fft_coefficient__attr_\"imag\"__coeff_67",
         "rawType": "float64",
         "type": "float"
        },
        {
         "name": "value__fft_coefficient__attr_\"imag\"__coeff_68",
         "rawType": "float64",
         "type": "float"
        },
        {
         "name": "value__fft_coefficient__attr_\"imag\"__coeff_69",
         "rawType": "float64",
         "type": "float"
        },
        {
         "name": "value__fft_coefficient__attr_\"imag\"__coeff_70",
         "rawType": "float64",
         "type": "float"
        },
        {
         "name": "value__fft_coefficient__attr_\"imag\"__coeff_71",
         "rawType": "float64",
         "type": "float"
        },
        {
         "name": "value__fft_coefficient__attr_\"imag\"__coeff_72",
         "rawType": "float64",
         "type": "float"
        },
        {
         "name": "value__fft_coefficient__attr_\"imag\"__coeff_73",
         "rawType": "float64",
         "type": "float"
        },
        {
         "name": "value__fft_coefficient__attr_\"imag\"__coeff_74",
         "rawType": "float64",
         "type": "float"
        },
        {
         "name": "value__fft_coefficient__attr_\"imag\"__coeff_75",
         "rawType": "float64",
         "type": "float"
        },
        {
         "name": "value__fft_coefficient__attr_\"imag\"__coeff_76",
         "rawType": "float64",
         "type": "float"
        },
        {
         "name": "value__fft_coefficient__attr_\"imag\"__coeff_77",
         "rawType": "float64",
         "type": "float"
        },
        {
         "name": "value__fft_coefficient__attr_\"imag\"__coeff_78",
         "rawType": "float64",
         "type": "float"
        },
        {
         "name": "value__fft_coefficient__attr_\"imag\"__coeff_79",
         "rawType": "float64",
         "type": "float"
        },
        {
         "name": "value__fft_coefficient__attr_\"imag\"__coeff_80",
         "rawType": "float64",
         "type": "float"
        },
        {
         "name": "value__fft_coefficient__attr_\"imag\"__coeff_81",
         "rawType": "float64",
         "type": "float"
        },
        {
         "name": "value__fft_coefficient__attr_\"imag\"__coeff_82",
         "rawType": "float64",
         "type": "float"
        },
        {
         "name": "value__fft_coefficient__attr_\"imag\"__coeff_83",
         "rawType": "float64",
         "type": "float"
        },
        {
         "name": "value__fft_coefficient__attr_\"imag\"__coeff_84",
         "rawType": "float64",
         "type": "float"
        },
        {
         "name": "value__fft_coefficient__attr_\"imag\"__coeff_85",
         "rawType": "float64",
         "type": "float"
        },
        {
         "name": "value__fft_coefficient__attr_\"imag\"__coeff_86",
         "rawType": "float64",
         "type": "float"
        },
        {
         "name": "value__fft_coefficient__attr_\"imag\"__coeff_87",
         "rawType": "float64",
         "type": "float"
        },
        {
         "name": "value__fft_coefficient__attr_\"imag\"__coeff_88",
         "rawType": "float64",
         "type": "float"
        },
        {
         "name": "value__fft_coefficient__attr_\"imag\"__coeff_89",
         "rawType": "float64",
         "type": "float"
        },
        {
         "name": "value__fft_coefficient__attr_\"imag\"__coeff_90",
         "rawType": "float64",
         "type": "float"
        },
        {
         "name": "value__fft_coefficient__attr_\"imag\"__coeff_91",
         "rawType": "float64",
         "type": "float"
        },
        {
         "name": "value__fft_coefficient__attr_\"imag\"__coeff_92",
         "rawType": "float64",
         "type": "float"
        },
        {
         "name": "value__fft_coefficient__attr_\"imag\"__coeff_93",
         "rawType": "float64",
         "type": "float"
        },
        {
         "name": "value__fft_coefficient__attr_\"imag\"__coeff_94",
         "rawType": "float64",
         "type": "float"
        },
        {
         "name": "value__fft_coefficient__attr_\"imag\"__coeff_95",
         "rawType": "float64",
         "type": "float"
        },
        {
         "name": "value__fft_coefficient__attr_\"imag\"__coeff_96",
         "rawType": "float64",
         "type": "float"
        },
        {
         "name": "value__fft_coefficient__attr_\"imag\"__coeff_97",
         "rawType": "float64",
         "type": "float"
        },
        {
         "name": "value__fft_coefficient__attr_\"imag\"__coeff_98",
         "rawType": "float64",
         "type": "float"
        },
        {
         "name": "value__fft_coefficient__attr_\"imag\"__coeff_99",
         "rawType": "float64",
         "type": "float"
        },
        {
         "name": "value__fft_coefficient__attr_\"abs\"__coeff_0",
         "rawType": "float64",
         "type": "float"
        },
        {
         "name": "value__fft_coefficient__attr_\"abs\"__coeff_1",
         "rawType": "float64",
         "type": "float"
        },
        {
         "name": "value__fft_coefficient__attr_\"abs\"__coeff_2",
         "rawType": "float64",
         "type": "float"
        },
        {
         "name": "value__fft_coefficient__attr_\"abs\"__coeff_3",
         "rawType": "float64",
         "type": "float"
        },
        {
         "name": "value__fft_coefficient__attr_\"abs\"__coeff_4",
         "rawType": "float64",
         "type": "float"
        },
        {
         "name": "value__fft_coefficient__attr_\"abs\"__coeff_5",
         "rawType": "float64",
         "type": "float"
        },
        {
         "name": "value__fft_coefficient__attr_\"abs\"__coeff_6",
         "rawType": "float64",
         "type": "float"
        },
        {
         "name": "value__fft_coefficient__attr_\"abs\"__coeff_7",
         "rawType": "float64",
         "type": "float"
        },
        {
         "name": "value__fft_coefficient__attr_\"abs\"__coeff_8",
         "rawType": "float64",
         "type": "float"
        },
        {
         "name": "value__fft_coefficient__attr_\"abs\"__coeff_9",
         "rawType": "float64",
         "type": "float"
        },
        {
         "name": "value__fft_coefficient__attr_\"abs\"__coeff_10",
         "rawType": "float64",
         "type": "float"
        },
        {
         "name": "value__fft_coefficient__attr_\"abs\"__coeff_11",
         "rawType": "float64",
         "type": "float"
        },
        {
         "name": "value__fft_coefficient__attr_\"abs\"__coeff_12",
         "rawType": "float64",
         "type": "float"
        },
        {
         "name": "value__fft_coefficient__attr_\"abs\"__coeff_13",
         "rawType": "float64",
         "type": "float"
        },
        {
         "name": "value__fft_coefficient__attr_\"abs\"__coeff_14",
         "rawType": "float64",
         "type": "float"
        },
        {
         "name": "value__fft_coefficient__attr_\"abs\"__coeff_15",
         "rawType": "float64",
         "type": "float"
        },
        {
         "name": "value__fft_coefficient__attr_\"abs\"__coeff_16",
         "rawType": "float64",
         "type": "float"
        },
        {
         "name": "value__fft_coefficient__attr_\"abs\"__coeff_17",
         "rawType": "float64",
         "type": "float"
        },
        {
         "name": "value__fft_coefficient__attr_\"abs\"__coeff_18",
         "rawType": "float64",
         "type": "float"
        },
        {
         "name": "value__fft_coefficient__attr_\"abs\"__coeff_19",
         "rawType": "float64",
         "type": "float"
        },
        {
         "name": "value__fft_coefficient__attr_\"abs\"__coeff_20",
         "rawType": "float64",
         "type": "float"
        },
        {
         "name": "value__fft_coefficient__attr_\"abs\"__coeff_21",
         "rawType": "float64",
         "type": "float"
        },
        {
         "name": "value__fft_coefficient__attr_\"abs\"__coeff_22",
         "rawType": "float64",
         "type": "float"
        },
        {
         "name": "value__fft_coefficient__attr_\"abs\"__coeff_23",
         "rawType": "float64",
         "type": "float"
        },
        {
         "name": "value__fft_coefficient__attr_\"abs\"__coeff_24",
         "rawType": "float64",
         "type": "float"
        },
        {
         "name": "value__fft_coefficient__attr_\"abs\"__coeff_25",
         "rawType": "float64",
         "type": "float"
        },
        {
         "name": "value__fft_coefficient__attr_\"abs\"__coeff_26",
         "rawType": "float64",
         "type": "float"
        },
        {
         "name": "value__fft_coefficient__attr_\"abs\"__coeff_27",
         "rawType": "float64",
         "type": "float"
        },
        {
         "name": "value__fft_coefficient__attr_\"abs\"__coeff_28",
         "rawType": "float64",
         "type": "float"
        },
        {
         "name": "value__fft_coefficient__attr_\"abs\"__coeff_29",
         "rawType": "float64",
         "type": "float"
        },
        {
         "name": "value__fft_coefficient__attr_\"abs\"__coeff_30",
         "rawType": "float64",
         "type": "float"
        },
        {
         "name": "value__fft_coefficient__attr_\"abs\"__coeff_31",
         "rawType": "float64",
         "type": "float"
        },
        {
         "name": "value__fft_coefficient__attr_\"abs\"__coeff_32",
         "rawType": "float64",
         "type": "float"
        },
        {
         "name": "value__fft_coefficient__attr_\"abs\"__coeff_33",
         "rawType": "float64",
         "type": "float"
        },
        {
         "name": "value__fft_coefficient__attr_\"abs\"__coeff_34",
         "rawType": "float64",
         "type": "float"
        },
        {
         "name": "value__fft_coefficient__attr_\"abs\"__coeff_35",
         "rawType": "float64",
         "type": "float"
        },
        {
         "name": "value__fft_coefficient__attr_\"abs\"__coeff_36",
         "rawType": "float64",
         "type": "float"
        },
        {
         "name": "value__fft_coefficient__attr_\"abs\"__coeff_37",
         "rawType": "float64",
         "type": "float"
        },
        {
         "name": "value__fft_coefficient__attr_\"abs\"__coeff_38",
         "rawType": "float64",
         "type": "float"
        },
        {
         "name": "value__fft_coefficient__attr_\"abs\"__coeff_39",
         "rawType": "float64",
         "type": "float"
        },
        {
         "name": "value__fft_coefficient__attr_\"abs\"__coeff_40",
         "rawType": "float64",
         "type": "float"
        },
        {
         "name": "value__fft_coefficient__attr_\"abs\"__coeff_41",
         "rawType": "float64",
         "type": "float"
        },
        {
         "name": "value__fft_coefficient__attr_\"abs\"__coeff_42",
         "rawType": "float64",
         "type": "float"
        },
        {
         "name": "value__fft_coefficient__attr_\"abs\"__coeff_43",
         "rawType": "float64",
         "type": "float"
        },
        {
         "name": "value__fft_coefficient__attr_\"abs\"__coeff_44",
         "rawType": "float64",
         "type": "float"
        },
        {
         "name": "value__fft_coefficient__attr_\"abs\"__coeff_45",
         "rawType": "float64",
         "type": "float"
        },
        {
         "name": "value__fft_coefficient__attr_\"abs\"__coeff_46",
         "rawType": "float64",
         "type": "float"
        },
        {
         "name": "value__fft_coefficient__attr_\"abs\"__coeff_47",
         "rawType": "float64",
         "type": "float"
        },
        {
         "name": "value__fft_coefficient__attr_\"abs\"__coeff_48",
         "rawType": "float64",
         "type": "float"
        },
        {
         "name": "value__fft_coefficient__attr_\"abs\"__coeff_49",
         "rawType": "float64",
         "type": "float"
        },
        {
         "name": "value__fft_coefficient__attr_\"abs\"__coeff_50",
         "rawType": "float64",
         "type": "float"
        },
        {
         "name": "value__fft_coefficient__attr_\"abs\"__coeff_51",
         "rawType": "float64",
         "type": "float"
        },
        {
         "name": "value__fft_coefficient__attr_\"abs\"__coeff_52",
         "rawType": "float64",
         "type": "float"
        },
        {
         "name": "value__fft_coefficient__attr_\"abs\"__coeff_53",
         "rawType": "float64",
         "type": "float"
        },
        {
         "name": "value__fft_coefficient__attr_\"abs\"__coeff_54",
         "rawType": "float64",
         "type": "float"
        },
        {
         "name": "value__fft_coefficient__attr_\"abs\"__coeff_55",
         "rawType": "float64",
         "type": "float"
        },
        {
         "name": "value__fft_coefficient__attr_\"abs\"__coeff_56",
         "rawType": "float64",
         "type": "float"
        },
        {
         "name": "value__fft_coefficient__attr_\"abs\"__coeff_57",
         "rawType": "float64",
         "type": "float"
        },
        {
         "name": "value__fft_coefficient__attr_\"abs\"__coeff_58",
         "rawType": "float64",
         "type": "float"
        },
        {
         "name": "value__fft_coefficient__attr_\"abs\"__coeff_59",
         "rawType": "float64",
         "type": "float"
        },
        {
         "name": "value__fft_coefficient__attr_\"abs\"__coeff_60",
         "rawType": "float64",
         "type": "float"
        },
        {
         "name": "value__fft_coefficient__attr_\"abs\"__coeff_61",
         "rawType": "float64",
         "type": "float"
        },
        {
         "name": "value__fft_coefficient__attr_\"abs\"__coeff_62",
         "rawType": "float64",
         "type": "float"
        },
        {
         "name": "value__fft_coefficient__attr_\"abs\"__coeff_63",
         "rawType": "float64",
         "type": "float"
        },
        {
         "name": "value__fft_coefficient__attr_\"abs\"__coeff_64",
         "rawType": "float64",
         "type": "float"
        },
        {
         "name": "value__fft_coefficient__attr_\"abs\"__coeff_65",
         "rawType": "float64",
         "type": "float"
        },
        {
         "name": "value__fft_coefficient__attr_\"abs\"__coeff_66",
         "rawType": "float64",
         "type": "float"
        },
        {
         "name": "value__fft_coefficient__attr_\"abs\"__coeff_67",
         "rawType": "float64",
         "type": "float"
        },
        {
         "name": "value__fft_coefficient__attr_\"abs\"__coeff_68",
         "rawType": "float64",
         "type": "float"
        },
        {
         "name": "value__fft_coefficient__attr_\"abs\"__coeff_69",
         "rawType": "float64",
         "type": "float"
        },
        {
         "name": "value__fft_coefficient__attr_\"abs\"__coeff_70",
         "rawType": "float64",
         "type": "float"
        },
        {
         "name": "value__fft_coefficient__attr_\"abs\"__coeff_71",
         "rawType": "float64",
         "type": "float"
        },
        {
         "name": "value__fft_coefficient__attr_\"abs\"__coeff_72",
         "rawType": "float64",
         "type": "float"
        },
        {
         "name": "value__fft_coefficient__attr_\"abs\"__coeff_73",
         "rawType": "float64",
         "type": "float"
        },
        {
         "name": "value__fft_coefficient__attr_\"abs\"__coeff_74",
         "rawType": "float64",
         "type": "float"
        },
        {
         "name": "value__fft_coefficient__attr_\"abs\"__coeff_75",
         "rawType": "float64",
         "type": "float"
        },
        {
         "name": "value__fft_coefficient__attr_\"abs\"__coeff_76",
         "rawType": "float64",
         "type": "float"
        },
        {
         "name": "value__fft_coefficient__attr_\"abs\"__coeff_77",
         "rawType": "float64",
         "type": "float"
        },
        {
         "name": "value__fft_coefficient__attr_\"abs\"__coeff_78",
         "rawType": "float64",
         "type": "float"
        },
        {
         "name": "value__fft_coefficient__attr_\"abs\"__coeff_79",
         "rawType": "float64",
         "type": "float"
        },
        {
         "name": "value__fft_coefficient__attr_\"abs\"__coeff_80",
         "rawType": "float64",
         "type": "float"
        },
        {
         "name": "value__fft_coefficient__attr_\"abs\"__coeff_81",
         "rawType": "float64",
         "type": "float"
        },
        {
         "name": "value__fft_coefficient__attr_\"abs\"__coeff_82",
         "rawType": "float64",
         "type": "float"
        },
        {
         "name": "value__fft_coefficient__attr_\"abs\"__coeff_83",
         "rawType": "float64",
         "type": "float"
        },
        {
         "name": "value__fft_coefficient__attr_\"abs\"__coeff_84",
         "rawType": "float64",
         "type": "float"
        },
        {
         "name": "value__fft_coefficient__attr_\"abs\"__coeff_85",
         "rawType": "float64",
         "type": "float"
        },
        {
         "name": "value__fft_coefficient__attr_\"abs\"__coeff_86",
         "rawType": "float64",
         "type": "float"
        },
        {
         "name": "value__fft_coefficient__attr_\"abs\"__coeff_87",
         "rawType": "float64",
         "type": "float"
        },
        {
         "name": "value__fft_coefficient__attr_\"abs\"__coeff_88",
         "rawType": "float64",
         "type": "float"
        },
        {
         "name": "value__fft_coefficient__attr_\"abs\"__coeff_89",
         "rawType": "float64",
         "type": "float"
        },
        {
         "name": "value__fft_coefficient__attr_\"abs\"__coeff_90",
         "rawType": "float64",
         "type": "float"
        },
        {
         "name": "value__fft_coefficient__attr_\"abs\"__coeff_91",
         "rawType": "float64",
         "type": "float"
        },
        {
         "name": "value__fft_coefficient__attr_\"abs\"__coeff_92",
         "rawType": "float64",
         "type": "float"
        },
        {
         "name": "value__fft_coefficient__attr_\"abs\"__coeff_93",
         "rawType": "float64",
         "type": "float"
        },
        {
         "name": "value__fft_coefficient__attr_\"abs\"__coeff_94",
         "rawType": "float64",
         "type": "float"
        },
        {
         "name": "value__fft_coefficient__attr_\"abs\"__coeff_95",
         "rawType": "float64",
         "type": "float"
        },
        {
         "name": "value__fft_coefficient__attr_\"abs\"__coeff_96",
         "rawType": "float64",
         "type": "float"
        },
        {
         "name": "value__fft_coefficient__attr_\"abs\"__coeff_97",
         "rawType": "float64",
         "type": "float"
        },
        {
         "name": "value__fft_coefficient__attr_\"abs\"__coeff_98",
         "rawType": "float64",
         "type": "float"
        },
        {
         "name": "value__fft_coefficient__attr_\"abs\"__coeff_99",
         "rawType": "float64",
         "type": "float"
        },
        {
         "name": "value__fft_coefficient__attr_\"angle\"__coeff_0",
         "rawType": "float64",
         "type": "float"
        },
        {
         "name": "value__fft_coefficient__attr_\"angle\"__coeff_1",
         "rawType": "float64",
         "type": "float"
        },
        {
         "name": "value__fft_coefficient__attr_\"angle\"__coeff_2",
         "rawType": "float64",
         "type": "float"
        },
        {
         "name": "value__fft_coefficient__attr_\"angle\"__coeff_3",
         "rawType": "float64",
         "type": "float"
        },
        {
         "name": "value__fft_coefficient__attr_\"angle\"__coeff_4",
         "rawType": "float64",
         "type": "float"
        },
        {
         "name": "value__fft_coefficient__attr_\"angle\"__coeff_5",
         "rawType": "float64",
         "type": "float"
        },
        {
         "name": "value__fft_coefficient__attr_\"angle\"__coeff_6",
         "rawType": "float64",
         "type": "float"
        },
        {
         "name": "value__fft_coefficient__attr_\"angle\"__coeff_7",
         "rawType": "float64",
         "type": "float"
        },
        {
         "name": "value__fft_coefficient__attr_\"angle\"__coeff_8",
         "rawType": "float64",
         "type": "float"
        },
        {
         "name": "value__fft_coefficient__attr_\"angle\"__coeff_9",
         "rawType": "float64",
         "type": "float"
        },
        {
         "name": "value__fft_coefficient__attr_\"angle\"__coeff_10",
         "rawType": "float64",
         "type": "float"
        },
        {
         "name": "value__fft_coefficient__attr_\"angle\"__coeff_11",
         "rawType": "float64",
         "type": "float"
        },
        {
         "name": "value__fft_coefficient__attr_\"angle\"__coeff_12",
         "rawType": "float64",
         "type": "float"
        },
        {
         "name": "value__fft_coefficient__attr_\"angle\"__coeff_13",
         "rawType": "float64",
         "type": "float"
        },
        {
         "name": "value__fft_coefficient__attr_\"angle\"__coeff_14",
         "rawType": "float64",
         "type": "float"
        },
        {
         "name": "value__fft_coefficient__attr_\"angle\"__coeff_15",
         "rawType": "float64",
         "type": "float"
        },
        {
         "name": "value__fft_coefficient__attr_\"angle\"__coeff_16",
         "rawType": "float64",
         "type": "float"
        },
        {
         "name": "value__fft_coefficient__attr_\"angle\"__coeff_17",
         "rawType": "float64",
         "type": "float"
        },
        {
         "name": "value__fft_coefficient__attr_\"angle\"__coeff_18",
         "rawType": "float64",
         "type": "float"
        },
        {
         "name": "value__fft_coefficient__attr_\"angle\"__coeff_19",
         "rawType": "float64",
         "type": "float"
        },
        {
         "name": "value__fft_coefficient__attr_\"angle\"__coeff_20",
         "rawType": "float64",
         "type": "float"
        },
        {
         "name": "value__fft_coefficient__attr_\"angle\"__coeff_21",
         "rawType": "float64",
         "type": "float"
        },
        {
         "name": "value__fft_coefficient__attr_\"angle\"__coeff_22",
         "rawType": "float64",
         "type": "float"
        },
        {
         "name": "value__fft_coefficient__attr_\"angle\"__coeff_23",
         "rawType": "float64",
         "type": "float"
        },
        {
         "name": "value__fft_coefficient__attr_\"angle\"__coeff_24",
         "rawType": "float64",
         "type": "float"
        },
        {
         "name": "value__fft_coefficient__attr_\"angle\"__coeff_25",
         "rawType": "float64",
         "type": "float"
        },
        {
         "name": "value__fft_coefficient__attr_\"angle\"__coeff_26",
         "rawType": "float64",
         "type": "float"
        },
        {
         "name": "value__fft_coefficient__attr_\"angle\"__coeff_27",
         "rawType": "float64",
         "type": "float"
        },
        {
         "name": "value__fft_coefficient__attr_\"angle\"__coeff_28",
         "rawType": "float64",
         "type": "float"
        },
        {
         "name": "value__fft_coefficient__attr_\"angle\"__coeff_29",
         "rawType": "float64",
         "type": "float"
        },
        {
         "name": "value__fft_coefficient__attr_\"angle\"__coeff_30",
         "rawType": "float64",
         "type": "float"
        },
        {
         "name": "value__fft_coefficient__attr_\"angle\"__coeff_31",
         "rawType": "float64",
         "type": "float"
        },
        {
         "name": "value__fft_coefficient__attr_\"angle\"__coeff_32",
         "rawType": "float64",
         "type": "float"
        },
        {
         "name": "value__fft_coefficient__attr_\"angle\"__coeff_33",
         "rawType": "float64",
         "type": "float"
        },
        {
         "name": "value__fft_coefficient__attr_\"angle\"__coeff_34",
         "rawType": "float64",
         "type": "float"
        },
        {
         "name": "value__fft_coefficient__attr_\"angle\"__coeff_35",
         "rawType": "float64",
         "type": "float"
        },
        {
         "name": "value__fft_coefficient__attr_\"angle\"__coeff_36",
         "rawType": "float64",
         "type": "float"
        },
        {
         "name": "value__fft_coefficient__attr_\"angle\"__coeff_37",
         "rawType": "float64",
         "type": "float"
        },
        {
         "name": "value__fft_coefficient__attr_\"angle\"__coeff_38",
         "rawType": "float64",
         "type": "float"
        },
        {
         "name": "value__fft_coefficient__attr_\"angle\"__coeff_39",
         "rawType": "float64",
         "type": "float"
        },
        {
         "name": "value__fft_coefficient__attr_\"angle\"__coeff_40",
         "rawType": "float64",
         "type": "float"
        },
        {
         "name": "value__fft_coefficient__attr_\"angle\"__coeff_41",
         "rawType": "float64",
         "type": "float"
        },
        {
         "name": "value__fft_coefficient__attr_\"angle\"__coeff_42",
         "rawType": "float64",
         "type": "float"
        },
        {
         "name": "value__fft_coefficient__attr_\"angle\"__coeff_43",
         "rawType": "float64",
         "type": "float"
        },
        {
         "name": "value__fft_coefficient__attr_\"angle\"__coeff_44",
         "rawType": "float64",
         "type": "float"
        },
        {
         "name": "value__fft_coefficient__attr_\"angle\"__coeff_45",
         "rawType": "float64",
         "type": "float"
        },
        {
         "name": "value__fft_coefficient__attr_\"angle\"__coeff_46",
         "rawType": "float64",
         "type": "float"
        },
        {
         "name": "value__fft_coefficient__attr_\"angle\"__coeff_47",
         "rawType": "float64",
         "type": "float"
        },
        {
         "name": "value__fft_coefficient__attr_\"angle\"__coeff_48",
         "rawType": "float64",
         "type": "float"
        },
        {
         "name": "value__fft_coefficient__attr_\"angle\"__coeff_49",
         "rawType": "float64",
         "type": "float"
        },
        {
         "name": "value__fft_coefficient__attr_\"angle\"__coeff_50",
         "rawType": "float64",
         "type": "float"
        },
        {
         "name": "value__fft_coefficient__attr_\"angle\"__coeff_51",
         "rawType": "float64",
         "type": "float"
        },
        {
         "name": "value__fft_coefficient__attr_\"angle\"__coeff_52",
         "rawType": "float64",
         "type": "float"
        },
        {
         "name": "value__fft_coefficient__attr_\"angle\"__coeff_53",
         "rawType": "float64",
         "type": "float"
        },
        {
         "name": "value__fft_coefficient__attr_\"angle\"__coeff_54",
         "rawType": "float64",
         "type": "float"
        },
        {
         "name": "value__fft_coefficient__attr_\"angle\"__coeff_55",
         "rawType": "float64",
         "type": "float"
        },
        {
         "name": "value__fft_coefficient__attr_\"angle\"__coeff_56",
         "rawType": "float64",
         "type": "float"
        },
        {
         "name": "value__fft_coefficient__attr_\"angle\"__coeff_57",
         "rawType": "float64",
         "type": "float"
        },
        {
         "name": "value__fft_coefficient__attr_\"angle\"__coeff_58",
         "rawType": "float64",
         "type": "float"
        },
        {
         "name": "value__fft_coefficient__attr_\"angle\"__coeff_59",
         "rawType": "float64",
         "type": "float"
        },
        {
         "name": "value__fft_coefficient__attr_\"angle\"__coeff_60",
         "rawType": "float64",
         "type": "float"
        },
        {
         "name": "value__fft_coefficient__attr_\"angle\"__coeff_61",
         "rawType": "float64",
         "type": "float"
        },
        {
         "name": "value__fft_coefficient__attr_\"angle\"__coeff_62",
         "rawType": "float64",
         "type": "float"
        },
        {
         "name": "value__fft_coefficient__attr_\"angle\"__coeff_63",
         "rawType": "float64",
         "type": "float"
        },
        {
         "name": "value__fft_coefficient__attr_\"angle\"__coeff_64",
         "rawType": "float64",
         "type": "float"
        },
        {
         "name": "value__fft_coefficient__attr_\"angle\"__coeff_65",
         "rawType": "float64",
         "type": "float"
        },
        {
         "name": "value__fft_coefficient__attr_\"angle\"__coeff_66",
         "rawType": "float64",
         "type": "float"
        },
        {
         "name": "value__fft_coefficient__attr_\"angle\"__coeff_67",
         "rawType": "float64",
         "type": "float"
        },
        {
         "name": "value__fft_coefficient__attr_\"angle\"__coeff_68",
         "rawType": "float64",
         "type": "float"
        },
        {
         "name": "value__fft_coefficient__attr_\"angle\"__coeff_69",
         "rawType": "float64",
         "type": "float"
        },
        {
         "name": "value__fft_coefficient__attr_\"angle\"__coeff_70",
         "rawType": "float64",
         "type": "float"
        },
        {
         "name": "value__fft_coefficient__attr_\"angle\"__coeff_71",
         "rawType": "float64",
         "type": "float"
        },
        {
         "name": "value__fft_coefficient__attr_\"angle\"__coeff_72",
         "rawType": "float64",
         "type": "float"
        },
        {
         "name": "value__fft_coefficient__attr_\"angle\"__coeff_73",
         "rawType": "float64",
         "type": "float"
        },
        {
         "name": "value__fft_coefficient__attr_\"angle\"__coeff_74",
         "rawType": "float64",
         "type": "float"
        },
        {
         "name": "value__fft_coefficient__attr_\"angle\"__coeff_75",
         "rawType": "float64",
         "type": "float"
        },
        {
         "name": "value__fft_coefficient__attr_\"angle\"__coeff_76",
         "rawType": "float64",
         "type": "float"
        },
        {
         "name": "value__fft_coefficient__attr_\"angle\"__coeff_77",
         "rawType": "float64",
         "type": "float"
        },
        {
         "name": "value__fft_coefficient__attr_\"angle\"__coeff_78",
         "rawType": "float64",
         "type": "float"
        },
        {
         "name": "value__fft_coefficient__attr_\"angle\"__coeff_79",
         "rawType": "float64",
         "type": "float"
        },
        {
         "name": "value__fft_coefficient__attr_\"angle\"__coeff_80",
         "rawType": "float64",
         "type": "float"
        },
        {
         "name": "value__fft_coefficient__attr_\"angle\"__coeff_81",
         "rawType": "float64",
         "type": "float"
        },
        {
         "name": "value__fft_coefficient__attr_\"angle\"__coeff_82",
         "rawType": "float64",
         "type": "float"
        },
        {
         "name": "value__fft_coefficient__attr_\"angle\"__coeff_83",
         "rawType": "float64",
         "type": "float"
        },
        {
         "name": "value__fft_coefficient__attr_\"angle\"__coeff_84",
         "rawType": "float64",
         "type": "float"
        },
        {
         "name": "value__fft_coefficient__attr_\"angle\"__coeff_85",
         "rawType": "float64",
         "type": "float"
        },
        {
         "name": "value__fft_coefficient__attr_\"angle\"__coeff_86",
         "rawType": "float64",
         "type": "float"
        },
        {
         "name": "value__fft_coefficient__attr_\"angle\"__coeff_87",
         "rawType": "float64",
         "type": "float"
        },
        {
         "name": "value__fft_coefficient__attr_\"angle\"__coeff_88",
         "rawType": "float64",
         "type": "float"
        },
        {
         "name": "value__fft_coefficient__attr_\"angle\"__coeff_89",
         "rawType": "float64",
         "type": "float"
        },
        {
         "name": "value__fft_coefficient__attr_\"angle\"__coeff_90",
         "rawType": "float64",
         "type": "float"
        },
        {
         "name": "value__fft_coefficient__attr_\"angle\"__coeff_91",
         "rawType": "float64",
         "type": "float"
        },
        {
         "name": "value__fft_coefficient__attr_\"angle\"__coeff_92",
         "rawType": "float64",
         "type": "float"
        },
        {
         "name": "value__fft_coefficient__attr_\"angle\"__coeff_93",
         "rawType": "float64",
         "type": "float"
        },
        {
         "name": "value__fft_coefficient__attr_\"angle\"__coeff_94",
         "rawType": "float64",
         "type": "float"
        },
        {
         "name": "value__fft_coefficient__attr_\"angle\"__coeff_95",
         "rawType": "float64",
         "type": "float"
        },
        {
         "name": "value__fft_coefficient__attr_\"angle\"__coeff_96",
         "rawType": "float64",
         "type": "float"
        },
        {
         "name": "value__fft_coefficient__attr_\"angle\"__coeff_97",
         "rawType": "float64",
         "type": "float"
        },
        {
         "name": "value__fft_coefficient__attr_\"angle\"__coeff_98",
         "rawType": "float64",
         "type": "float"
        },
        {
         "name": "value__fft_coefficient__attr_\"angle\"__coeff_99",
         "rawType": "float64",
         "type": "float"
        },
        {
         "name": "value__fft_aggregated__aggtype_\"centroid\"",
         "rawType": "float64",
         "type": "float"
        },
        {
         "name": "value__fft_aggregated__aggtype_\"variance\"",
         "rawType": "float64",
         "type": "float"
        },
        {
         "name": "value__fft_aggregated__aggtype_\"skew\"",
         "rawType": "float64",
         "type": "float"
        },
        {
         "name": "value__fft_aggregated__aggtype_\"kurtosis\"",
         "rawType": "float64",
         "type": "float"
        },
        {
         "name": "value__value_count__value_0",
         "rawType": "float64",
         "type": "float"
        },
        {
         "name": "value__value_count__value_1",
         "rawType": "float64",
         "type": "float"
        },
        {
         "name": "value__value_count__value_-1",
         "rawType": "float64",
         "type": "float"
        },
        {
         "name": "value__range_count__max_1__min_-1",
         "rawType": "float64",
         "type": "float"
        },
        {
         "name": "value__range_count__max_0__min_-1000000000000.0",
         "rawType": "float64",
         "type": "float"
        },
        {
         "name": "value__range_count__max_1000000000000.0__min_0",
         "rawType": "float64",
         "type": "float"
        },
        {
         "name": "value__approximate_entropy__m_2__r_0.1",
         "rawType": "float64",
         "type": "float"
        },
        {
         "name": "value__approximate_entropy__m_2__r_0.3",
         "rawType": "float64",
         "type": "float"
        },
        {
         "name": "value__approximate_entropy__m_2__r_0.5",
         "rawType": "float64",
         "type": "float"
        },
        {
         "name": "value__approximate_entropy__m_2__r_0.7",
         "rawType": "float64",
         "type": "float"
        },
        {
         "name": "value__approximate_entropy__m_2__r_0.9",
         "rawType": "float64",
         "type": "float"
        },
        {
         "name": "value__friedrich_coefficients__coeff_0__m_3__r_30",
         "rawType": "float64",
         "type": "float"
        },
        {
         "name": "value__friedrich_coefficients__coeff_1__m_3__r_30",
         "rawType": "float64",
         "type": "float"
        },
        {
         "name": "value__friedrich_coefficients__coeff_2__m_3__r_30",
         "rawType": "float64",
         "type": "float"
        },
        {
         "name": "value__friedrich_coefficients__coeff_3__m_3__r_30",
         "rawType": "float64",
         "type": "float"
        },
        {
         "name": "value__max_langevin_fixed_point__m_3__r_30",
         "rawType": "float64",
         "type": "float"
        },
        {
         "name": "value__linear_trend__attr_\"pvalue\"",
         "rawType": "float64",
         "type": "float"
        },
        {
         "name": "value__linear_trend__attr_\"rvalue\"",
         "rawType": "float64",
         "type": "float"
        },
        {
         "name": "value__linear_trend__attr_\"intercept\"",
         "rawType": "float64",
         "type": "float"
        },
        {
         "name": "value__linear_trend__attr_\"slope\"",
         "rawType": "float64",
         "type": "float"
        },
        {
         "name": "value__linear_trend__attr_\"stderr\"",
         "rawType": "float64",
         "type": "float"
        },
        {
         "name": "value__agg_linear_trend__attr_\"rvalue\"__chunk_len_5__f_agg_\"max\"",
         "rawType": "float64",
         "type": "float"
        },
        {
         "name": "value__agg_linear_trend__attr_\"rvalue\"__chunk_len_5__f_agg_\"min\"",
         "rawType": "float64",
         "type": "float"
        },
        {
         "name": "value__agg_linear_trend__attr_\"rvalue\"__chunk_len_5__f_agg_\"mean\"",
         "rawType": "float64",
         "type": "float"
        },
        {
         "name": "value__agg_linear_trend__attr_\"rvalue\"__chunk_len_5__f_agg_\"var\"",
         "rawType": "float64",
         "type": "float"
        },
        {
         "name": "value__agg_linear_trend__attr_\"rvalue\"__chunk_len_10__f_agg_\"max\"",
         "rawType": "float64",
         "type": "float"
        },
        {
         "name": "value__agg_linear_trend__attr_\"rvalue\"__chunk_len_10__f_agg_\"min\"",
         "rawType": "float64",
         "type": "float"
        },
        {
         "name": "value__agg_linear_trend__attr_\"rvalue\"__chunk_len_10__f_agg_\"mean\"",
         "rawType": "float64",
         "type": "float"
        },
        {
         "name": "value__agg_linear_trend__attr_\"rvalue\"__chunk_len_10__f_agg_\"var\"",
         "rawType": "float64",
         "type": "float"
        },
        {
         "name": "value__agg_linear_trend__attr_\"rvalue\"__chunk_len_50__f_agg_\"max\"",
         "rawType": "float64",
         "type": "float"
        },
        {
         "name": "value__agg_linear_trend__attr_\"rvalue\"__chunk_len_50__f_agg_\"min\"",
         "rawType": "float64",
         "type": "float"
        },
        {
         "name": "value__agg_linear_trend__attr_\"rvalue\"__chunk_len_50__f_agg_\"mean\"",
         "rawType": "float64",
         "type": "float"
        },
        {
         "name": "value__agg_linear_trend__attr_\"rvalue\"__chunk_len_50__f_agg_\"var\"",
         "rawType": "float64",
         "type": "float"
        },
        {
         "name": "value__agg_linear_trend__attr_\"intercept\"__chunk_len_5__f_agg_\"max\"",
         "rawType": "float64",
         "type": "float"
        },
        {
         "name": "value__agg_linear_trend__attr_\"intercept\"__chunk_len_5__f_agg_\"min\"",
         "rawType": "float64",
         "type": "float"
        },
        {
         "name": "value__agg_linear_trend__attr_\"intercept\"__chunk_len_5__f_agg_\"mean\"",
         "rawType": "float64",
         "type": "float"
        },
        {
         "name": "value__agg_linear_trend__attr_\"intercept\"__chunk_len_5__f_agg_\"var\"",
         "rawType": "float64",
         "type": "float"
        },
        {
         "name": "value__agg_linear_trend__attr_\"intercept\"__chunk_len_10__f_agg_\"max\"",
         "rawType": "float64",
         "type": "float"
        },
        {
         "name": "value__agg_linear_trend__attr_\"intercept\"__chunk_len_10__f_agg_\"min\"",
         "rawType": "float64",
         "type": "float"
        },
        {
         "name": "value__agg_linear_trend__attr_\"intercept\"__chunk_len_10__f_agg_\"mean\"",
         "rawType": "float64",
         "type": "float"
        },
        {
         "name": "value__agg_linear_trend__attr_\"intercept\"__chunk_len_10__f_agg_\"var\"",
         "rawType": "float64",
         "type": "float"
        },
        {
         "name": "value__agg_linear_trend__attr_\"intercept\"__chunk_len_50__f_agg_\"max\"",
         "rawType": "float64",
         "type": "float"
        },
        {
         "name": "value__agg_linear_trend__attr_\"intercept\"__chunk_len_50__f_agg_\"min\"",
         "rawType": "float64",
         "type": "float"
        },
        {
         "name": "value__agg_linear_trend__attr_\"intercept\"__chunk_len_50__f_agg_\"mean\"",
         "rawType": "float64",
         "type": "float"
        },
        {
         "name": "value__agg_linear_trend__attr_\"intercept\"__chunk_len_50__f_agg_\"var\"",
         "rawType": "float64",
         "type": "float"
        },
        {
         "name": "value__agg_linear_trend__attr_\"slope\"__chunk_len_5__f_agg_\"max\"",
         "rawType": "float64",
         "type": "float"
        },
        {
         "name": "value__agg_linear_trend__attr_\"slope\"__chunk_len_5__f_agg_\"min\"",
         "rawType": "float64",
         "type": "float"
        },
        {
         "name": "value__agg_linear_trend__attr_\"slope\"__chunk_len_5__f_agg_\"mean\"",
         "rawType": "float64",
         "type": "float"
        },
        {
         "name": "value__agg_linear_trend__attr_\"slope\"__chunk_len_5__f_agg_\"var\"",
         "rawType": "float64",
         "type": "float"
        },
        {
         "name": "value__agg_linear_trend__attr_\"slope\"__chunk_len_10__f_agg_\"max\"",
         "rawType": "float64",
         "type": "float"
        },
        {
         "name": "value__agg_linear_trend__attr_\"slope\"__chunk_len_10__f_agg_\"min\"",
         "rawType": "float64",
         "type": "float"
        },
        {
         "name": "value__agg_linear_trend__attr_\"slope\"__chunk_len_10__f_agg_\"mean\"",
         "rawType": "float64",
         "type": "float"
        },
        {
         "name": "value__agg_linear_trend__attr_\"slope\"__chunk_len_10__f_agg_\"var\"",
         "rawType": "float64",
         "type": "float"
        },
        {
         "name": "value__agg_linear_trend__attr_\"slope\"__chunk_len_50__f_agg_\"max\"",
         "rawType": "float64",
         "type": "float"
        },
        {
         "name": "value__agg_linear_trend__attr_\"slope\"__chunk_len_50__f_agg_\"min\"",
         "rawType": "float64",
         "type": "float"
        },
        {
         "name": "value__agg_linear_trend__attr_\"slope\"__chunk_len_50__f_agg_\"mean\"",
         "rawType": "float64",
         "type": "float"
        },
        {
         "name": "value__agg_linear_trend__attr_\"slope\"__chunk_len_50__f_agg_\"var\"",
         "rawType": "float64",
         "type": "float"
        },
        {
         "name": "value__agg_linear_trend__attr_\"stderr\"__chunk_len_5__f_agg_\"max\"",
         "rawType": "float64",
         "type": "float"
        },
        {
         "name": "value__agg_linear_trend__attr_\"stderr\"__chunk_len_5__f_agg_\"min\"",
         "rawType": "float64",
         "type": "float"
        },
        {
         "name": "value__agg_linear_trend__attr_\"stderr\"__chunk_len_5__f_agg_\"mean\"",
         "rawType": "float64",
         "type": "float"
        },
        {
         "name": "value__agg_linear_trend__attr_\"stderr\"__chunk_len_5__f_agg_\"var\"",
         "rawType": "float64",
         "type": "float"
        },
        {
         "name": "value__agg_linear_trend__attr_\"stderr\"__chunk_len_10__f_agg_\"max\"",
         "rawType": "float64",
         "type": "float"
        },
        {
         "name": "value__agg_linear_trend__attr_\"stderr\"__chunk_len_10__f_agg_\"min\"",
         "rawType": "float64",
         "type": "float"
        },
        {
         "name": "value__agg_linear_trend__attr_\"stderr\"__chunk_len_10__f_agg_\"mean\"",
         "rawType": "float64",
         "type": "float"
        },
        {
         "name": "value__agg_linear_trend__attr_\"stderr\"__chunk_len_10__f_agg_\"var\"",
         "rawType": "float64",
         "type": "float"
        },
        {
         "name": "value__agg_linear_trend__attr_\"stderr\"__chunk_len_50__f_agg_\"max\"",
         "rawType": "float64",
         "type": "float"
        },
        {
         "name": "value__agg_linear_trend__attr_\"stderr\"__chunk_len_50__f_agg_\"min\"",
         "rawType": "float64",
         "type": "float"
        },
        {
         "name": "value__agg_linear_trend__attr_\"stderr\"__chunk_len_50__f_agg_\"mean\"",
         "rawType": "float64",
         "type": "float"
        },
        {
         "name": "value__agg_linear_trend__attr_\"stderr\"__chunk_len_50__f_agg_\"var\"",
         "rawType": "float64",
         "type": "float"
        },
        {
         "name": "value__augmented_dickey_fuller__attr_\"teststat\"__autolag_\"AIC\"",
         "rawType": "float64",
         "type": "float"
        },
        {
         "name": "value__augmented_dickey_fuller__attr_\"pvalue\"__autolag_\"AIC\"",
         "rawType": "float64",
         "type": "float"
        },
        {
         "name": "value__augmented_dickey_fuller__attr_\"usedlag\"__autolag_\"AIC\"",
         "rawType": "float64",
         "type": "float"
        },
        {
         "name": "value__number_crossing_m__m_0",
         "rawType": "float64",
         "type": "float"
        },
        {
         "name": "value__number_crossing_m__m_-1",
         "rawType": "float64",
         "type": "float"
        },
        {
         "name": "value__number_crossing_m__m_1",
         "rawType": "float64",
         "type": "float"
        },
        {
         "name": "value__energy_ratio_by_chunks__num_segments_10__segment_focus_0",
         "rawType": "float64",
         "type": "float"
        },
        {
         "name": "value__energy_ratio_by_chunks__num_segments_10__segment_focus_1",
         "rawType": "float64",
         "type": "float"
        },
        {
         "name": "value__energy_ratio_by_chunks__num_segments_10__segment_focus_2",
         "rawType": "float64",
         "type": "float"
        },
        {
         "name": "value__energy_ratio_by_chunks__num_segments_10__segment_focus_3",
         "rawType": "float64",
         "type": "float"
        },
        {
         "name": "value__energy_ratio_by_chunks__num_segments_10__segment_focus_4",
         "rawType": "float64",
         "type": "float"
        },
        {
         "name": "value__energy_ratio_by_chunks__num_segments_10__segment_focus_5",
         "rawType": "float64",
         "type": "float"
        },
        {
         "name": "value__energy_ratio_by_chunks__num_segments_10__segment_focus_6",
         "rawType": "float64",
         "type": "float"
        },
        {
         "name": "value__energy_ratio_by_chunks__num_segments_10__segment_focus_7",
         "rawType": "float64",
         "type": "float"
        },
        {
         "name": "value__energy_ratio_by_chunks__num_segments_10__segment_focus_8",
         "rawType": "float64",
         "type": "float"
        },
        {
         "name": "value__energy_ratio_by_chunks__num_segments_10__segment_focus_9",
         "rawType": "float64",
         "type": "float"
        },
        {
         "name": "value__ratio_beyond_r_sigma__r_0.5",
         "rawType": "float64",
         "type": "float"
        },
        {
         "name": "value__ratio_beyond_r_sigma__r_1",
         "rawType": "float64",
         "type": "float"
        },
        {
         "name": "value__ratio_beyond_r_sigma__r_1.5",
         "rawType": "float64",
         "type": "float"
        },
        {
         "name": "value__ratio_beyond_r_sigma__r_2",
         "rawType": "float64",
         "type": "float"
        },
        {
         "name": "value__ratio_beyond_r_sigma__r_2.5",
         "rawType": "float64",
         "type": "float"
        },
        {
         "name": "value__ratio_beyond_r_sigma__r_3",
         "rawType": "float64",
         "type": "float"
        },
        {
         "name": "value__ratio_beyond_r_sigma__r_5",
         "rawType": "float64",
         "type": "float"
        },
        {
         "name": "value__ratio_beyond_r_sigma__r_6",
         "rawType": "float64",
         "type": "float"
        },
        {
         "name": "value__ratio_beyond_r_sigma__r_7",
         "rawType": "float64",
         "type": "float"
        },
        {
         "name": "value__ratio_beyond_r_sigma__r_10",
         "rawType": "float64",
         "type": "float"
        },
        {
         "name": "value__count_above__t_0",
         "rawType": "float64",
         "type": "float"
        },
        {
         "name": "value__count_below__t_0",
         "rawType": "float64",
         "type": "float"
        },
        {
         "name": "value__lempel_ziv_complexity__bins_2",
         "rawType": "float64",
         "type": "float"
        },
        {
         "name": "value__lempel_ziv_complexity__bins_3",
         "rawType": "float64",
         "type": "float"
        },
        {
         "name": "value__lempel_ziv_complexity__bins_5",
         "rawType": "float64",
         "type": "float"
        },
        {
         "name": "value__lempel_ziv_complexity__bins_10",
         "rawType": "float64",
         "type": "float"
        },
        {
         "name": "value__lempel_ziv_complexity__bins_100",
         "rawType": "float64",
         "type": "float"
        },
        {
         "name": "value__fourier_entropy__bins_2",
         "rawType": "float64",
         "type": "float"
        },
        {
         "name": "value__fourier_entropy__bins_3",
         "rawType": "float64",
         "type": "float"
        },
        {
         "name": "value__fourier_entropy__bins_5",
         "rawType": "float64",
         "type": "float"
        },
        {
         "name": "value__fourier_entropy__bins_10",
         "rawType": "float64",
         "type": "float"
        },
        {
         "name": "value__fourier_entropy__bins_100",
         "rawType": "float64",
         "type": "float"
        },
        {
         "name": "value__permutation_entropy__dimension_3__tau_1",
         "rawType": "float64",
         "type": "float"
        },
        {
         "name": "value__permutation_entropy__dimension_4__tau_1",
         "rawType": "float64",
         "type": "float"
        },
        {
         "name": "value__permutation_entropy__dimension_5__tau_1",
         "rawType": "float64",
         "type": "float"
        },
        {
         "name": "value__permutation_entropy__dimension_6__tau_1",
         "rawType": "float64",
         "type": "float"
        },
        {
         "name": "value__permutation_entropy__dimension_7__tau_1",
         "rawType": "float64",
         "type": "float"
        },
        {
         "name": "value__query_similarity_count__query_None__threshold_0.0",
         "rawType": "float64",
         "type": "float"
        },
        {
         "name": "value__mean_n_absolute_max__number_of_maxima_7",
         "rawType": "float64",
         "type": "float"
        },
        {
         "name": "signal_name",
         "rawType": "int64",
         "type": "integer"
        },
        {
         "name": "target_original",
         "rawType": "object",
         "type": "string"
        },
        {
         "name": "target",
         "rawType": "object",
         "type": "string"
        },
        {
         "name": "target_encoded",
         "rawType": "int64",
         "type": "integer"
        }
       ],
       "conversionMethod": "pd.DataFrame",
       "ref": "573654f7-8d57-41d6-aac8-02c2646778db",
       "rows": [
        [
         "0",
         "0.0",
         "0.0",
         "0.0",
         "0.0",
         "-43.99686980408926",
         "190.9917986534261",
         "0.0917525991803542",
         "-0.0011669223151436",
         "0.0001023938420901",
         "-0.4662202071514625",
         "-0.2222064131519659",
         "198.0",
         "0.9566762010514896",
         "-4.30534919078696",
         "0.91522935365831",
         "4.228336268472331",
         "19.73834581207309",
         "0.9821430871844348",
         "18.0752620385298",
         "111.0",
         "31.0",
         "47.0",
         "151.0",
         "0.3939393939393939",
         "0.3888888888888889",
         "0.3484848484848485",
         "0.3434343434343434",
         "0.0",
         "0.0",
         "0.0",
         "0.0",
         "1.0",
         "0.0373358262647234",
         "5.399749573104483",
         "5.399749573104483",
         "-1.444392899577325",
         "0.1202216979960873",
         "0.0023987745539002",
         "0.0170269083069789",
         "0.0451841027173746",
         "2.631482716906026",
         "1.5526613124640416",
         "0.3957349597349536",
         "4.004534532566937",
         "3.83104288359564",
         "0.0",
         "1.0",
         "1.0",
         "1.0",
         "1.0",
         "1.0",
         "1.0",
         "1.0",
         "1.0",
         "1.0",
         "1.0",
         "1.0",
         "1.0",
         "1.0",
         "1.0",
         "1.0",
         "1.0",
         "1.0",
         "1.0",
         "1.0",
         "1.0",
         "1.0",
         "0.0",
         "0.0",
         "0.0",
         "0.0",
         "0.0",
         "0.0",
         "0.0",
         "0.0",
         "0.0",
         "0.0",
         "0.0",
         "0.0",
         "0.0",
         "0.0",
         "0.0",
         "0.0",
         "0.0",
         "-0.5759697494250728",
         "-0.5453982581966544",
         "-0.5120886621258494",
         "-0.486111501574047",
         "-0.4480749651997124",
         "-0.3855145667196749",
         "-0.0627030943255392",
         "0.179622799754013",
         "1.0",
         "0.9638377738583987",
         "0.8521184948130065",
         "0.6820399450649909",
         "0.4788961503771526",
         "0.2707472701822448",
         "0.0829254236480006",
         "-0.0662743424595882",
         "-0.1678229395130935",
         "-0.2218752261737457",
         "0.0074750533025737",
         "-0.0648865587453831",
         "0.0699094117440752",
         "1.0",
         "0.9638377738583987",
         "-1.0823469699057795",
         "-1.2323417782981534",
         "3.5142458519510726",
         "0.8558750880890598",
         "0.7803881657970411",
         "1.904984146022337",
         "-1.799842021220897",
         "-0.7516482700633957",
         "9.0",
         "12.0",
         "13.0",
         "13.0",
         "12.0",
         "6.0",
         "1.0",
         "0.9099029500576576",
         "0.2474747474747475",
         "0.3434343434343434",
         "0.3838383838383838",
         "0.3939393939393939",
         "0.4898989898989899",
         "0.601010101010101",
         "0.7272727272727273",
         "0.8535353535353535",
         "-0.0068945106316868",
         "-0.0350505711604371",
         "0.2026442279481671",
         "1.1876716566520975",
         "0.0808620403177543",
         "0.0512547038491595",
         "0.2804688376308138",
         "1.253346759775311",
         "0.1052786607684926",
         "0.1392159890382505",
         "0.3650724503612631",
         "1.3146593710617007",
         "0.0710346925421555",
         "0.2187866376730082",
         "0.4394109395061999",
         "1.3814381498458412",
         "0.0269828945080428",
         "0.2912883147068987",
         "0.5159771872354789",
         "1.4310340285945664",
         "0.0102911560638282",
         "0.3472659396942816",
         "0.5805340228554597",
         "1.4737640161617551",
         "0.0249680211844416",
         "0.383049934912728",
         "0.6391492653699483",
         "1.5087717918046286",
         "0.0558648965701649",
         "0.3962788095721622",
         "0.6944178891457328",
         "1.5351323752005888",
         "0.0853397349308992",
         "0.3882446989074082",
         "0.7386533389097123",
         "1.5605189369097776",
         "0.1004159623687747",
         "0.3544595893204392",
         "0.7771181898994771",
         "1.566259518074632",
         "0.0949634056793103",
         "0.299123487054957",
         "0.8071452639480227",
         "1.5610036126424247",
         "0.0701990161417612",
         "0.226492388415913",
         "0.8312691017190429",
         "1.5441546136869349",
         "0.0333231435405752",
         "0.1444893289689023",
         "0.8484861161123193",
         "1.5151113564172565",
         "-0.0056963937603225",
         "0.0581763938713141",
         "0.8621720614048608",
         "1.4784871893840954",
         "-0.0379833695805941",
         "-0.0206463437655768",
         "0.8690992131327362",
         "1.42266049195571",
         "20.196333028941392",
         "27.322140500558",
         "29.231284612070496",
         "-2.801882598497517e-05",
         "8.242066396576647",
         "-31.780714972826445",
         "75.4440233522655",
         "-122.0563710238116",
         "140.5917469642336",
         "-116.7619524431202",
         "69.0455689094797",
         "-27.82904769544831",
         "6.906573097880308",
         "-0.802017710685476",
         "-0.0009445794476001",
         "0.0158152822750119",
         "0.0744936584622982",
         "0.0102668693542472",
         "0.0020701980921859",
         "0.0082600565294075",
         "0.0457208292555406",
         "0.0061739480217341",
         "0.000468279458931",
         "0.0052412814928325",
         "0.0327762724834865",
         "0.0041672167405724",
         "0.0011941316081334",
         "0.0110472825955144",
         "0.0401062333589156",
         "0.0094401985915721",
         "-0.0011669223151436",
         "0.0745006158351977",
         "0.0917525991803542",
         "0.0660834380865365",
         "0.0024932980073006",
         "0.0001958671750426",
         "0.0112758410564368",
         "7.49391184658779e-05",
         "-0.0003754451432849",
         "0.0002315597437893",
         "0.0113537699213982",
         "0.0001027926114168",
         "0.0007525094211344",
         "0.0005714756915493",
         "0.0167797738402338",
         "0.0002904811518488",
         "-0.0022078953021675",
         "0.0861952288978031",
         "0.0904931440858587",
         "0.0780110945729244",
         "-0.0013697063883631",
         "6.768284990549396e-05",
         "0.0067094480554551",
         "2.4542252286965587e-05",
         "-0.0003380450443575",
         "0.0005862374315414",
         "0.0168261385047388",
         "0.0003032327690128",
         "-0.0039953939546615",
         "0.1181090305591077",
         "0.1179972108305993",
         "0.1042016519681598",
         "0.0008791194058205",
         "0.0010336891852513",
         "0.0245075362085428",
         "0.000433842705168",
         "-0.0053155672050115",
         "0.1778675506077537",
         "0.1726428875782509",
         "0.1480902392311081",
         "-0.0070450656686557",
         "0.284770499181518",
         "0.2565994252040145",
         "0.218976867116763",
         "-43.99686980408926",
         "-3.451556518581792",
         "17.159141661907505",
         "21.28328231043132",
         "-31.00195079443869",
         "35.37333252058224",
         "-17.090638977854255",
         "-6.69719541558116",
         "33.585299089351004",
         "-35.05234920925229",
         "21.28099557844473",
         "2.491693717614224",
         "-23.781681507930948",
         "26.287626396341352",
         "-19.3099022392071",
         "5.468941626451322",
         "9.069930252902562",
         "-13.63772046683981",
         "12.846955224664171",
         "-6.946147710820874",
         "1.0459897162567475",
         "3.726034392243492",
         "-3.9051178307588295",
         "3.3800139732914323",
         "-1.2342176763270678",
         "0.7435888330441107",
         "0.2875204839919553",
         "-0.3862660895440351",
         "0.4759771268168206",
         "-0.1390110329313804",
         "0.2257237011192246",
         "0.2135071691972309",
         "0.0939697004962974",
         "0.143584417061481",
         "0.1342977917021236",
         "0.1305217184547505",
         "0.139113854094707",
         "0.1340105739813686",
         "0.1297795590510384",
         "0.1311204959493079",
         "0.1322801562298159",
         "0.1261377078308987",
         "0.1264936395476115",
         "0.1252445516003466",
         "0.1224939588495667",
         "0.122784999864066",
         "0.1209792093718727",
         "0.1199989024666848",
         "0.1193895655130684",
         "0.1183996695216371",
         "0.1176137424387724",
         "0.116955347610787",
         "0.1163114861308666",
         "0.115788553144451",
         "0.1150596691791378",
         "0.1145969566274739",
         "0.114047069595614",
         "0.1135514815965522",
         "0.1131179863286123",
         "0.1126685403822135",
         "0.1122686583267559",
         "0.1118977037489104",
         "0.1115324486503722",
         "0.1111907906320653",
         "0.1108716752650453",
         "0.1105686437438187",
         "0.110283066076029",
         "0.110010775756459",
         "0.1097536855931234",
         "0.1095117378787455",
         "0.1092831237041991",
         "0.1090669848718048",
         "0.1088627465656632",
         "0.1086698681331138",
         "0.1084881944459071",
         "0.1083164398960052",
         "0.1081548084000749",
         "0.1080028055548865",
         "0.1078597863386034",
         "0.1077255676538653",
         "0.1075997248612008",
         "0.1074819927574601",
         "0.1073720712740353",
         "0.1072697011675982",
         "0.1071746360249288",
         "0.1070866570474713",
         "0.1070055625870889",
         "0.1069311691669963",
         "0.1068633105678436",
         "0.1068018346552772",
         "0.1067466068056219",
         "0.1066975061124821",
         "0.1066544260954946",
         "0.1066172739450834",
         "0.1065859700798164",
         "0.1065604477574204",
         "0.1065406527899526",
         "0.1065265432864368",
         "0.1065180894607926",
         "0.1065152734956171",
         "0.0",
         "-28.43850871481048",
         "18.833828861852908",
         "-42.175019553956",
         "6.461855497252921",
         "9.980920460615906",
         "-32.397541445271784",
         "37.90741749898241",
         "-22.07138208616962",
         "-7.88964262778912",
         "25.616777181852967",
         "-34.96447170091848",
         "21.9393778911504",
         "-1.8815781773516",
         "-13.465213030682598",
         "21.958367412111407",
         "-17.907401111742573",
         "5.483448458937861",
         "1.5094501635564892",
         "-6.762345062724799",
         "7.433416051148216",
         "-4.564917922199204",
         "1.5007302064731065",
         "0.2686990169154539",
         "-1.692214996258128",
         "0.968379303283288",
         "-1.2030647806031838",
         "0.2242349845935696",
         "-0.2530509739947778",
         "-0.3200715601742618",
         "0.013078712977991",
         "-0.2593819779244513",
         "-0.1609563394405027",
         "-0.2522802343524907",
         "-0.1865345079105038",
         "-0.1600148609954216",
         "-0.1536597817426106",
         "-0.1422285122372495",
         "-0.1405761292377528",
         "-0.129755933197681",
         "-0.1320515182680198",
         "-0.1278474370753805",
         "-0.121394007772963",
         "-0.1199841329457503",
         "-0.1146961709104014",
         "-0.1102594544363864",
         "-0.1080459564794767",
         "-0.1039227820342453",
         "-0.1009173362129892",
         "-0.0978430622428924",
         "-0.0946582930683442",
         "-0.091746198994057",
         "-0.0887414204921046",
         "-0.0860045439932699",
         "-0.0832515672966721",
         "-0.0805793379188569",
         "-0.0780267841914593",
         "-0.075503190294308",
         "-0.073070767239647",
         "-0.0706671549651451",
         "-0.068342317430002",
         "-0.0660558814780885",
         "-0.0638332858573804",
         "-0.0616527885524812",
         "-0.0595192380556612",
         "-0.0574251826888646",
         "-0.0553744460483659",
         "-0.0533566511968876",
         "-0.0513776698733958",
         "-0.0494320163590432",
         "-0.0475193128763532",
         "-0.0456361213235851",
         "-0.0437818027891554",
         "-0.0419543413603751",
         "-0.0401526032492127",
         "-0.0383745618247211",
         "-0.0366193714738702",
         "-0.0348855566001021",
         "-0.0331718945409247",
         "-0.0314770880320196",
         "-0.0298000636955224",
         "-0.0281396445198811",
         "-0.0264947766180578",
         "-0.0248644075111101",
         "-0.0232475325046692",
         "-0.0216431678855224",
         "-0.0200503607915523",
         "-0.0184681859835205",
         "-0.0168957403239318",
         "-0.0153321424040679",
         "-0.0137765296046916",
         "-0.0122280563303363",
         "-0.0106858922423072",
         "-0.0091492202495153",
         "-0.0076172347821676",
         "-0.006089140034025",
         "-0.0045641482707097",
         "-0.0030414781711751",
         "-0.0015203531999308",
         "0.0",
         "43.99686980408926",
         "28.64719917065744",
         "25.4784075674084",
         "47.240981999552986",
         "31.668225866444992",
         "36.75447492282841",
         "36.62909543476953",
         "38.49447658920224",
         "40.18853346559004",
         "35.92928674329058",
         "33.3031536944249",
         "35.053142782163306",
         "32.35590637882616",
         "26.354878827099704",
         "23.54111905686303",
         "22.629167503883306",
         "20.073331795428388",
         "14.6988307879739",
         "12.935327531252804",
         "9.69423946309872",
         "7.5066482984074065",
         "5.892521355803203",
         "4.183555476473493",
         "3.3906774575793355",
         "2.094489165911125",
         "1.2209352266419904",
         "1.2369449846467526",
         "0.4466349966665385",
         "0.5390630952796727",
         "0.3489553995986241",
         "0.2261022821205521",
         "0.3359528564703916",
         "0.1863793116669609",
         "0.2902788339990241",
         "0.2298499934685246",
         "0.2064961857462875",
         "0.2072775745860371",
         "0.1954169481698998",
         "0.1913227170488423",
         "0.1844700156068556",
         "0.1869107894399723",
         "0.179598687365962",
         "0.1753201242561255",
         "0.1734427567363808",
         "0.1678093608120457",
         "0.165025160155136",
         "0.1622032607927732",
         "0.1587440745947584",
         "0.1563271476798728",
         "0.1535960499879453",
         "0.1509741198254404",
         "0.1486469588138861",
         "0.1462990140668326",
         "0.1442351227225035",
         "0.1420195441795422",
         "0.140091013872127",
         "0.1381843447522453",
         "0.1363622774721463",
         "0.1346663129963496",
         "0.1329964164281366",
         "0.1314341051409147",
         "0.1299402769818743",
         "0.1285074919422909",
         "0.1271395227994849",
         "0.1258374668960089",
         "0.1245916393109785",
         "0.1234045539609182",
         "0.1222673423669798",
         "0.1211838952290849",
         "0.1201513419589801",
         "0.1191674713283286",
         "0.1182297033680093",
         "0.1173368818628154",
         "0.1164873684098462",
         "0.1156802484515902",
         "0.1149132635816434",
         "0.1141859927801927",
         "0.1134971720662041",
         "0.1128455054330629",
         "0.112230142997873",
         "0.1116500989093306",
         "0.1111045379848186",
         "0.1105926529102061",
         "0.1101137028233288",
         "0.1096669976548625",
         "0.1092519054008837",
         "0.1088678437025865",
         "0.1085142793965046",
         "0.1081907259732234",
         "0.1078967398786071",
         "0.1076319229246741",
         "0.1073959178565044",
         "0.1071884084160854",
         "0.107009117997744",
         "0.1068578087159856",
         "0.1067342805878968",
         "0.1066383708912803",
         "0.1065699536174377",
         "0.1065289390552162",
         "0.1065152734956171",
         "180.0",
         "-96.920091558214",
         "47.66394674754979",
         "-63.2225747653679",
         "168.22619238702626",
         "15.756914983615664",
         "-117.81294166430943",
         "100.0191946078685",
         "-33.311873125122034",
         "-167.3151606472008",
         "50.28208054602968",
         "-85.92378818127996",
         "137.30745197839815",
         "-4.094053441315114",
         "-145.11110121513025",
         "76.01448064535417",
         "-63.138214891956224",
         "158.09594937183698",
         "6.701230770954194",
         "-135.76817234189468",
         "81.99024045665072",
         "-50.77755894141404",
         "158.97831627607894",
         "4.545250700208716",
         "-126.10515610920318",
         "52.48044444246644",
         "-76.55899483745236",
         "149.86400062484023",
         "-27.997132653425183",
         "-113.4759017609918",
         "3.3160813914457465",
         "-50.54090510863151",
         "-59.7227174016496",
         "-60.35378249042028",
         "-54.24753973280607",
         "-50.79639144743725",
         "-47.84429822807167",
         "-46.704010655852514",
         "-47.286873935380086",
         "-44.70030648694844",
         "-44.95044110016217",
         "-45.38568708504118",
         "-43.82145733612428",
         "-43.77113245892731",
         "-43.11704019237322",
         "-41.923458102708246",
         "-41.76788962577688",
         "-40.89358129045242",
         "-40.20709117405349",
         "-39.56963000760479",
         "-38.82792498369502",
         "-38.11258561564844",
         "-37.34231036006018",
         "-36.60394666334684",
         "-35.887665658329446",
         "-35.11313291229676",
         "-34.37848955003583",
         "-33.62091648382659",
         "-32.86122640354688",
         "-32.096464702244084",
         "-31.33050750747231",
         "-30.55436620586731",
         "-29.783769721961946",
         "-29.007381190939583",
         "-28.22823641317356",
         "-27.445662485065856",
         "-26.66177431868352",
         "-25.87398604060537",
         "-25.08513739561435",
         "-24.293728820414888",
         "-23.50073118929339",
         "-22.70554965315265",
         "-21.90872567608389",
         "-21.110154703398063",
         "-20.310034592923728",
         "-19.508318433541067",
         "-18.70522271304684",
         "-17.900769048988263",
         "-17.095094471185877",
         "-16.28820449155074",
         "-15.48022907111826",
         "-14.671204324775356",
         "-13.861213378903193",
         "-13.05031722602732",
         "-12.238582914816332",
         "-11.426069667961835",
         "-10.612836479472536",
         "-9.798941666912958",
         "-8.984441380768532",
         "-8.16939087484455",
         "-7.353843844601053",
         "-6.537852946769285",
         "-5.721469899833656",
         "-4.904745541971788",
         "-4.08772998122017",
         "-3.2704726977148875",
         "-2.453022652649012",
         "-1.6354283946409336",
         "-0.8177381648003135",
         "0.0",
         "9.416155043400666",
         "79.82816752401503",
         "4.2215470099617125",
         "37.25741050293354",
         "0.0",
         "0.0",
         "0.0",
         "183.0",
         "160.0",
         "38.0",
         "0.1395445602029144",
         "0.0710303115057242",
         "0.100431408748026",
         "0.104390706997696",
         "0.0902620873621919",
         "-0.0342444170262909",
         "0.0980446264360755",
         "0.108800792676694",
         "0.0217209511090326",
         "3.754351194124264",
         "0.0064648409252937",
         "-0.1929309374326584",
         "0.0958718908219023",
         "-0.0032292213601407",
         "0.0011730888504678",
         "-0.2058323936364875",
         "-0.1646701356551489",
         "-0.2009890158116645",
         "-0.1017890640538833",
         "-0.2092367417031742",
         "-0.2062958894636105",
         "-0.2335677354448259",
         "-0.1146165795216345",
         "-0.3156077026660906",
         "0.1885186290641188",
         "-0.7317900745767948",
         "-0.2749473913882738",
         "0.3588676352713916",
         "-0.1733719554002412",
         "0.0807779945733289",
         "0.1967937192893477",
         "0.5791384393939745",
         "-0.407716913310984",
         "0.0787279785648686",
         "0.4924410082483833",
         "2.302835570635638",
         "-0.8745314849419503",
         "0.027677138737705",
         "1.3576126325358109",
         "-0.0208061360569347",
         "-0.0105540055443343",
         "-0.0154670442420659",
         "-0.0040835652039163",
         "-0.0494962549005491",
         "-0.0127686558636657",
         "-0.0316256042916615",
         "-0.0206182822761432",
         "-0.6726037351586412",
         "0.0652290415384742",
         "-0.1679947209325448",
         "-0.344533243812761",
         "0.016046690226746",
         "0.0102551295332551",
         "0.0122289480044328",
         "0.0064741830300025",
         "0.0545226614159327",
         "0.0142749499355773",
         "0.0310318823690905",
         "0.0421208597042723",
         "1.4299223133912682",
         "0.2402779955138136",
         "0.1106315935049938",
         "0.8519172727302488",
         "-3.487746145810444",
         "0.0083074327276431",
         "15.0",
         "3.0",
         "4.0",
         "2.0",
         "0.0032517023278883",
         "0.0074117615699135",
         "0.0228070551795072",
         "0.7698685380070512",
         "0.0779242503133914",
         "0.0301076785037827",
         "0.0261613150048823",
         "0.0219609515938289",
         "0.0263243906350277",
         "0.0141823568647263",
         "0.1212121212121212",
         "0.0808080808080808",
         "0.0404040404040404",
         "0.0404040404040404",
         "0.0404040404040404",
         "0.0303030303030303",
         "0.0202020202020202",
         "0.0",
         "0.0",
         "0.0",
         "0.1919191919191919",
         "0.8080808080808081",
         "0.1161616161616161",
         "0.1212121212121212",
         "0.1616161616161616",
         "0.1969696969696969",
         "0.4343434343434343",
         "0.3669249912727096",
         "0.509696363518706",
         "0.6371490706940356",
         "0.8366413081160589",
         "1.1930743575590108",
         "1.1748473563682054",
         "1.697517391665755",
         "2.2303727573824017",
         "2.794168345873033",
         "3.286208892166326",
         "0.0",
         "4.249652805199694",
         "100",
         "+",
         "Q",
         "4"
        ],
        [
         "1",
         "0.0",
         "0.0",
         "0.0",
         "0.0",
         "-39.19240829105377",
         "191.68821329380933",
         "0.0731025043105559",
         "-0.0006038407406173",
         "-5.716612542766455e-06",
         "-0.428019036387425",
         "-0.1524996431558512",
         "257.0",
         "0.8500661109904895",
         "-5.574217049949032",
         "0.7226123930544951",
         "4.399534265388942",
         "23.46039252238015",
         "0.8636368068911591",
         "18.714241103502328",
         "113.0",
         "62.0",
         "103.0",
         "154.0",
         "0.3035019455252918",
         "0.2996108949416342",
         "0.2684824902723736",
         "0.2645914396887159",
         "0.0",
         "0.0",
         "0.0",
         "0.0",
         "1.0",
         "0.0468444600267228",
         "5.399749573104483",
         "5.399749573104483",
         "-1.444392899577325",
         "0.3475303066163196",
         "0.0018450982848023",
         "0.0130656648726007",
         "0.0345992903293246",
         "2.0230245478608464",
         "1.1909572217131008",
         "0.3030680644177948",
         "4.508730718729888",
         "3.83271918757407",
         "0.0",
         "1.0",
         "1.0",
         "1.0",
         "1.0",
         "1.0",
         "1.0",
         "1.0",
         "1.0",
         "1.0",
         "1.0",
         "1.0",
         "1.0",
         "1.0",
         "1.0",
         "1.0",
         "1.0",
         "1.0",
         "1.0",
         "1.0",
         "1.0",
         "1.0",
         "0.0",
         "0.0",
         "0.0",
         "0.0",
         "0.0",
         "0.0",
         "0.0",
         "0.0",
         "0.0",
         "0.0",
         "0.0",
         "0.0",
         "0.0",
         "0.0",
         "0.0",
         "0.0",
         "0.0",
         "-0.5678547093098724",
         "-0.5307397740391592",
         "-0.4879284260360259",
         "-0.4625120050610188",
         "-0.1352003143691407",
         "0.0595338482538908",
         "0.100641945176365",
         "0.1782750276972157",
         "1.0",
         "0.9638121514923126",
         "0.8540316007034929",
         "0.6876567437524412",
         "0.4894766090925075",
         "0.2868471884401162",
         "0.1043465143439669",
         "-0.0403834567416318",
         "-0.1387524234616748",
         "-0.1910886274240697",
         "0.0201681167043483",
         "-0.0589005842699523",
         "0.0679743688323267",
         "1.0",
         "0.9638121514923128",
         "-1.0539796618556951",
         "-1.6259026631362667",
         "1.9212912587754547",
         "0.795107160482394",
         "0.9036732659613436",
         "5.856180323799389",
         "-1.1462421829771008",
         "-0.7055964444045432",
         "11.0",
         "14.0",
         "17.0",
         "15.0",
         "14.0",
         "8.0",
         "1.0",
         "1.018458172745813",
         "0.1984435797665369",
         "0.2684824902723735",
         "0.2957198443579766",
         "0.3035019455252918",
         "0.4007782101167315",
         "0.4941634241245136",
         "0.5953307392996109",
         "0.6926070038910506",
         "-0.0068945106316868",
         "-0.0350505711604371",
         "0.2026442279481671",
         "1.1876716566520975",
         "0.0808620403177543",
         "0.0512547038491595",
         "0.2804688376308138",
         "1.253346759775311",
         "0.1052786607684926",
         "0.1392159890382505",
         "0.3650724503612631",
         "1.3146593710617007",
         "0.0710346925421555",
         "0.2187866376730082",
         "0.4394109395061999",
         "1.3814381498458412",
         "0.0269828945080428",
         "0.2912883147068987",
         "0.5159771872354789",
         "1.4310340285945664",
         "0.0102911560638282",
         "0.3472659396942816",
         "0.5805340228554597",
         "1.4737640161617551",
         "0.0249680211844416",
         "0.383049934912728",
         "0.6391492653699483",
         "1.5087717918046286",
         "0.0558648965701649",
         "0.3962788095721622",
         "0.6944178891457328",
         "1.5351323752005888",
         "0.0853397349308992",
         "0.3882446989074082",
         "0.7386533389097123",
         "1.5605189369097776",
         "0.1004159623687747",
         "0.3544595893204392",
         "0.7771181898994771",
         "1.566259518074632",
         "0.0949634056793103",
         "0.299123487054957",
         "0.8071452639480227",
         "1.5610036126424247",
         "0.0701990161417612",
         "0.226492388415913",
         "0.8312691017190429",
         "1.5441546136869349",
         "0.0333231435405752",
         "0.1444893289689023",
         "0.8484861161123193",
         "1.5151113564172565",
         "-0.0056963937603225",
         "0.0581763938713141",
         "0.8621720614048608",
         "1.4784871893840954",
         "-0.0379833695805941",
         "-0.0206463437655768",
         "0.8690992131327362",
         "1.42266049195571",
         "13.388420687924796",
         "8.85265271004702",
         "12.264825732426807",
         "-1.9295803479246472e-05",
         "8.224452794649793",
         "-31.651655635458354",
         "75.01313055656922",
         "-121.19660520981978",
         "139.46323451576606",
         "-115.7529378356731",
         "68.43213225361897",
         "-27.585033664575903",
         "6.849074657775884",
         "-0.7959107740941864",
         "-0.00038134884547",
         "0.0119844595668736",
         "0.0584527314432416",
         "0.0085678831806399",
         "0.0011288624040514",
         "0.0062364938298329",
         "0.0372716317258689",
         "0.0048485936286514",
         "-0.0035564276564436",
         "0.0075886600892167",
         "0.0351732883767295",
         "0.0063641480516597",
         "0.0004278359980188",
         "0.0087151318971839",
         "0.0345656786258433",
         "0.00752052880196",
         "-0.0006038407406173",
         "0.0573814180747913",
         "0.0731025043105559",
         "0.0520378065619565",
         "0.0001712275342718",
         "0.0002402223045964",
         "0.0127128834250673",
         "7.863421848555055e-05",
         "0.0008648833246044",
         "0.000528755440672",
         "0.0166597135221605",
         "0.0002519574091967",
         "-0.0002717163568782",
         "0.0006263910420614",
         "0.0170487313172112",
         "0.0003358056323135",
         "-0.0014170659283072",
         "0.0661244694850374",
         "0.0720175611510243",
         "0.060939948446741",
         "0.0003224052348978",
         "0.00060940766398",
         "0.0179222625608931",
         "0.0002883041138139",
         "-0.0011815748369312",
         "0.000718428034054",
         "0.0178626867057601",
         "0.0004007485768011",
         "-0.0023925517277492",
         "0.0896683601202026",
         "0.0922357345050084",
         "0.0811666537042941",
         "-0.0013994782397694",
         "0.0006386838339432",
         "0.015805271653072",
         "0.0003908357612594",
         "0.0083812004472905",
         "0.1165378428896958",
         "0.1135050788679084",
         "0.1037246844818233",
         "-0.0022351193025601",
         "0.2193088964564592",
         "0.1961888376013425",
         "0.18082383221539",
         "-39.19240829105377",
         "31.48502810446568",
         "-14.67013453568886",
         "22.93564286325737",
         "10.25413248777792",
         "-31.204120236724",
         "9.115107850372128",
         "26.053943169846285",
         "-30.18511414645187",
         "-13.063968120140244",
         "39.95038113604761",
         "-3.9502022544489575",
         "-32.13861763587612",
         "22.54965247278802",
         "19.23656838887573",
         "-32.29884385829392",
         "-0.6899063098834017",
         "24.48108960297167",
         "-14.181745618259464",
         "-13.21183455012137",
         "21.067783060166057",
         "0.4989037109780483",
         "-14.620612428300944",
         "8.538627550412478",
         "4.620543920744572",
         "-9.143847020384465",
         "1.325444160093901",
         "5.315785784572559",
         "-3.530499209287272",
         "-0.9307595225353668",
         "3.137304399201849",
         "-0.924615671631804",
         "-0.7602247832660027",
         "1.1830743870955025",
         "-0.2834724231694796",
         "-0.546324639757403",
         "0.4398873184692616",
         "0.1540450294598698",
         "-0.2093479978168272",
         "0.1485476702394624",
         "0.1715177742517658",
         "0.0471237432732239",
         "0.0915511420017964",
         "0.0195766277185384",
         "0.0624026966643106",
         "0.0633835808148338",
         "0.0670163982978655",
         "0.0721184313881195",
         "0.074383261707397",
         "0.0740436935645324",
         "0.07247172100076",
         "0.0794247726809293",
         "0.0785744715035543",
         "0.0746325141912174",
         "0.0756139712053811",
         "0.0787346695483308",
         "0.0776691562601928",
         "0.0760962216836438",
         "0.0765819515435763",
         "0.0780565454154478",
         "0.077349859026571",
         "0.0775256622856786",
         "0.0779545847508353",
         "0.0781233473917298",
         "0.078108965542685",
         "0.0781455609376965",
         "0.0783226703631175",
         "0.0783837078332742",
         "0.0785631165475754",
         "0.078727189111421",
         "0.0787074244667516",
         "0.0788704644498971",
         "0.0789790674364342",
         "0.0790553275538351",
         "0.0791297523644206",
         "0.0792415921016554",
         "0.0792984977712983",
         "0.0793830006458058",
         "0.079448391577516",
         "0.0795266900046246",
         "0.0795897336693907",
         "0.0796526224693773",
         "0.0797126510232058",
         "0.0797753241214858",
         "0.0798328721358046",
         "0.0798861739249409",
         "0.0799355161641336",
         "0.0799868506175836",
         "0.0800337449378387",
         "0.080079942165351",
         "0.0801244630583324",
         "0.0801660854641946",
         "0.0802062199918573",
         "0.0802447053143772",
         "0.0802816633323985",
         "0.0803170034631601",
         "0.0803509683727208",
         "0.0803828733277743",
         "0.0804138300505622",
         "0.0804433730382528",
         "0.0",
         "-11.766553288541385",
         "29.46068324396948",
         "12.921052972664892",
         "-47.85823882705472",
         "-4.513793072582244",
         "35.49329717707206",
         "-22.168203072955",
         "-24.729373386286287",
         "35.06201156868393",
         "3.2064029594360104",
         "-38.87740950505033",
         "12.623767126232677",
         "24.614349013478808",
         "-29.12495566188989",
         "-10.659396665644454",
         "30.788490264965663",
         "-7.6631275437662",
         "-19.02468385146244",
         "18.670717792956747",
         "7.852684665358785",
         "-18.542190272777432",
         "4.036578237250725",
         "10.46433667288642",
         "-10.128579867150512",
         "-1.0178399854505464",
         "7.449315449736335",
         "-2.5118278171916097",
         "-3.66254312028318",
         "3.7180838733358135",
         "-0.5312126070005465",
         "-2.085594435185232",
         "1.1040637525788235",
         "-0.2306512563499037",
         "-1.1045675211605952",
         "0.1535557361965598",
         "-0.0216161615577892",
         "-0.4587306377277341",
         "-0.0388939408813905",
         "0.0461667792459285",
         "-0.2149129781110846",
         "-0.2052519282170235",
         "-0.0850405132916718",
         "-0.2157018493745398",
         "-0.1740392831998447",
         "-0.1425080944953298",
         "-0.1279082573830265",
         "-0.1342090807424497",
         "-0.1220195806107712",
         "-0.1223382906447973",
         "-0.1146949844437659",
         "-0.1099321077151265",
         "-0.1126801008440517",
         "-0.111281323585575",
         "-0.1064363317675037",
         "-0.1040969068437999",
         "-0.1025900095036377",
         "-0.0984363382209946",
         "-0.0955286804749231",
         "-0.0947847638216491",
         "-0.0923051492509384",
         "-0.0894566302108951",
         "-0.0876101321087439",
         "-0.0856400908853227",
         "-0.0834216518669402",
         "-0.0813283695564107",
         "-0.0794853804556395",
         "-0.0774869459502183",
         "-0.0756088248994998",
         "-0.0739067345394429",
         "-0.0720644304125597",
         "-0.0702617310171278",
         "-0.0686035750693664",
         "-0.0669055731615426",
         "-0.065241073793607",
         "-0.0636270347734917",
         "-0.0620413660439179",
         "-0.0604594666420987",
         "-0.0589298950192143",
         "-0.0574116353206672",
         "-0.0559380702556946",
         "-0.0544789729178171",
         "-0.0530423634647876",
         "-0.0516314952664835",
         "-0.0502347457169614",
         "-0.0488604719034176",
         "-0.0475111127903845",
         "-0.0461737564945609",
         "-0.0448567793844547",
         "-0.0435562240776494",
         "-0.0422717690358115",
         "-0.041003734806485",
         "-0.0397503189512893",
         "-0.0385117048813494",
         "-0.0372866840944265",
         "-0.036074551614499",
         "-0.0348753660477463",
         "-0.0336880262371898",
         "-0.0325123929833627",
         "-0.0313476365196506",
         "39.19240829105377",
         "33.6118843719164",
         "32.91116382774567",
         "26.324842325706364",
         "48.944440508645215",
         "31.52889861143296",
         "36.64504517153536",
         "34.20872961951893",
         "39.02157126657887",
         "37.41673313220392",
         "40.07884695015251",
         "39.07757755637408",
         "34.52897681661593",
         "33.38192630752246",
         "34.90427775627143",
         "34.012322059189124",
         "30.79621898078241",
         "25.65243208549154",
         "23.72889597998856",
         "22.87243483068676",
         "22.48368607510301",
         "18.54890091150173",
         "15.167605995806795",
         "13.505943226897507",
         "11.13272456538723",
         "9.200322633917564",
         "7.566313692360863",
         "5.879358595176965",
         "5.0871059331128246",
         "3.832813715529377",
         "3.18195941631687",
         "2.2813632521592733",
         "1.3404844239491462",
         "1.2053485004168665",
         "1.1403622334593682",
         "0.5674944723298401",
         "0.4404181097441044",
         "0.4839046074293835",
         "0.2129303238789614",
         "0.1555563622598393",
         "0.2749653342602577",
         "0.2105920255301394",
         "0.1249539935446006",
         "0.2165883934480952",
         "0.1848885303302877",
         "0.1559680586325303",
         "0.1444012463505101",
         "0.1523586082228907",
         "0.1429043304965235",
         "0.143000440260054",
         "0.1356727305001551",
         "0.1356221324935848",
         "0.1373708582570865",
         "0.1339908398117563",
         "0.1305609641568655",
         "0.1305194016356634",
         "0.1286748144903529",
         "0.1244200451570579",
         "0.122435795809488",
         "0.1227883371290599",
         "0.1204294036756324",
         "0.1183753226036656",
         "0.1172708511599823",
         "0.1159201560322243",
         "0.1142811554822462",
         "0.1127875542290521",
         "0.1115901716056899",
         "0.1102190203475977",
         "0.1090360384659638",
         "0.1079822935284723",
         "0.1067152322626721",
         "0.1056279366837472",
         "0.1046142610040668",
         "0.1035668891814304",
         "0.1025568886959691",
         "0.101624945130968",
         "0.1006845710592245",
         "0.0997848079528094",
         "0.0989180441134474",
         "0.0980846078306119",
         "0.0972810023051551",
         "0.0965012888848092",
         "0.095747579891494",
         "0.0950258577553554",
         "0.0943229407445479",
         "0.0936437210868437",
         "0.0929892068092158",
         "0.0923575230316331",
         "0.0917471034176048",
         "0.0911588821405153",
         "0.0905915671450884",
         "0.0900439199875988",
         "0.0895160632630337",
         "0.0890076633996163",
         "0.088518033632555",
         "0.0880465463234557",
         "0.0875932033630365",
         "0.087156694729588",
         "0.0867377643296466",
         "0.0863354537900835",
         "180.0",
         "-20.49167116303464",
         "116.4713009799768",
         "29.395226152024293",
         "-77.90662153628297",
         "-171.76904375397908",
         "75.59700441606205",
         "-40.39306057148693",
         "-140.6737032214424",
         "110.43519645567692",
         "4.588702274004064",
         "-95.80171981608444",
         "158.55553538601484",
         "47.50663452885022",
         "-56.55587473648025",
         "-161.73586517878758",
         "91.28366495000462",
         "-17.381284962257805",
         "-126.70229084324474",
         "125.28411365138204",
         "20.44214839156096",
         "-88.45874831956797",
         "164.5658004810834",
         "50.786446173288965",
         "-65.4780631468844",
         "-173.6483144674081",
         "79.9110412216946",
         "-25.29178322171061",
         "-133.9483296764887",
         "104.05420550031144",
         "-9.610249316182609",
         "-113.90935512982294",
         "124.55011816261413",
         "-11.031957898967327",
         "-104.39356097119378",
         "164.30089365255128",
         "-2.8132644666584885",
         "-71.437580504629",
         "-169.4752401625676",
         "17.264598632674165",
         "-51.40732856443904",
         "-77.06956094415585",
         "-42.88856009428946",
         "-84.81416785234235",
         "-70.27443883129764",
         "-66.02185092323357",
         "-62.34810747311457",
         "-61.748247253033945",
         "-58.63347208691769",
         "-58.81611075018435",
         "-57.71265011090719",
         "-54.15229116440645",
         "-55.111033870315616",
         "-56.15161690104875",
         "-54.60944099476379",
         "-52.89762011355892",
         "-52.871254061160606",
         "-52.294179793945965",
         "-51.28208733999353",
         "-50.528078786942416",
         "-50.037669233789856",
         "-49.08686669034165",
         "-48.337644720154856",
         "-47.62803231293129",
         "-46.8837593938584",
         "-46.14336740051634",
         "-45.42214053921629",
         "-44.67036704476116",
         "-43.90221445148353",
         "-43.19109720084",
         "-42.47718487497974",
         "-41.69623775484442",
         "-40.97855537625728",
         "-40.24168115486305",
         "-39.50497461048336",
         "-38.76272187187244",
         "-38.03882909568318",
         "-37.29352586059623",
         "-36.56573433484503",
         "-35.82614202439213",
         "-35.10070765234698",
         "-34.37045150244371",
         "-33.640574066239026",
         "-32.91140253329261",
         "-32.18010923821184",
         "-31.45104572929861",
         "-30.7258949021757",
         "-29.99641476353078",
         "-29.269467497651203",
         "-28.54217989213324",
         "-27.81506750046305",
         "-27.08905407806144",
         "-26.363081996672",
         "-25.637666819940303",
         "-24.91243304681965",
         "-24.187332926139312",
         "-23.46267109585141",
         "-22.73829341943252",
         "-22.01414590186002",
         "-21.29015402491372",
         "12.05672084509488",
         "114.61577625808135",
         "4.089027622894413",
         "39.69013406861672",
         "0.0",
         "0.0",
         "0.0",
         "242.0",
         "169.0",
         "88.0",
         "0.1556522768744259",
         "0.0694031659523617",
         "0.084200809644003",
         "0.0885435089435153",
         "0.0762881796492016",
         "-0.005468114597637",
         "0.0263374572586331",
         "-0.0215893280610304",
         "-0.0123083966207166",
         "3.508257420087068",
         "0.7163700078335572",
         "-0.0227709955651881",
         "-0.1191027952645855",
         "-0.0002609128741505",
         "0.000717349460402",
         "-0.0970263849159054",
         "0.0900583394587753",
         "-0.0193447446419667",
         "-0.1559479148734908",
         "-0.1407828368530609",
         "0.322950000977935",
         "-0.024506218988222",
         "-0.1754990623074727",
         "-0.3930870393988174",
         "0.6768393321009053",
         "0.0879324134017506",
         "-0.409274744322804",
         "0.1570822205432657",
         "-0.3805023656875658",
         "-0.1244164188202272",
         "0.198633004974749",
         "0.3932316584498198",
         "-0.611012177936762",
         "-0.1222127756147235",
         "0.4970732163425945",
         "2.074395081212556",
         "-0.996096628204123",
         "-0.1614153578021691",
         "1.2873669398781489",
         "-0.0066308881797503",
         "0.0040567620756941",
         "-0.001018525279502",
         "-0.0042511653425973",
         "-0.0224572553115012",
         "0.0170024261709144",
         "-0.0022780538097119",
         "-0.021486133133632",
         "-0.4645368178590788",
         "0.1839291704470264",
         "0.0125659121707742",
         "-0.2898974135987502",
         "0.0096192877950503",
         "0.0063445707683035",
         "0.0074446199751073",
         "0.0038080020939651",
         "0.0322369766320031",
         "0.0101707287745775",
         "0.0189693128601978",
         "0.0246028014421773",
         "0.5433175730010101",
         "0.100020726073463",
         "0.0711753317743134",
         "0.3231394661258777",
         "-2.280078389753208",
         "0.1784736026645073",
         "16.0",
         "6.0",
         "4.0",
         "2.0",
         "0.0037472418884287",
         "0.0200878824126672",
         "0.5826196865143246",
         "0.2777368806995791",
         "0.0367214017491046",
         "0.0308258901980979",
         "0.0349915378826498",
         "0.0104464079737149",
         "0.0024385377050781",
         "0.0003845329763548",
         "0.1167315175097276",
         "0.0661478599221789",
         "0.0389105058365758",
         "0.0311284046692607",
         "0.0311284046692607",
         "0.0233463035019455",
         "0.0155642023346303",
         "0.0077821011673151",
         "0.0",
         "0.0",
         "0.3424124513618677",
         "0.6575875486381323",
         "0.1011673151750972",
         "0.1050583657587548",
         "0.1439688715953307",
         "0.1712062256809338",
         "0.4007782101167315",
         "0.3594451475127912",
         "0.4999733686326161",
         "0.6630284755527878",
         "0.868197651699325",
         "1.3010856737672218",
         "1.1629028166952502",
         "1.659905988005451",
         "2.171392928697008",
         "2.712120475043749",
         "3.2113054798966325",
         "0.0",
         "4.249652805199694",
         "100",
         "N",
         "N",
         "0"
        ],
        [
         "2",
         "0.0",
         "0.0",
         "0.0",
         "0.0",
         "12.218371997672076",
         "296.0545786338635",
         "0.0612371571541325",
         "0.0007930506410185",
         "-4.283137031926455e-05",
         "-0.0258842554300316",
         "0.0339399222157557",
         "360.0",
         "0.90621295025976",
         "26.70050168350336",
         "0.8212219112184981",
         "5.323084390748642",
         "32.49925470681535",
         "0.9068482946659324",
         "21.9841394183336",
         "112.0",
         "43.0",
         "138.0",
         "222.0",
         "0.5027777777777778",
         "0.5",
         "0.475",
         "0.4722222222222222",
         "0.0",
         "0.0",
         "0.0",
         "0.0",
         "1.0",
         "0.0637339696316125",
         "6.779480999806052",
         "6.779480999806052",
         "-1.078752739078748",
         "0.7854699064854934",
         "0.0014665135714446",
         "0.0101366497235343",
         "0.0283269216510389",
         "3.644164999435688",
         "2.620397968825203",
         "1.3840859387039104",
         "4.525431074321288",
         "4.101004245057888",
         "0.0",
         "1.0",
         "1.0",
         "1.0",
         "1.0",
         "1.0",
         "1.0",
         "1.0",
         "1.0",
         "1.0",
         "1.0",
         "1.0",
         "1.0",
         "1.0",
         "1.0",
         "1.0",
         "1.0",
         "1.0",
         "1.0",
         "1.0",
         "1.0",
         "1.0",
         "0.0",
         "0.0",
         "0.0",
         "0.0",
         "0.0",
         "0.0",
         "0.0",
         "0.0",
         "0.0",
         "0.0",
         "0.0",
         "0.0",
         "0.0",
         "0.0",
         "0.0",
         "0.0",
         "0.0",
         "-0.4973574417768283",
         "-0.3856084349352917",
         "-0.3266609760644415",
         "-0.0854398986135883",
         "0.0284088069359621",
         "0.0775211677568251",
         "0.128517395971521",
         "0.2433699188377973",
         "1.0",
         "0.9740810163112292",
         "0.894405884344143",
         "0.7706038168591168",
         "0.6171732255667535",
         "0.4510422373505089",
         "0.2888871846635988",
         "0.1447478808132626",
         "0.0283646317937491",
         "-0.0555392260368221",
         "0.0644861048844531",
         "-0.0416893696010987",
         "0.0744515549144684",
         "1.0",
         "0.974081016311229",
         "-1.0637485295115516",
         "-1.3064374957333595",
         "2.94815491448898",
         "0.8271542338690858",
         "0.7179247002440591",
         "1.3248148454582165",
         "-3.302517739269931",
         "-0.8268694700685972",
         "17.0",
         "22.0",
         "23.0",
         "18.0",
         "14.0",
         "8.0",
         "2.0",
         "0.9107450685985276",
         "0.3361111111111111",
         "0.475",
         "0.4972222222222222",
         "0.5027777777777778",
         "0.5222222222222223",
         "0.6138888888888889",
         "0.7111111111111111",
         "0.7777777777777778",
         "-0.0800337614813066",
         "-0.3385048746640895",
         "-0.5926138662700254",
         "-0.3590621297632293",
         "-0.2419160804470452",
         "-0.4492196102266287",
         "-0.611926501579472",
         "-0.327495959472892",
         "-0.2871299839345982",
         "-0.5293825478011184",
         "-0.6282169732186867",
         "-0.29239754966702",
         "-0.2214826956827875",
         "-0.5635959232649419",
         "-0.6151128451297544",
         "-0.271213131259841",
         "-0.1236217501308506",
         "-0.559584315098244",
         "-0.5954572463939549",
         "-0.2280657189985914",
         "-0.0534658716297606",
         "-0.5114130892698785",
         "-0.5479111301763062",
         "-0.1821922341144518",
         "-0.0199419081055427",
         "-0.4263295685280018",
         "-0.4853336207668084",
         "-0.1338329922087481",
         "-0.0063232381557969",
         "-0.3153831508005639",
         "-0.4144767019559087",
         "-0.0833765006113937",
         "0.0031266693377975",
         "-0.1950292666315509",
         "-0.3253935459861565",
         "-0.0450509409347645",
         "0.015243328578714",
         "-0.0694535437052845",
         "-0.2296276342371017",
         "0.0102539955977764",
         "0.0299168581310622",
         "0.0474651593550801",
         "-0.1252688333700404",
         "0.0661795996164854",
         "0.0439711767656073",
         "0.1480567753330239",
         "-0.0188653227413408",
         "0.1223121039893438",
         "0.0545415553307878",
         "0.225253844333953",
         "0.0891155702977149",
         "0.1781970846591196",
         "0.0607522880096624",
         "0.2826713770930801",
         "0.1911206466598175",
         "0.2250543576657754",
         "0.0631765539045671",
         "0.3172610552856625",
         "0.2904721837559497",
         "0.2808559847709587",
         "5.087698408267566",
         "28.163003822746816",
         "21.292892417579832",
         "2.0382928170800346e-06",
         "8.14094687753283",
         "-30.998028931392287",
         "72.76159093483703",
         "-116.69907264704143",
         "133.72039074016865",
         "-110.9039061492749",
         "65.73848667112058",
         "-26.64318363408504",
         "6.662823654749404",
         "-0.7801245248819373",
         "0.0032264183414",
         "0.0046464599930237",
         "0.034999746264122",
         "0.0034318875297845",
         "-0.0009765283915953",
         "0.0041767255006653",
         "0.0313277281387085",
         "0.0031962525580321",
         "0.0027665096037323",
         "0.0045352131401255",
         "0.0279917120178223",
         "0.0037593307738244",
         "0.002180579688928",
         "0.0034332773399198",
         "0.0234157563422224",
         "0.0028897346226212",
         "0.0007930506410185",
         "0.0468468246026663",
         "0.0612371571541325",
         "0.0430974641156656",
         "0.0006169970468164",
         "0.0008804873516396",
         "0.0184722686793578",
         "0.000539643326833",
         "0.0012787905406168",
         "0.0005895009726954",
         "0.0156137055011086",
         "0.0003473484784669",
         "0.0009967781214222",
         "0.000463015807738",
         "0.013679259051892",
         "0.0002768872461526",
         "-0.0004421807648687",
         "0.0565487642745008",
         "0.0645208536622519",
         "0.0523860192410239",
         "0.0010333256397808",
         "0.0002528598489329",
         "0.0116920743895406",
         "0.0001172230072802",
         "0.0007380881534437",
         "0.0002411245826364",
         "0.0108604474591162",
         "0.0001237200377464",
         "0.0026118201339938",
         "0.0720360608287032",
         "0.0758885406273342",
         "0.066283811834569",
         "0.000908480788357",
         "0.0001305937725944",
         "0.0083906436408268",
         "6.101620922996432e-05",
         "-0.0025737280307541",
         "0.1050615805296306",
         "0.1034555497603726",
         "0.094365153829386",
         "-0.0055154106087297",
         "0.2193467059495203",
         "0.2052867761571905",
         "0.1772344652386907",
         "12.21837199767208",
         "-23.99767344181529",
         "56.67167105018875",
         "-37.51282132218203",
         "24.496246243902025",
         "-64.46956416976153",
         "59.75101555567298",
         "-50.72130098168742",
         "43.63558274786018",
         "-51.95408471210466",
         "41.93519793544313",
         "-48.54452049626138",
         "52.12155620406786",
         "-51.598669577435786",
         "45.48700687497807",
         "-47.42787462629465",
         "46.195174756062734",
         "-44.06403337310948",
         "40.9522849205255",
         "-41.03482115083264",
         "36.071298014995605",
         "-36.61768364582744",
         "35.31527419646454",
         "-30.48420347942442",
         "26.62400338548501",
         "-24.78232960692131",
         "20.64218623483585",
         "-19.034925928414577",
         "18.303524744484125",
         "-17.248957501272912",
         "13.7781833692099",
         "-12.185476906739666",
         "9.235711299376716",
         "-7.370163758670033",
         "6.669465271274614",
         "-6.049286503492364",
         "4.654123663406731",
         "-4.534741400902963",
         "2.504243496146292",
         "-2.5082785681531297",
         "1.592123474574714",
         "-1.5376316215413717",
         "0.3684048698998743",
         "-0.709027021504899",
         "0.6431519499669252",
         "-0.89917342018821",
         "0.3047166421212487",
         "-0.3223205754456233",
         "-0.1575971217058878",
         "-0.309468033789212",
         "-0.1139134316448123",
         "-0.3908962142915634",
         "-0.0358802828820091",
         "-0.2308925896555723",
         "-0.1312631487358286",
         "-0.2433276438561095",
         "-0.1287126992852867",
         "-0.1660971598942734",
         "-0.1188243157853599",
         "-0.1855128890647621",
         "-0.2520499479935293",
         "-0.1963067322924432",
         "-0.1606676586355295",
         "-0.1547622709139183",
         "-0.1675873650479649",
         "-0.1601685663170081",
         "-0.1641133614489712",
         "-0.1628141609126557",
         "-0.1669291828489016",
         "-0.1572502276140814",
         "-0.1691425858032946",
         "-0.1531829401733792",
         "-0.1652229686415492",
         "-0.1576498016088968",
         "-0.1635128791674043",
         "-0.15746670722085",
         "-0.1619622597411681",
         "-0.1572382332443937",
         "-0.162680716650179",
         "-0.1565444473676123",
         "-0.1591058245066375",
         "-0.1571410999563922",
         "-0.1581908657072901",
         "-0.1563512563472455",
         "-0.1577955060999782",
         "-0.1561477164228593",
         "-0.1566492254525423",
         "-0.1559793802049376",
         "-0.156139913572842",
         "-0.1559340388241437",
         "-0.155166507292046",
         "-0.1553323683917047",
         "-0.1551754077631189",
         "-0.154839110388727",
         "-0.1546895283180779",
         "-0.1545004081417059",
         "-0.1543803165328564",
         "-0.1542037021332634",
         "-0.1540108260452619",
         "-0.1538396644689599",
         "0.0",
         "-42.88647380223765",
         "24.632492391253702",
         "8.994708118609411",
         "-9.123013534017408",
         "-0.5271658729729779",
         "-11.968677083754873",
         "-1.0015422832020002",
         "8.753329786997988",
         "-0.7796709295530981",
         "-5.255989730853703",
         "1.9647971753353013",
         "-1.5214786932721551",
         "4.342139714844437",
         "4.3519453065945335",
         "-0.3125916315122398",
         "2.2814926766925416",
         "-3.0550040615490306",
         "6.163100702594172",
         "-2.2627215529577174",
         "3.556710764726462",
         "-1.292304349615467",
         "4.346422644247208",
         "-2.9453750252801747",
         "4.988936765232792",
         "-2.437651542166823",
         "2.639982603991269",
         "0.8384224469226975",
         "0.2248153339965051",
         "-0.0364411307337251",
         "1.2380146327261174",
         "-1.276954830186202",
         "1.1800264378596612",
         "1.364665599742524",
         "-1.5076167519389694",
         "3.1028685376245484",
         "-1.928963173642391",
         "2.5123932636700523",
         "-1.2675451625344856",
         "1.9985081476103448",
         "-0.580972617913594",
         "0.7591413477727199",
         "-0.1799882986572635",
         "1.250952282037991",
         "-0.4552938115178093",
         "0.7580057893539884",
         "0.0442168050957211",
         "0.5777876924988784",
         "-0.000948459694872",
         "0.4288813530367805",
         "0.1029900307309769",
         "0.5020152728730789",
         "0.2252657898474958",
         "0.3645017855030307",
         "0.2817437399533216",
         "0.3033857234195756",
         "0.2834217577631139",
         "0.301775472757989",
         "0.2037734954994319",
         "0.2869262865509081",
         "0.3880359833737914",
         "0.2408384123702951",
         "0.2294905260157986",
         "0.2350200882343793",
         "0.2148899635529935",
         "0.2353442338453732",
         "0.2112160957564853",
         "0.222733658267685",
         "0.2079552653667326",
         "0.2072018974320425",
         "0.2035516645387504",
         "0.1980741078770648",
         "0.1930634320842212",
         "0.18981313640088",
         "0.1875878137084252",
         "0.1829376938308975",
         "0.1817648486629164",
         "0.1762428057049828",
         "0.1746057000919728",
         "0.1723195204339541",
         "0.1687446077092594",
         "0.1665698398872244",
         "0.1629645074320858",
         "0.1608957414856726",
         "0.1574548946979222",
         "0.154756578594146",
         "0.1517982863011499",
         "0.1495257216522052",
         "0.1467185284985132",
         "0.1443936742584429",
         "0.1417984884759291",
         "0.1393769756249315",
         "0.1371213472715088",
         "0.1346634711847692",
         "0.1322456401928923",
         "0.1299831460664627",
         "0.1277040084244836",
         "0.1254660205777918",
         "0.1233156455607208",
         "0.1211524390307038",
         "12.21837199767208",
         "49.144053209010174",
         "61.79351083265922",
         "38.57611356382253",
         "26.139920734075474",
         "64.47171944423872",
         "60.93794459176871",
         "50.73118823977975",
         "44.50488584532376",
         "51.959934613420536",
         "42.263296770787214",
         "48.58426595259155",
         "52.14375819355453",
         "51.781047492925694",
         "45.69471766403522",
         "47.42890474273696",
         "46.25147975553839",
         "44.169809677228486",
         "41.41344528631031",
         "41.09715873034341",
         "36.24622369227651",
         "36.64048042968232",
         "35.58173662672888",
         "30.62616358302973",
         "27.087396447754244",
         "24.90192775242745",
         "20.81031861128088",
         "19.053381781188698",
         "18.30490535365705",
         "17.248995995034846",
         "13.833691379614343",
         "12.252202295221116",
         "9.310790814935244",
         "7.49544034922124",
         "6.837739047043632",
         "6.798651363551096",
         "5.038031956979928",
         "5.184206736271039",
         "2.80676080688319",
         "3.207100901362669",
         "1.6948115945606568",
         "1.7148196959045372",
         "0.4100218723671697",
         "1.4379154805342929",
         "0.7879954857438415",
         "1.176046604632285",
         "0.3079080347092654",
         "0.6616110420471958",
         "0.1575999757162837",
         "0.5288758634311274",
         "0.1535682790782813",
         "0.6362540251702206",
         "0.2281053940074832",
         "0.4314776235133798",
         "0.3108207670329143",
         "0.388910323132962",
         "0.3112793789039644",
         "0.3444658219377527",
         "0.2358873788270918",
         "0.3416748833658228",
         "0.4627106014307497",
         "0.3107080205214879",
         "0.2801428172601093",
         "0.2813997199219084",
         "0.2725127911851602",
         "0.2846767957532041",
         "0.2674797833719278",
         "0.2758962368699473",
         "0.2666659792331039",
         "0.260115859539781",
         "0.264655425919668",
         "0.2503964164509072",
         "0.2541104448362268",
         "0.2467437672924356",
         "0.2488486477872062",
         "0.2413751513870973",
         "0.2434547879790383",
         "0.2361893066093016",
         "0.2386465295671064",
         "0.2328093235337002",
         "0.2319254320312647",
         "0.2289952769285001",
         "0.2271162272401606",
         "0.2243505181397771",
         "0.2229158262880454",
         "0.2198447360348658",
         "0.2181322982935982",
         "0.2160729239972682",
         "0.214256853368343",
         "0.2125204875532307",
         "0.2101986116016725",
         "0.208696157138863",
         "0.2070789005476027",
         "0.2052057518138893",
         "0.2035135364571541",
         "0.2019059047608294",
         "0.2003536770325554",
         "0.1987976460404678",
         "0.1972969411298645",
         "0.1958176596913838",
         "0.0",
         "-119.2297513128824",
         "23.492303421960933",
         "166.51635367528752",
         "-20.42658666116889",
         "-179.53150441054365",
         "-11.326964976592668",
         "-178.86878513838462",
         "11.343024164735512",
         "-179.14023120817515",
         "-7.143970451594424",
         "177.6822682889631",
         "-1.6720444661682148",
         "175.18976947932154",
         "5.465108740063637",
         "-179.62237561757345",
         "2.8274332534430155",
         "-176.03397207280665",
         "8.558482559735221",
         "-176.8438211134279",
         "5.63128936226087",
         "-177.97876708898713",
         "7.0163856492036505",
         "-174.48122887470635",
         "10.61328552179496",
         "-174.382315564093",
         "7.288141135804311",
         "177.47794986000875",
         "0.7037071980862697",
         "-179.87895385067617",
         "5.134424173234696",
         "-174.0176282028074",
         "7.281105840588496",
         "169.50987246816132",
         "-12.737502565534331",
         "152.84529152196987",
         "-22.512209415935704",
         "151.01213061552298",
         "-26.846658860618422",
         "141.45339559810554",
         "-20.047240740880103",
         "153.7240686489202",
         "-26.038336651018447",
         "119.54412315701822",
         "-35.295065567946146",
         "139.86901458238165",
         "8.256444451706171",
         "119.1550924538877",
         "-179.65518354083224",
         "125.81309621195776",
         "137.8830174582571",
         "127.90625221730448",
         "99.05003623291591",
         "122.3520944870378",
         "114.98060114671084",
         "128.73102591158454",
         "114.42462216691446",
         "118.82837761525371",
         "120.24729867467876",
         "122.88478689609867",
         "123.00586064055828",
         "129.1833827090512",
         "124.99609011141946",
         "123.36516622238376",
         "127.94978682242484",
         "124.2380851567792",
         "127.84694544186549",
         "126.16610908611118",
         "128.75459750869845",
         "127.19568867848318",
         "129.7251082540099",
         "127.71699544088602",
         "130.5567887822116",
         "129.71141633296605",
         "131.07737506959998",
         "130.72077943195046",
         "131.70275646757057",
         "131.7383293910591",
         "132.9751134102847",
         "132.2537191263624",
         "133.31599257343606",
         "133.33161551847567",
         "134.14842033964385",
         "134.17930819643018",
         "135.061905038498",
         "135.25636762069655",
         "135.90101368319205",
         "136.21016771068312",
         "136.78179472960088",
         "137.20055960278856",
         "137.57745639602717",
         "138.09893485925508",
         "138.53445254908968",
         "138.9865377124987",
         "139.47253322584592",
         "139.92567408953772",
         "140.40231285288195",
         "140.86688157142703",
         "141.31593111213525",
         "141.77871665679112",
         "16.025976495230665",
         "277.0886081577664",
         "4.930116144648023",
         "40.91003971695704",
         "0.0",
         "0.0",
         "0.0",
         "347.0",
         "202.0",
         "158.0",
         "0.169959185251364",
         "0.0739652003066173",
         "0.0755727319407132",
         "0.0597870032025468",
         "0.0370390928377553",
         "0.0040936151028596",
         "-0.0117506780082103",
         "-0.0309797641706214",
         "-1.1686309951463305e-06",
         "4.538116720684044",
         "0.0590997352988293",
         "-0.0995763245993083",
         "0.1898020522728349",
         "-0.0008683127022678",
         "0.0004585795582644",
         "-0.0813301296876972",
         "-0.1601438124985457",
         "-0.1052929427978563",
         "-2.378886659147914e-06",
         "-0.0622840546689521",
         "-0.229176618242849",
         "-0.1460332856039285",
         "0.0002810424672105",
         "-0.1162595563149718",
         "0.0920027721069952",
         "-0.2488234008700396",
         "-0.0851560573459026",
         "0.3170673768284413",
         "0.0586068165630482",
         "0.188121174700431",
         "0.0863580494256206",
         "0.5049322191152689",
         "-0.0917503139218015",
         "0.1855741799523207",
         "0.4404436651319988",
         "1.3298151143284047",
         "-0.4040668017995912",
         "0.1609037504154593",
         "0.8267468618403163",
         "-0.0044966749370909",
         "-0.0041831510279762",
         "-0.0043431338728077",
         "-4.656753072749223e-08",
         "-0.0093053414370321",
         "-0.0080134412722982",
         "-0.0086648147278037",
         "4.8482016459198846e-05",
         "-0.1126954020922545",
         "0.0141056051053753",
         "-0.0375967652289788",
         "-0.0592313922329142",
         "0.0065864272236452",
         "0.0030817878476254",
         "0.0049026858124898",
         "0.0023397014219809",
         "0.0255724276867449",
         "0.0058370562492407",
         "0.0100666983095703",
         "0.0295848416852136",
         "0.3930491589375773",
         "0.0623260085274753",
         "0.0597454962529849",
         "0.2829308978927902",
         "-3.7219814628692367",
         "0.0038143767699396",
         "17.0",
         "10.0",
         "2.0",
         "2.0",
         "0.0030002264281306",
         "0.0003481277056161",
         "0.0004296263457963",
         "0.0172446353915033",
         "0.3905932789370585",
         "0.5241854141136297",
         "0.0180943766264288",
         "0.0405915466100044",
         "0.0045353158350511",
         "0.0009774520067806",
         "0.2083333333333333",
         "0.0444444444444444",
         "0.0305555555555555",
         "0.0277777777777777",
         "0.025",
         "0.025",
         "0.0138888888888888",
         "0.0138888888888888",
         "0.0083333333333333",
         "0.0",
         "0.4388888888888889",
         "0.5611111111111111",
         "0.0833333333333333",
         "0.0861111111111111",
         "0.1055555555555555",
         "0.1416666666666666",
         "0.3444444444444444",
         "0.2324776109458243",
         "0.381222094561028",
         "0.5367527057635516",
         "0.6985391793458446",
         "1.0461560196132669",
         "1.155030510033527",
         "1.659038189380531",
         "2.1664555584600564",
         "2.6813416511971235",
         "3.181041473064916",
         "0.0",
         "5.709515560825443",
         "100",
         "N",
         "N",
         "0"
        ],
        [
         "3",
         "0.0",
         "0.0",
         "0.0",
         "0.0",
         "7.16907524355933",
         "240.71736013764968",
         "0.061860039634476",
         "0.0003530042661976",
         "-8.355772867535625e-05",
         "-0.0333027614070711",
         "0.0199140978987759",
         "360.0",
         "0.8174734016593883",
         "41.04998407734236",
         "0.6682627624205716",
         "5.624046819491928",
         "37.4008044049116",
         "0.8177159248270107",
         "22.20775422877692",
         "104.0",
         "45.0",
         "127.0",
         "233.0",
         "0.5027777777777778",
         "0.5",
         "0.4805555555555555",
         "0.4777777777777778",
         "0.0",
         "0.0",
         "0.0",
         "0.0",
         "1.0",
         "0.0705959437634476",
         "6.466106856105557",
         "6.466106856105557",
         "-1.2595138856007175",
         "0.8463812758356077",
         "0.0022335923189242",
         "0.0153220831872879",
         "0.0402285395958536",
         "2.687704355156133",
         "1.6616574896967835",
         "0.572408650380386",
         "5.393681057189106",
         "4.409190801286184",
         "0.0",
         "1.0",
         "1.0",
         "1.0",
         "1.0",
         "1.0",
         "1.0",
         "1.0",
         "1.0",
         "1.0",
         "1.0",
         "1.0",
         "1.0",
         "1.0",
         "1.0",
         "1.0",
         "1.0",
         "1.0",
         "1.0",
         "1.0",
         "1.0",
         "1.0",
         "0.0",
         "0.0",
         "0.0",
         "0.0",
         "0.0",
         "0.0",
         "0.0",
         "0.0",
         "0.0",
         "0.0",
         "0.0",
         "0.0",
         "0.0",
         "0.0",
         "0.0",
         "0.0",
         "0.0",
         "-0.4435828037353518",
         "-0.3812259402525636",
         "-0.2145616211436606",
         "-0.1141864816608639",
         "-0.0063344999573376",
         "0.093829659500418",
         "0.1310710034276355",
         "0.2970550298666676",
         "1.0000000000000002",
         "0.962033265827816",
         "0.8495518094783456",
         "0.680973695409771",
         "0.4827050697910018",
         "0.2833176558826406",
         "0.1077373738832607",
         "-0.0270829232796014",
         "-0.1141018165609539",
         "-0.1556105170392239",
         "0.0347330131331192",
         "-0.0458089475003472",
         "0.0636938571095058",
         "1.0",
         "0.962033265827816",
         "-1.0196557983399397",
         "-3.806892125520649",
         "1.1946414376722818",
         "0.8011208839077585",
         "1.553971055137013",
         "-2.2017343389301525",
         "-0.7993884448114817",
         "-0.7972176610232077",
         "10.0",
         "19.0",
         "20.0",
         "19.0",
         "18.0",
         "9.0",
         "3.0",
         "0.5842518068216691",
         "0.3388888888888889",
         "0.4611111111111111",
         "0.4944444444444444",
         "0.5027777777777778",
         "0.5166666666666667",
         "0.5972222222222222",
         "0.6805555555555556",
         "0.7666666666666667",
         "-0.1424515180770918",
         "-0.3135609290222499",
         "-0.3796859287065394",
         "-0.2663456054225092",
         "-0.2687625180149891",
         "-0.3605174744038318",
         "-0.3731663735297213",
         "-0.2384988218154993",
         "-0.2625092651726881",
         "-0.3747617219933643",
         "-0.3693796096378094",
         "-0.2087145275789849",
         "-0.1509180049776591",
         "-0.3490415805961986",
         "-0.3428242056158214",
         "-0.192958469253557",
         "-0.0265719259053329",
         "-0.2986832889083782",
         "-0.3179787918719668",
         "-0.1548244878751661",
         "0.0491452632503703",
         "-0.2231967693784329",
         "-0.2739660316877293",
         "-0.115524534330716",
         "0.0720882758446066",
         "-0.1336078184884301",
         "-0.2249768763967251",
         "-0.0753015391212553",
         "0.0641208623838812",
         "-0.0417362616387195",
         "-0.1770937895479979",
         "-0.0342475394041114",
         "0.046001441404842",
         "0.0385270922745395",
         "-0.119602275635974",
         "-0.0052242123217373",
         "0.0306249336017682",
         "0.1079508566808515",
         "-0.0635898600032357",
         "0.041524958124633",
         "0.0237744912349051",
         "0.158652863537351",
         "-0.0058396777385967",
         "0.0882473508548133",
         "0.0250360811093939",
         "0.1898156834347945",
         "0.0484821550832366",
         "0.1346805100253981",
         "0.0296840401410607",
         "0.200883240804336",
         "0.1007315348285425",
         "0.1806495073755186",
         "0.0322580843153105",
         "0.2005945252771761",
         "0.1453823258478138",
         "0.2182808258642271",
         "0.0299479003294526",
         "0.189068365321327",
         "0.1878305168452391",
         "0.2659798931303759",
         "1.5477590497361924",
         "22.572416388109207",
         "14.419083953460412",
         "1.8902233303996893e-06",
         "8.168661363018934",
         "-31.2778290605085",
         "73.88119234162261",
         "-119.1826414444334",
         "137.17744514369053",
         "-114.08438738792589",
         "67.698997271449",
         "-27.438283097951462",
         "6.860892836045078",
         "-0.8041801794382941",
         "0.0004148032570554",
         "0.0088943720304308",
         "0.0403229990194955",
         "0.0072685998422466",
         "-0.0019660522442198",
         "0.0089107786015171",
         "0.0379633828450913",
         "0.0074734255259011",
         "-0.0013506405010624",
         "0.0060162965903971",
         "0.0290432480412088",
         "0.005174610563377",
         "-0.0009318482827122",
         "0.004552713316911",
         "0.0248328212213582",
         "0.003936912648321",
         "0.0003530042661976",
         "0.0541529771209872",
         "0.061860039634476",
         "0.0503264372294202",
         "0.0031621616183952",
         "0.001331866335182",
         "0.0221711487419598",
         "0.0008503057647447",
         "0.0014170561936743",
         "0.0007695632232878",
         "0.0164222715692913",
         "0.0005018802680483",
         "0.0010170878178673",
         "0.0006049292694574",
         "0.0150770773026248",
         "0.0003786454770973",
         "-0.0009715323128302",
         "0.062382510780055",
         "0.0620512129592648",
         "0.0585331016253738",
         "-0.0016555148643855",
         "0.0001826020453522",
         "0.0100710496734296",
         "8.391673329380946e-05",
         "-0.0006288121620643",
         "0.0002468923313697",
         "0.0114156698653566",
         "0.0001169702176301",
         "0.0030603430763225",
         "0.0752926714801207",
         "0.0693320777949769",
         "0.0704951001684967",
         "-0.0004478968379885",
         "0.0002793811586938",
         "0.0119174180081431",
         "0.0001375569182904",
         "0.0051198665381582",
         "0.1155370827621244",
         "0.1006141254155904",
         "0.1054400935623488",
         "0.0111496527304426",
         "0.2411171904389687",
         "0.1961250532461357",
         "0.2027764686841786",
         "7.16907524355933",
         "-15.182889594223012",
         "33.68895875949935",
         "-33.816294148463044",
         "14.766878549970055",
         "-43.92786656612645",
         "51.250535316138965",
         "-45.87256405916324",
         "38.43259403100792",
         "-41.901855301887096",
         "38.57682181146132",
         "-37.20952385082294",
         "38.682464736969024",
         "-45.02822426076575",
         "38.64022016509749",
         "-42.71856245329977",
         "42.26940502695278",
         "-41.41539055027864",
         "38.85921394321481",
         "-38.35685044331998",
         "35.55371409942123",
         "-35.04176884096105",
         "34.547437827085865",
         "-34.913752826234216",
         "32.04821016842212",
         "-29.71501162780828",
         "28.209901115924403",
         "-26.320992476518622",
         "22.399694419691563",
         "-21.361146553797564",
         "20.05529921213403",
         "-19.348246070719952",
         "16.530022419216586",
         "-15.438265766940626",
         "12.000305394151948",
         "-10.50518742771778",
         "9.016582419387888",
         "-8.651694493887058",
         "6.39976952412527",
         "-5.502503110256335",
         "4.784690835010441",
         "-3.749402125847617",
         "2.004739714731474",
         "-1.917692270698538",
         "0.941291648211302",
         "-1.1598995019135865",
         "0.5103395710090711",
         "-0.8774637019559761",
         "0.2805446634455201",
         "-0.3615137537308486",
         "-0.1045319041509606",
         "-0.1158693781888359",
         "-0.1799275530772644",
         "-0.1434606567661527",
         "-0.1529548139250068",
         "-0.1022010826949842",
         "-0.194001516807367",
         "-0.0641406733197724",
         "-0.2023625703532861",
         "-0.0648359168465669",
         "0.0152455282561856",
         "-0.0946534571406475",
         "-0.1345873245327312",
         "-0.1107421454686893",
         "-0.145583328796334",
         "-0.1002119316243127",
         "-0.1399921571602584",
         "-0.1065383794685994",
         "-0.1293360829080745",
         "-0.1115134051089944",
         "-0.119588959965128",
         "-0.1147162069223904",
         "-0.1170811425782056",
         "-0.1120361192613675",
         "-0.1167131504905863",
         "-0.1104073738607856",
         "-0.1117715708028624",
         "-0.1097731877027494",
         "-0.10970557644259",
         "-0.1087717717265644",
         "-0.1077190340375877",
         "-0.1072032203934847",
         "-0.1066499405381762",
         "-0.1050804753976945",
         "-0.1053827656835344",
         "-0.104274445536606",
         "-0.1038117033211647",
         "-0.1029257530034469",
         "-0.1026080283815416",
         "-0.1014683857663449",
         "-0.1013932450647152",
         "-0.1007181770292431",
         "-0.1002421154838453",
         "-0.0996335881696347",
         "-0.0993162459565142",
         "-0.0988004891499771",
         "-0.0983233152874541",
         "-0.0978231814102708",
         "-0.0974793848855135",
         "-0.0969743347674472",
         "0.0",
         "-35.759487982515694",
         "27.18327822296142",
         "-3.123859326475463",
         "-21.408242697125075",
         "4.120283780173333",
         "-15.667970206820026",
         "6.428437966783712",
         "2.0278091893851755",
         "0.3690301342894513",
         "-10.522366493276246",
         "7.03298268318314",
         "-3.731235091828275",
         "3.200853606680632",
         "-6.773487832210828",
         "5.74979772324606",
         "-5.953672120114731",
         "3.843794646435661",
         "-1.8769069730896293",
         "0.5210447258783044",
         "-2.104769371096185",
         "4.053065084325062",
         "-4.124952148344466",
         "2.18559493624904",
         "-3.0729735243228182",
         "2.2685142104385743",
         "0.1494591970325971",
         "1.1413159164491455",
         "-1.6975976821526673",
         "4.5526919211856605",
         "-4.090072651729081",
         "4.228545158297547",
         "-3.673112984999488",
         "2.870714279817592",
         "-4.280400127160092",
         "4.429444871388375",
         "-4.182167685108047",
         "4.239595877120888",
         "-3.877146087933853",
         "4.273833927345794",
         "-3.1985583208956863",
         "3.221522225936182",
         "-2.385481318731058",
         "2.501784162576889",
         "-1.9984852025169564",
         "2.141991376980344",
         "-1.4840127388840338",
         "1.2810204925149609",
         "-0.8249264721329275",
         "0.92323954845901",
         "-0.4921749956196878",
         "0.7077427748056331",
         "-0.3369356826581623",
         "0.5705655244102106",
         "-0.190397069491431",
         "0.3881678183549437",
         "-0.0674816171307186",
         "0.2461082635479841",
         "0.0208026539337897",
         "0.2308287037581344",
         "0.0346345581725442",
         "0.1772234916668466",
         "0.0709289516015241",
         "0.131646540089217",
         "0.0966127725942098",
         "0.111571270990594",
         "0.0909749463193011",
         "0.105740065444238",
         "0.0953323108543168",
         "0.1026533143848248",
         "0.1000771819130004",
         "0.0987748661899712",
         "0.0951319719051584",
         "0.0899283428914995",
         "0.0925702623649026",
         "0.0883010252477215",
         "0.0895121254817327",
         "0.0858036990209383",
         "0.0860448528414594",
         "0.082302600658995",
         "0.0827785200604295",
         "0.0790818355979282",
         "0.0801070302155317",
         "0.0769252485795814",
         "0.0774025246315775",
         "0.0745947407925625",
         "0.0746005503732849",
         "0.0722731810499012",
         "0.0717803370000611",
         "0.0701413186628864",
         "0.0693784408331747",
         "0.0676513453416044",
         "0.0668442198485186",
         "0.0654682819156812",
         "0.0646235864347932",
         "0.0633113239941714",
         "0.0623045368866473",
         "0.061234824888142",
         "0.060223167741169",
         "0.0590942194678551",
         "7.16907524355933",
         "38.8492099945681",
         "43.28829584594636",
         "33.96027454286823",
         "26.00718280568995",
         "44.12067768609828",
         "53.59200183415999",
         "46.320804699992216",
         "38.486053240892616",
         "41.90348029675217",
         "39.98613981984333",
         "37.86834444000576",
         "38.86200192266661",
         "45.1418480336064",
         "39.22941182098344",
         "43.10377885910605",
         "42.68663506352325",
         "41.59338086422018",
         "38.90451500880293",
         "38.360389251643184",
         "35.6159604723625",
         "35.275386604275845",
         "34.792825275370994",
         "34.982094872044684",
         "32.19520059388579",
         "29.80147769429802",
         "28.210297038879443",
         "26.345725402237274",
         "22.463929931915555",
         "21.840915407144607",
         "20.46811473449976",
         "19.804929188686632",
         "16.933204073074144",
         "15.70289942548953",
         "12.74084592173944",
         "11.400830880253793",
         "9.939279907114836",
         "9.634624581002422",
         "7.482600600667081",
         "6.967294806229503",
         "5.755348965858103",
         "4.943300694223592",
         "3.116007452788985",
         "3.152216306222887",
         "2.209066108488288",
         "2.435876415912256",
         "1.5693120425548943",
         "1.55272536222397",
         "0.8713259967506063",
         "0.9914955662913302",
         "0.5031532026119533",
         "0.7171649378570069",
         "0.3819680334853869",
         "0.58832472129367",
         "0.2442257545259269",
         "0.4013967071495026",
         "0.2054029142299009",
         "0.2543291240902579",
         "0.2034290055293927",
         "0.2397615202487578",
         "0.0378414951028299",
         "0.2009165074036109",
         "0.1521337046816716",
         "0.1720309108865908",
         "0.1747241639034567",
         "0.1499685958803792",
         "0.1669558172816455",
         "0.1501045893367256",
         "0.1606738056897527",
         "0.1515682766056024",
         "0.1559389678213523",
         "0.151381248249271",
         "0.1508578338237095",
         "0.1436634917936999",
         "0.148967154002972",
         "0.1413748890808903",
         "0.1431967340688912",
         "0.1393284877693677",
         "0.1394239226356416",
         "0.1364002067438676",
         "0.1358516605617536",
         "0.133215866863793",
         "0.1333842048623023",
         "0.13022826182836",
         "0.1307542661730495",
         "0.128208951894461",
         "0.1278362697454777",
         "0.1257661454064581",
         "0.1252230979819202",
         "0.1233516837898712",
         "0.1228574710678831",
         "0.1213295335465483",
         "0.1204849843085588",
         "0.1192180683812127",
         "0.1184901879253722",
         "0.117345048477427",
         "0.1164015878146673",
         "0.1154083125269067",
         "0.114582112087529",
         "0.113561209830223",
         "0.0",
         "-113.00527761244528",
         "38.8997067990567",
         "-174.7221472228728",
         "-55.40304448234203",
         "174.641529215871",
         "-16.999089167699335",
         "172.0226979115742",
         "3.020281999233706",
         "179.4954084391448",
         "-15.257074925646124",
         "169.29677358024296",
         "-5.509593944414904",
         "175.93394075153208",
         "-9.942717249979326",
         "172.3342206404303",
         "-8.017405141661811",
         "174.6975241670451",
         "-2.765247363502745",
         "179.22173412827593",
         "-3.387939116235936",
         "173.4022683955901",
         "-6.808862047040859",
         "176.41796816939546",
         "-5.477116254393982",
         "175.63437283492922",
         "0.3035565789785898",
         "177.51712830272302",
         "-4.333970002448756",
         "167.9685920471946",
         "-11.526816047647872",
         "167.67188866212413",
         "-12.528063429253343",
         "169.46627313893026",
         "-19.630856536433853",
         "157.13759163003218",
         "-24.883317608048568",
         "153.8937277602661",
         "-31.208566323911672",
         "142.1632545317848",
         "-33.76266548084406",
         "139.33051254999597",
         "-49.95657071615555",
         "127.47124259437447",
         "-64.77944432516747",
         "118.43577609347008",
         "-71.02233486303801",
         "124.41006767680462",
         "-71.21762977792817",
         "111.38386611283596",
         "-101.99074160386016",
         "99.29779669343108",
         "-118.1027328425287",
         "104.11364886660812",
         "-128.77653138152098",
         "104.75069360563468",
         "-160.82024672806915",
         "104.60747164086042",
         "174.13067266833883",
         "105.6891631558091",
         "66.24174307254894",
         "118.106270163916",
         "152.21029247973186",
         "130.0708209727149",
         "146.4307437567875",
         "131.92978887265886",
         "146.98187446605957",
         "135.21547081104626",
         "143.60645034664117",
         "137.36897914821935",
         "140.0759586331622",
         "139.27034095906382",
         "140.90509658569363",
         "141.246936097018",
         "141.58054029276386",
         "141.34806349576465",
         "141.310550858445",
         "141.98720470741202",
         "141.89201457200232",
         "142.8868816220025",
         "142.4589118955282",
         "143.58448928612077",
         "143.0890112360447",
         "143.7936212753484",
         "143.70311222488922",
         "144.4212316718033",
         "144.2984443337523",
         "144.9239476526582",
         "145.0249535973683",
         "145.3453376609569",
         "145.61807135237763",
         "146.11115550084097",
         "146.30354513823775",
         "146.69146527177062",
         "146.948552546385",
         "147.3482633789224",
         "147.63879054928714",
         "147.95448026446246",
         "148.29205592626693",
         "148.64270615300353",
         "17.702620407848336",
         "219.1909624608812",
         "4.062072840590073",
         "41.02988119661835",
         "0.0",
         "0.0",
         "0.0",
         "345.0",
         "222.0",
         "138.0",
         "0.1854457799182607",
         "0.07334483230761",
         "0.0567904310609632",
         "0.0576299193927131",
         "0.0513050426471216",
         "-0.0375781046656081",
         "0.1145592378622239",
         "0.0251374855167406",
         "-0.0043093566391364",
         "3.2438813006730376",
         "0.0371286744973654",
         "-0.1099039360908265",
         "0.1750960204327288",
         "-0.0008645232453145",
         "0.000413221634591",
         "-0.0870440449801358",
         "-0.1918052221768864",
         "-0.1186674468319727",
         "-0.0004568493413903",
         "-0.0632657627705078",
         "-0.2361264782275672",
         "-0.1798687526966329",
         "0.0021101420847221",
         "-0.1213535559463787",
         "0.0068240510001037",
         "-0.4019045666507506",
         "-0.0829663135130686",
         "0.2920903635021365",
         "0.0483903299924631",
         "0.1734110381582135",
         "0.0952384589756377",
         "0.4814639940244901",
         "-0.0698822013086987",
         "0.1703586135234111",
         "0.4155077754836554",
         "1.2841997983234534",
         "-0.3769328701653218",
         "0.1670969465231447",
         "0.7039976370317393",
         "-0.0044082121957563",
         "-0.0041810495843232",
         "-0.0043238574720968",
         "-1.1394425321004535e-05",
         "-0.0086915427984479",
         "-0.008097960524727",
         "-0.0085968294642648",
         "0.0003562349956923",
         "-0.112399055236289",
         "0.001085239006092",
         "-0.0473071529737539",
         "-0.0492135922934933",
         "0.0060300774543601",
         "0.0025570341763979",
         "0.0043242536165331",
         "0.0029810575337438",
         "0.0235135270075438",
         "0.005715229701504",
         "0.0080630928219927",
         "0.0289523924315371",
         "0.375329663182666",
         "0.064922822678487",
         "0.0440020301825528",
         "0.2413280297148416",
         "-4.479259097142262",
         "0.0002143233106045",
         "17.0",
         "10.0",
         "4.0",
         "2.0",
         "0.0024021354121992",
         "0.00080559037843",
         "0.0002717259794328",
         "0.0258021054990058",
         "0.301631296953125",
         "0.616546620225496",
         "0.0249798619335831",
         "0.0230661489255453",
         "0.0025971991683926",
         "0.0018973155247899",
         "0.2638888888888889",
         "0.05",
         "0.0305555555555555",
         "0.0222222222222222",
         "0.0222222222222222",
         "0.0222222222222222",
         "0.0166666666666666",
         "0.0111111111111111",
         "0.0083333333333333",
         "0.0",
         "0.3833333333333333",
         "0.6166666666666667",
         "0.0833333333333333",
         "0.0861111111111111",
         "0.1111111111111111",
         "0.125",
         "0.3361111111111111",
         "0.2530369754479396",
         "0.4446272822188035",
         "0.5857202744637943",
         "0.797709380277407",
         "1.2469271637160233",
         "1.1145029883647524",
         "1.5571583157516151",
         "2.0326330085347446",
         "2.5470355372380262",
         "3.0250989593675297",
         "0.0",
         "5.1579891728524245",
         "100",
         "N",
         "N",
         "0"
        ],
        [
         "4",
         "0.0",
         "0.0",
         "0.0",
         "0.0",
         "2.79163670318205",
         "217.7222357820796",
         "0.0599377612511458",
         "0.0005299341779857",
         "-0.0001386583514339",
         "-0.0889435681032628",
         "0.0077545463977279",
         "360.0",
         "0.7776399265043685",
         "100.28180716440322",
         "0.6047238552937197",
         "5.325823198688557",
         "35.32256063153486",
         "0.7776785893179483",
         "21.51765628916136",
         "99.0",
         "57.0",
         "139.0",
         "221.0",
         "0.5055555555555555",
         "0.5027777777777778",
         "0.4777777777777777",
         "0.475",
         "0.0",
         "0.0",
         "0.0",
         "0.0",
         "1.0",
         "0.0831886904418689",
         "6.037499905429894",
         "6.037499905429894",
         "-1.5227496409047998",
         "0.9227994204526544",
         "0.0020878794049557",
         "0.0141772895730436",
         "0.0364001879970806",
         "2.175131084305601",
         "1.3427981176775832",
         "0.4532386507951876",
         "5.355654164740447",
         "4.164770511051577",
         "0.0",
         "1.0",
         "1.0",
         "1.0",
         "1.0",
         "1.0",
         "1.0",
         "1.0",
         "1.0",
         "1.0",
         "1.0",
         "1.0",
         "1.0",
         "1.0",
         "1.0",
         "1.0",
         "1.0",
         "1.0",
         "1.0",
         "1.0",
         "1.0",
         "1.0",
         "0.0",
         "0.0",
         "0.0",
         "0.0",
         "0.0",
         "0.0",
         "0.0",
         "0.0",
         "0.0",
         "0.0",
         "0.0",
         "0.0",
         "0.0",
         "0.0",
         "0.0",
         "0.0",
         "0.0",
         "-0.3603247438684421",
         "-0.2826449989951428",
         "-0.2538025513494717",
         "-0.1581664059463956",
         "-0.0081955715688499",
         "0.1039170699190281",
         "0.1728391737339208",
         "0.2766568923005398",
         "1.0",
         "0.9626659558535928",
         "0.8515488628183444",
         "0.6839094459829762",
         "0.4845843205580254",
         "0.2806355482397502",
         "0.0960149104945182",
         "-0.0524182680085968",
         "-0.1567172568297851",
         "-0.2174076344198345",
         "-0.0111300610923205",
         "-0.0886060416434826",
         "0.0738886831211929",
         "1.0",
         "0.9626659558535926",
         "-1.0259657670665985",
         "-2.794532968805761",
         "1.305694596136543",
         "0.8042089053783917",
         "1.4663263446118306",
         "-2.419666373586884",
         "-0.8091616788998738",
         "-0.7691579680446158",
         "17.0",
         "26.0",
         "23.0",
         "21.0",
         "19.0",
         "9.0",
         "2.0",
         "0.9418982546155956",
         "0.3027777777777777",
         "0.4138888888888888",
         "0.475",
         "0.4972222222222222",
         "0.5083333333333333",
         "0.5333333333333333",
         "0.6305555555555555",
         "0.7555555555555555",
         "-0.1419449155970489",
         "-0.3211105521629782",
         "-0.4056044788423943",
         "-0.0884736217358904",
         "-0.2581050536562763",
         "-0.3677606734287347",
         "-0.3913744925980967",
         "-0.0446215338975446",
         "-0.2458587672827942",
         "-0.383698491995297",
         "-0.3777666139265793",
         "0.0010436833514992",
         "-0.1345633230529338",
         "-0.3619031833337419",
         "-0.3408726815964434",
         "0.0332484517341351",
         "-0.0167517350228336",
         "-0.3163237287459095",
         "-0.303576921702666",
         "0.0861475636085901",
         "0.0474738011606526",
         "-0.2457721514889938",
         "-0.2465184058664676",
         "0.140067349386299",
         "0.0575859037343734",
         "-0.1594769492700774",
         "-0.1832596839736624",
         "0.1945386108534289",
         "0.0408261920946694",
         "-0.0674588112830397",
         "-0.1200284716988319",
         "0.2491611340769762",
         "0.0216017158660102",
         "0.0179526667902687",
         "-0.0471734234221773",
         "0.2915762135347336",
         "0.0121180126919399",
         "0.0975860788839697",
         "0.0246276196228391",
         "0.3495954636365736",
         "0.0143296024275115",
         "0.1634519870740917",
         "0.0980054688600805",
         "0.4066343569564964",
         "0.0243691647359531",
         "0.2134121504846628",
         "0.1677029552103755",
         "0.4621932571202425",
         "0.0366446748313323",
         "0.2450552455183118",
         "0.234493257505635",
         "0.5158861267717219",
         "0.046533863467955",
         "0.2644080264319742",
         "0.2927349394552205",
         "0.5601686265282129",
         "0.0513030841952066",
         "0.2693714993080566",
         "0.34713685635551",
         "0.6122632088565454",
         "0.3236254943964707",
         "19.639215876960662",
         "16.65207254530194",
         "3.546243791825157e-07",
         "8.192147695060102",
         "-31.43987502090706",
         "74.38066956507396",
         "-120.0755045299191",
         "138.17804224964664",
         "-114.78540352749968",
         "67.97538031125102",
         "-27.47157157985919",
         "6.845159407067513",
         "-0.7991975277218812",
         "0.0043769017819061",
         "0.0113253435053285",
         "0.0521973792013908",
         "0.0086199343790432",
         "-0.0019769863963017",
         "0.0093156654961577",
         "0.0368540511347172",
         "0.0079613528863285",
         "-0.0008210896780343",
         "0.0063713138145458",
         "0.0299815769517118",
         "0.0054730930462938",
         "-0.0003557134733814",
         "0.0048657367690093",
         "0.0264242023016632",
         "0.0041676248338053",
         "0.0005299341779857",
         "0.0483153554085547",
         "0.0599377612511458",
         "0.0447231010149884",
         "0.0002574902863323",
         "0.0003386496452653",
         "0.0095454003639376",
         "0.000247601278405",
         "0.0008803826298073",
         "0.0004760732163928",
         "0.0132172124105614",
         "0.0003021535860618",
         "0.0009164114155974",
         "0.0004957772707109",
         "0.0142607777256586",
         "0.0002932472992529",
         "-0.0013351989338299",
         "0.0541785085735836",
         "0.057054631269066",
         "0.0509250603805275",
         "0.0008284686880658",
         "0.0004823181762814",
         "0.0149183882936743",
         "0.0002604462273677",
         "0.0009108314996824",
         "0.0005089085170984",
         "0.0155963134474916",
         "0.0002664931379668",
         "0.0034496617827439",
         "0.0659927676312099",
         "0.067039546118931",
         "0.0615103670537929",
         "0.0014037782014913",
         "0.0002947319804494",
         "0.013707309496665",
         "0.000108812240051",
         "0.0049952539841684",
         "0.0998055254852978",
         "0.0928030532810886",
         "0.0912180713493716",
         "0.0100022162190106",
         "0.2034336658856449",
         "0.1735606344050559",
         "0.1734104163998512",
         "2.791636703182048",
         "0.6258464583527352",
         "24.011952357803395",
         "-24.669192095246416",
         "17.425588489970167",
         "-43.41078287494452",
         "49.06280395537624",
         "-45.56803312952537",
         "34.89683550694684",
         "-39.665706099877625",
         "39.28148713114631",
         "-40.79755560562198",
         "41.25627486503728",
         "-44.96712012706205",
         "41.87661044337201",
         "-45.47103074628573",
         "42.30471147356848",
         "-40.020031298968654",
         "36.42220285214785",
         "-36.15956555529685",
         "34.66116585524081",
         "-34.90805290032044",
         "33.564835462835525",
         "-32.343108570626924",
         "28.696491161559702",
         "-26.70739806347475",
         "21.37385756924895",
         "-22.71303875546857",
         "20.29718301056863",
         "-20.60051555868253",
         "19.239400845997736",
         "-17.58182809960126",
         "13.98252650653933",
         "-12.519390433063784",
         "10.278369241242128",
         "-9.8694707637255",
         "7.108199737069296",
         "-7.470709973291331",
         "5.679309996384804",
         "-5.704690254151266",
         "3.334671788461776",
         "-3.2146606957512507",
         "1.5780650585341989",
         "-1.6653369215053762",
         "0.9576986099874888",
         "-1.2291102946866093",
         "0.3530965971020259",
         "-0.7521064062072422",
         "-0.1622336492453069",
         "-0.4311296745963361",
         "-0.1576103150309067",
         "-0.2862865513107632",
         "-0.1371189572603877",
         "-0.2949516852390224",
         "-0.1684951101897907",
         "-0.2198179201821007",
         "-0.219298126753123",
         "-0.1881593348862657",
         "-0.2143862485130758",
         "-0.2592083211822586",
         "-0.3207597107970081",
         "-0.1614241133361587",
         "-0.1674920552411991",
         "-0.1649926576942334",
         "-0.1907163336629064",
         "-0.1483391577539985",
         "-0.1761729098978888",
         "-0.1637075784054542",
         "-0.1684873704323074",
         "-0.1635825269668815",
         "-0.1642176876666154",
         "-0.1515873472325898",
         "-0.1618665869493644",
         "-0.1483483488889125",
         "-0.1537933051543524",
         "-0.1485560010111413",
         "-0.1496482810409488",
         "-0.1444083109673354",
         "-0.1459445819431432",
         "-0.1424507774254269",
         "-0.1430389756198841",
         "-0.1404829662628715",
         "-0.1395381466545047",
         "-0.1383237774963782",
         "-0.1368448698061449",
         "-0.1356681251010236",
         "-0.1349058845072019",
         "-0.1333382241442558",
         "-0.1324815077565518",
         "-0.1313754183868325",
         "-0.1304034970972185",
         "-0.1296454142824597",
         "-0.1286233045474548",
         "-0.1278068652221863",
         "-0.1269156333199706",
         "-0.12623408549603",
         "-0.1253896313076751",
         "-0.1246806129868147",
         "-0.1238991987140572",
         "-0.1232133194837329",
         "0.0",
         "-10.767765840867163",
         "22.090547801904734",
         "3.3832588532747963",
         "-28.267345582620106",
         "7.662386596179776",
         "-13.45423525830318",
         "6.432618578933045",
         "-1.3145254864290892",
         "5.228670168325619",
         "-11.839820189776416",
         "9.156484522046544",
         "-5.249985059308471",
         "7.078993592487335",
         "-7.80593839267046",
         "2.4827407332133187",
         "0.9456718938778604",
         "1.3954914139942165",
         "1.8518604661757423",
         "0.3468910541269183",
         "-0.654817177683968",
         "3.3143574431833884",
         "0.3100051702157058",
         "0.5623846183665513",
         "0.4734955090399888",
         "0.4621471795065677",
         "-0.745815178674869",
         "2.0043960680017703",
         "-3.663921434328403",
         "4.564667792456824",
         "-2.56036804144558",
         "3.3127173553249527",
         "-4.203245460230111",
         "4.170147641295804",
         "-4.378179466941407",
         "5.5064880953601705",
         "-4.602577066813552",
         "5.173572424104248",
         "-4.151581294713072",
         "3.7015287124293694",
         "-3.4538296778449045",
         "2.967977747203393",
         "-2.52079218539217",
         "2.6530200842351053",
         "-1.8778731000278883",
         "2.297265711387354",
         "-1.3770681856507436",
         "1.385172954125489",
         "-0.9531606222063542",
         "0.9782464100077006",
         "-0.6213709476197924",
         "0.8458846556544082",
         "-0.3497766143523541",
         "0.5328587572544533",
         "-0.0992196497770271",
         "0.390275622798384",
         "-0.0053257623709864",
         "0.2486538100201301",
         "0.0945269734995175",
         "0.2082344833565448",
         "0.2149525771182371",
         "0.1108751083447886",
         "0.1230323232093994",
         "0.1272014510592466",
         "0.1244636269131417",
         "0.126369528852056",
         "0.118423985967707",
         "0.1120019955781816",
         "0.1235678557398844",
         "0.1114154651321753",
         "0.1176149806313344",
         "0.1080511862303188",
         "0.1129836795172559",
         "0.1068913222702672",
         "0.1085731785516431",
         "0.1010844489692028",
         "0.1023109358924216",
         "0.0992880647032961",
         "0.1000291628643442",
         "0.0953095499460965",
         "0.0947594322210359",
         "0.0929467069058433",
         "0.0917853636106438",
         "0.0895296162413413",
         "0.0890681110889685",
         "0.0866868522339303",
         "0.0854468389265078",
         "0.0838756470638478",
         "0.0829172298904646",
         "0.0810354014278022",
         "0.0800036314044734",
         "0.0782970847227028",
         "0.0772627507342975",
         "0.0756662030102205",
         "0.074627461907001",
         "0.0731258294395474",
         "0.0719927866124587",
         "0.0706583311800184",
         "0.0695511239350277",
         "0.068279616687808",
         "2.791636703182048",
         "10.785938299154989",
         "32.62769005341411",
         "24.90011002185393",
         "33.206836050865384",
         "44.081835694137006",
         "50.87411108166364",
         "46.01982426167614",
         "34.92158509651842",
         "40.00883942494467",
         "41.027022477394695",
         "41.812459293807336",
         "41.58897160140497",
         "45.52091873857673",
         "42.5979245552656",
         "45.5387597402259",
         "42.31527984301589",
         "40.04435417704926",
         "36.46925071603736",
         "36.16122943915546",
         "34.66735069169119",
         "35.0650413168551",
         "33.56626703779826",
         "32.347997595992496",
         "28.700397261755025",
         "26.7113962820445",
         "21.38686577484608",
         "22.80130989888165",
         "20.6252262640061",
         "21.10017614473903",
         "19.409019280237583",
         "17.89119268244014",
         "14.600627380527865",
         "13.19565338153795",
         "11.171988619044493",
         "11.301675287335753",
         "8.468188658622932",
         "9.087208544568924",
         "7.034926387791689",
         "6.800353351462515",
         "4.800934844415731",
         "4.375264025942029",
         "2.9740011047242025",
         "3.132389284473411",
         "2.1079833982696163",
         "2.605406276422288",
         "1.4216166835038415",
         "1.57618785653827",
         "0.9668686201714553",
         "1.0690364049042",
         "0.6410482555549624",
         "0.8930178274441037",
         "0.3756930773756304",
         "0.6090442937981603",
         "0.1955380808429541",
         "0.447922961885022",
         "0.2193627865939458",
         "0.3118215075044839",
         "0.2343006877294405",
         "0.3324914342188264",
         "0.3861235585668815",
         "0.1958342003247483",
         "0.2078233411415163",
         "0.2083333536536683",
         "0.227736502015366",
         "0.194868580190487",
         "0.212276081164057",
         "0.1983547787195281",
         "0.2089425973020975",
         "0.1979208149727802",
         "0.2019919122427411",
         "0.186155264998852",
         "0.1973983379056018",
         "0.1828468960489968",
         "0.1882565159857867",
         "0.1796857013226973",
         "0.1812791648858026",
         "0.1752480529676851",
         "0.1769340397489989",
         "0.1713946740713841",
         "0.1715794234202893",
         "0.1684474818293697",
         "0.1670193023123739",
         "0.1647695955120039",
         "0.1632778209225539",
         "0.1609982935271497",
         "0.1596895737272884",
         "0.1575252557157835",
         "0.1562901689491615",
         "0.1543574968729421",
         "0.15298906200473",
         "0.1514541743252549",
         "0.1500449503440137",
         "0.1485259878805928",
         "0.1472305540697654",
         "0.1458849933071966",
         "0.1445874163393956",
         "0.1433103451252317",
         "0.1420857849420941",
         "0.1408674133830618",
         "0.0",
         "-86.6735844697332",
         "42.61347653115482",
         "172.1908813227396",
         "-58.34797444399923",
         "169.98989516469118",
         "-15.334947612953307",
         "171.9649248096791",
         "-2.157249164894612",
         "172.49065627621923",
         "-16.77331482280024",
         "167.3503186573076",
         "-7.252082766485883",
         "171.05357897270898",
         "-10.558941036601375",
         "176.87472538374416",
         "1.2805662579867565",
         "178.0029154600579",
         "2.910655895474376",
         "179.45035889244264",
         "-1.0823005276087978",
         "174.57629049309296",
         "0.529169370443195",
         "179.00383668451855",
         "0.9453013790745652",
         "179.00864770049566",
         "-1.9984568230798645",
         "174.95678695334576",
         "-10.232485313286974",
         "167.50624734617304",
         "-7.580348074046759",
         "169.3295908691078",
         "-16.731146247802073",
         "161.5773367068602",
         "-23.07208977325208",
         "150.84147810796676",
         "-32.92315766354856",
         "145.29685043725843",
         "-36.16684111707393",
         "147.02219091468876",
         "-46.00560383658054",
         "137.28484957456834",
         "-57.95263123060761",
         "122.11705322618648",
         "-62.97882206842563",
         "118.14819941673969",
         "-75.61851989014505",
         "118.50060236212678",
         "-99.65951588740052",
         "113.7838959017831",
         "-104.232864762721",
         "108.69820061751066",
         "-111.40610581749668",
         "118.96571015074278",
         "-149.507966768891",
         "119.38984869298471",
         "-178.6088174005113",
         "127.115231978156",
         "156.20640544740007",
         "141.22341579546557",
         "146.1725435555864",
         "145.51654328033007",
         "143.70062724437017",
         "142.36949477806067",
         "146.87108096207186",
         "139.57245687324047",
         "146.09088120537317",
         "145.62167037546934",
         "143.74385128052063",
         "145.74136481851252",
         "144.38923755951552",
         "144.5187973781035",
         "145.0847683292083",
         "144.22563898822094",
         "144.77912532120817",
         "145.76679792576928",
         "145.64052149262704",
         "145.48949657987052",
         "145.57359545859586",
         "146.21470452222715",
         "146.4766094144841",
         "146.51047761096032",
         "146.6638920214352",
         "147.0871677919378",
         "146.94113646680913",
         "147.4229455336109",
         "147.65060279094752",
         "147.82828939033584",
         "147.95846588662437",
         "148.33275304340157",
         "148.47053761502994",
         "148.87085578518486",
         "149.0071772666728",
         "149.37296060625192",
         "149.54411304340908",
         "149.91682291212624",
         "150.13759867226827",
         "150.45913634787735",
         "150.6922155390224",
         "151.0066315285171",
         "18.28299363822483",
         "246.0995077354763",
         "4.391673381391501",
         "40.99304082359007",
         "0.0",
         "0.0",
         "0.0",
         "343.0",
         "219.0",
         "141.0",
         "0.200885094913561",
         "0.0791579486857583",
         "0.0498887102342905",
         "0.0549157312537343",
         "0.0611444540113646",
         "-0.0160525603934533",
         "0.0335768571777825",
         "0.0202033871191268",
         "0.0031415412587797",
         "2.60389093920061",
         "0.7310559482802514",
         "-0.0181774193324485",
         "0.0321700129318237",
         "-0.0001360193121676",
         "0.0003954167604055",
         "-0.0188511775859967",
         "-0.0217206734980563",
         "-0.0196055631166653",
         "-0.0007632394293201",
         "-0.0179227885793006",
         "-0.0011900175744921",
         "-0.0294365870247663",
         "0.0009328550481858",
         "-0.0882857639879177",
         "0.1915238730022229",
         "-0.1228353711104621",
         "-0.0847543876524668",
         "0.1535662875116163",
         "-0.0914215825718369",
         "0.0319222241049479",
         "0.0845259529999263",
         "0.3423171784950262",
         "-0.2261944899768961",
         "0.0306469454582111",
         "0.3890808410849156",
         "1.1219494580185192",
         "-0.5142507989677736",
         "0.0384528044290757",
         "0.6814713077470447",
         "-0.0008919579568564",
         "-0.0004803044376662",
         "-0.0006807796537245",
         "-1.640249917325811e-05",
         "-0.0022975344523473",
         "-4.56055724566356e-05",
         "-0.0013081370891704",
         "0.0001442865577738",
         "-0.0758793855125903",
         "0.0371891302748996",
         "-0.0095905715331762",
         "-0.0483130249986311",
         "0.0056543110872765",
         "0.0026423589892069",
         "0.0041494902090701",
         "0.0025686213019295",
         "0.0219809889313043",
         "0.0065724118538621",
         "0.0076179497440107",
         "0.0265260179431592",
         "0.3495089832046774",
         "0.0778040949993063",
         "0.0316332649906138",
         "0.2318787499574145",
         "-4.959410333889881",
         "2.6686043643965664e-05",
         "17.0",
         "10.0",
         "4.0",
         "2.0",
         "0.0032522483399986",
         "0.0017816038363207",
         "0.0024790597308336",
         "0.0167536361396315",
         "0.340625152364943",
         "0.6030359543027284",
         "0.0149661216979661",
         "0.0088671375941725",
         "0.0076572046200632",
         "0.000581881373342",
         "0.1277777777777777",
         "0.0611111111111111",
         "0.0388888888888888",
         "0.0222222222222222",
         "0.0222222222222222",
         "0.0222222222222222",
         "0.0166666666666666",
         "0.0111111111111111",
         "0.0055555555555555",
         "0.0",
         "0.3916666666666666",
         "0.6083333333333333",
         "0.0833333333333333",
         "0.0861111111111111",
         "0.1388888888888889",
         "0.1527777777777778",
         "0.35",
         "0.2530369754479396",
         "0.4175388856749994",
         "0.5253308383566139",
         "0.7433960341456191",
         "1.2321245086393997",
         "1.1548143260579418",
         "1.6297525643635264",
         "2.135749386070311",
         "2.6694662618636174",
         "3.21110482266012",
         "0.0",
         "4.832584991345361",
         "100",
         "N",
         "N",
         "0"
        ]
       ],
       "shape": {
        "columns": 787,
        "rows": 5
       }
      },
      "text/html": [
       "<div>\n",
       "<style scoped>\n",
       "    .dataframe tbody tr th:only-of-type {\n",
       "        vertical-align: middle;\n",
       "    }\n",
       "\n",
       "    .dataframe tbody tr th {\n",
       "        vertical-align: top;\n",
       "    }\n",
       "\n",
       "    .dataframe thead th {\n",
       "        text-align: right;\n",
       "    }\n",
       "</style>\n",
       "<table border=\"1\" class=\"dataframe\">\n",
       "  <thead>\n",
       "    <tr style=\"text-align: right;\">\n",
       "      <th></th>\n",
       "      <th>value__variance_larger_than_standard_deviation</th>\n",
       "      <th>value__has_duplicate_max</th>\n",
       "      <th>value__has_duplicate_min</th>\n",
       "      <th>value__has_duplicate</th>\n",
       "      <th>value__sum_values</th>\n",
       "      <th>value__abs_energy</th>\n",
       "      <th>value__mean_abs_change</th>\n",
       "      <th>value__mean_change</th>\n",
       "      <th>value__mean_second_derivative_central</th>\n",
       "      <th>value__median</th>\n",
       "      <th>...</th>\n",
       "      <th>value__permutation_entropy__dimension_4__tau_1</th>\n",
       "      <th>value__permutation_entropy__dimension_5__tau_1</th>\n",
       "      <th>value__permutation_entropy__dimension_6__tau_1</th>\n",
       "      <th>value__permutation_entropy__dimension_7__tau_1</th>\n",
       "      <th>value__query_similarity_count__query_None__threshold_0.0</th>\n",
       "      <th>value__mean_n_absolute_max__number_of_maxima_7</th>\n",
       "      <th>signal_name</th>\n",
       "      <th>target_original</th>\n",
       "      <th>target</th>\n",
       "      <th>target_encoded</th>\n",
       "    </tr>\n",
       "  </thead>\n",
       "  <tbody>\n",
       "    <tr>\n",
       "      <th>0</th>\n",
       "      <td>0.0</td>\n",
       "      <td>0.0</td>\n",
       "      <td>0.0</td>\n",
       "      <td>0.0</td>\n",
       "      <td>-43.996870</td>\n",
       "      <td>190.991799</td>\n",
       "      <td>0.091753</td>\n",
       "      <td>-0.001167</td>\n",
       "      <td>0.000102</td>\n",
       "      <td>-0.466220</td>\n",
       "      <td>...</td>\n",
       "      <td>1.697517</td>\n",
       "      <td>2.230373</td>\n",
       "      <td>2.794168</td>\n",
       "      <td>3.286209</td>\n",
       "      <td>0.0</td>\n",
       "      <td>4.249653</td>\n",
       "      <td>100</td>\n",
       "      <td>+</td>\n",
       "      <td>Q</td>\n",
       "      <td>4</td>\n",
       "    </tr>\n",
       "    <tr>\n",
       "      <th>1</th>\n",
       "      <td>0.0</td>\n",
       "      <td>0.0</td>\n",
       "      <td>0.0</td>\n",
       "      <td>0.0</td>\n",
       "      <td>-39.192408</td>\n",
       "      <td>191.688213</td>\n",
       "      <td>0.073103</td>\n",
       "      <td>-0.000604</td>\n",
       "      <td>-0.000006</td>\n",
       "      <td>-0.428019</td>\n",
       "      <td>...</td>\n",
       "      <td>1.659906</td>\n",
       "      <td>2.171393</td>\n",
       "      <td>2.712120</td>\n",
       "      <td>3.211305</td>\n",
       "      <td>0.0</td>\n",
       "      <td>4.249653</td>\n",
       "      <td>100</td>\n",
       "      <td>N</td>\n",
       "      <td>N</td>\n",
       "      <td>0</td>\n",
       "    </tr>\n",
       "    <tr>\n",
       "      <th>2</th>\n",
       "      <td>0.0</td>\n",
       "      <td>0.0</td>\n",
       "      <td>0.0</td>\n",
       "      <td>0.0</td>\n",
       "      <td>12.218372</td>\n",
       "      <td>296.054579</td>\n",
       "      <td>0.061237</td>\n",
       "      <td>0.000793</td>\n",
       "      <td>-0.000043</td>\n",
       "      <td>-0.025884</td>\n",
       "      <td>...</td>\n",
       "      <td>1.659038</td>\n",
       "      <td>2.166456</td>\n",
       "      <td>2.681342</td>\n",
       "      <td>3.181041</td>\n",
       "      <td>0.0</td>\n",
       "      <td>5.709516</td>\n",
       "      <td>100</td>\n",
       "      <td>N</td>\n",
       "      <td>N</td>\n",
       "      <td>0</td>\n",
       "    </tr>\n",
       "    <tr>\n",
       "      <th>3</th>\n",
       "      <td>0.0</td>\n",
       "      <td>0.0</td>\n",
       "      <td>0.0</td>\n",
       "      <td>0.0</td>\n",
       "      <td>7.169075</td>\n",
       "      <td>240.717360</td>\n",
       "      <td>0.061860</td>\n",
       "      <td>0.000353</td>\n",
       "      <td>-0.000084</td>\n",
       "      <td>-0.033303</td>\n",
       "      <td>...</td>\n",
       "      <td>1.557158</td>\n",
       "      <td>2.032633</td>\n",
       "      <td>2.547036</td>\n",
       "      <td>3.025099</td>\n",
       "      <td>0.0</td>\n",
       "      <td>5.157989</td>\n",
       "      <td>100</td>\n",
       "      <td>N</td>\n",
       "      <td>N</td>\n",
       "      <td>0</td>\n",
       "    </tr>\n",
       "    <tr>\n",
       "      <th>4</th>\n",
       "      <td>0.0</td>\n",
       "      <td>0.0</td>\n",
       "      <td>0.0</td>\n",
       "      <td>0.0</td>\n",
       "      <td>2.791637</td>\n",
       "      <td>217.722236</td>\n",
       "      <td>0.059938</td>\n",
       "      <td>0.000530</td>\n",
       "      <td>-0.000139</td>\n",
       "      <td>-0.088944</td>\n",
       "      <td>...</td>\n",
       "      <td>1.629753</td>\n",
       "      <td>2.135749</td>\n",
       "      <td>2.669466</td>\n",
       "      <td>3.211105</td>\n",
       "      <td>0.0</td>\n",
       "      <td>4.832585</td>\n",
       "      <td>100</td>\n",
       "      <td>N</td>\n",
       "      <td>N</td>\n",
       "      <td>0</td>\n",
       "    </tr>\n",
       "  </tbody>\n",
       "</table>\n",
       "<p>5 rows × 787 columns</p>\n",
       "</div>"
      ],
      "text/plain": [
       "   value__variance_larger_than_standard_deviation  value__has_duplicate_max  \\\n",
       "0                                             0.0                       0.0   \n",
       "1                                             0.0                       0.0   \n",
       "2                                             0.0                       0.0   \n",
       "3                                             0.0                       0.0   \n",
       "4                                             0.0                       0.0   \n",
       "\n",
       "   value__has_duplicate_min  value__has_duplicate  value__sum_values  \\\n",
       "0                       0.0                   0.0         -43.996870   \n",
       "1                       0.0                   0.0         -39.192408   \n",
       "2                       0.0                   0.0          12.218372   \n",
       "3                       0.0                   0.0           7.169075   \n",
       "4                       0.0                   0.0           2.791637   \n",
       "\n",
       "   value__abs_energy  value__mean_abs_change  value__mean_change  \\\n",
       "0         190.991799                0.091753           -0.001167   \n",
       "1         191.688213                0.073103           -0.000604   \n",
       "2         296.054579                0.061237            0.000793   \n",
       "3         240.717360                0.061860            0.000353   \n",
       "4         217.722236                0.059938            0.000530   \n",
       "\n",
       "   value__mean_second_derivative_central  value__median  ...  \\\n",
       "0                               0.000102      -0.466220  ...   \n",
       "1                              -0.000006      -0.428019  ...   \n",
       "2                              -0.000043      -0.025884  ...   \n",
       "3                              -0.000084      -0.033303  ...   \n",
       "4                              -0.000139      -0.088944  ...   \n",
       "\n",
       "   value__permutation_entropy__dimension_4__tau_1  \\\n",
       "0                                        1.697517   \n",
       "1                                        1.659906   \n",
       "2                                        1.659038   \n",
       "3                                        1.557158   \n",
       "4                                        1.629753   \n",
       "\n",
       "   value__permutation_entropy__dimension_5__tau_1  \\\n",
       "0                                        2.230373   \n",
       "1                                        2.171393   \n",
       "2                                        2.166456   \n",
       "3                                        2.032633   \n",
       "4                                        2.135749   \n",
       "\n",
       "   value__permutation_entropy__dimension_6__tau_1  \\\n",
       "0                                        2.794168   \n",
       "1                                        2.712120   \n",
       "2                                        2.681342   \n",
       "3                                        2.547036   \n",
       "4                                        2.669466   \n",
       "\n",
       "   value__permutation_entropy__dimension_7__tau_1  \\\n",
       "0                                        3.286209   \n",
       "1                                        3.211305   \n",
       "2                                        3.181041   \n",
       "3                                        3.025099   \n",
       "4                                        3.211105   \n",
       "\n",
       "   value__query_similarity_count__query_None__threshold_0.0  \\\n",
       "0                                                0.0          \n",
       "1                                                0.0          \n",
       "2                                                0.0          \n",
       "3                                                0.0          \n",
       "4                                                0.0          \n",
       "\n",
       "   value__mean_n_absolute_max__number_of_maxima_7  signal_name  \\\n",
       "0                                        4.249653          100   \n",
       "1                                        4.249653          100   \n",
       "2                                        5.709516          100   \n",
       "3                                        5.157989          100   \n",
       "4                                        4.832585          100   \n",
       "\n",
       "   target_original  target  target_encoded  \n",
       "0                +       Q               4  \n",
       "1                N       N               0  \n",
       "2                N       N               0  \n",
       "3                N       N               0  \n",
       "4                N       N               0  \n",
       "\n",
       "[5 rows x 787 columns]"
      ]
     },
     "execution_count": 6,
     "metadata": {},
     "output_type": "execute_result"
    }
   ],
   "source": [
    "feature_df = feature_df.iloc[:,2:]\n",
    "feature_df.head()"
   ]
  },
  {
   "cell_type": "code",
   "execution_count": 26,
   "metadata": {},
   "outputs": [
    {
     "data": {
      "text/plain": [
       "target\n",
       "N    90125\n",
       "V     7009\n",
       "Q     3006\n",
       "S     2781\n",
       "F      803\n",
       "Name: count, dtype: int64"
      ]
     },
     "execution_count": 26,
     "metadata": {},
     "output_type": "execute_result"
    }
   ],
   "source": [
    "feature_df.target.value_counts()"
   ]
  },
  {
   "cell_type": "code",
   "execution_count": 27,
   "metadata": {},
   "outputs": [
    {
     "data": {
      "text/plain": [
       "103724"
      ]
     },
     "execution_count": 27,
     "metadata": {},
     "output_type": "execute_result"
    }
   ],
   "source": [
    "90125 + 7009 + 3006 + 2781 + 803"
   ]
  },
  {
   "cell_type": "code",
   "execution_count": null,
   "metadata": {},
   "outputs": [],
   "source": [
    "X_train, X_test, y_train, y_test = train_test_split(np.array(feature_df.iloc[:, :-4]), np.array(feature_df.iloc[:,-1]), test_size=0.2, random_state=42, stratify=np.array(feature_df.iloc[:,-1]))"
   ]
  },
  {
   "cell_type": "code",
   "execution_count": null,
   "metadata": {},
   "outputs": [],
   "source": [
    "f"
   ]
  },
  {
   "cell_type": "code",
   "execution_count": null,
   "metadata": {},
   "outputs": [],
   "source": [
    "selected_feature_df = select_features(pd.DataFrame(X_train, columns=feature_df.iloc[:,:-4].columns.values), pd.Series(y_train))\n",
    "\n",
    "scaler = StandardScaler()\n",
    "X_train_scaled = scaler.fit_transform(selected_feature_df)\n",
    "ridge = RidgeClassifier(alpha=0.5)\n",
    "\n",
    "\n",
    "ridge.fit(X_train_scaled, y_train)\n",
    "\n",
    "coeff = np.abs(ridge.coef_)\n",
    "meanC = np.mean(coeff, axis=0)\n",
    "thresh = np.percentile(meanC, 90)\n",
    "selected = selected_feature_df.columns[meanC > thresh]\n",
    "\n",
    "X_train_reduced = np.array(selected_feature_df[selected])\n",
    "\n",
    "X_test_reduced = pd.DataFrame(X_test, columns=feature_df.iloc[:,:-4].columns.values)\n",
    "X_test_reduced = np.array(X_test_reduced[selected])"
   ]
  },
  {
   "cell_type": "code",
   "execution_count": null,
   "metadata": {},
   "outputs": [],
   "source": [
    "from sklearn.metrics import confusion_matrix, classification_report\n",
    "import numpy as np\n",
    "import seaborn as sns\n",
    "import matplotlib.pyplot as plt\n",
    "\n",
    "def confusion_matrix_plot(y_true, y_pred):\n",
    "    class_labels = ['N', 'S', 'V', 'F', 'Q']\n",
    "    label_mapping = {0: 'N', 1: 'S', 2: 'V', 3: 'F', 4: 'Q'}\n",
    "\n",
    "    # Ensure correct mapping from numbers to labels\n",
    "    if isinstance(y_true[0], int) or isinstance(y_true[0], np.integer):\n",
    "        y_true_labels = [label_mapping[label] for label in y_true]\n",
    "        y_pred_labels = [label_mapping[label] for label in y_pred]\n",
    "    else:\n",
    "        y_true_labels = y_true\n",
    "        y_pred_labels = y_pred\n",
    "\n",
    "    # Compute confusion matrix\n",
    "    cm = confusion_matrix(y_true_labels, y_pred_labels, labels=class_labels)\n",
    "\n",
    "    # Compute classification report (handling missing classes)\n",
    "    report = classification_report(y_true_labels, y_pred_labels, target_names=class_labels, labels=class_labels, zero_division=0)\n",
    "    print(\"\\nClassification Report:\\n\", report)\n",
    "\n",
    "    # Plot heatmap\n",
    "    plt.figure(figsize=(6, 5))\n",
    "    sns.heatmap(cm, annot=True, fmt='d', cmap='Blues', xticklabels=class_labels, yticklabels=class_labels)\n",
    "    plt.xlabel('Predicted Label')\n",
    "    plt.ylabel('Actual Label')\n",
    "    plt.title('Confusion Matrix')\n",
    "    "
   ]
  },
  {
   "cell_type": "code",
   "execution_count": 10,
   "metadata": {},
   "outputs": [],
   "source": [
    "xt = selected_feature_df[selected].copy()\n",
    "xt.loc[:,'target'] = y_train\n",
    "xt.to_csv('X_train_reduced.csv')\n",
    "a = pd.DataFrame(X_test, columns=feature_df.iloc[:,:-4].columns.values)\n",
    "a = a[selected]\n",
    "a.loc[:,'target'] = y_test\n",
    "a.to_csv('X_test_reduced.csv')\n"
   ]
  },
  {
   "cell_type": "code",
   "execution_count": null,
   "metadata": {},
   "outputs": [],
   "source": [
    "\n",
    "def stratified_kfold_cv(X, y, model, n_splits=10):\n",
    "\n",
    "    # Initialize StratifiedKFold for cross-validation\n",
    "    skf = StratifiedKFold(n_splits=n_splits, shuffle=True, random_state=42)\n",
    "\n",
    "    # Initialize lists to store scores for each fold\n",
    "    f1_scores = []\n",
    "    precision_scores = []\n",
    "    recall_scores = []\n",
    "    accuracy_scores = []\n",
    "    scaler = StandardScaler()\n",
    "    \n",
    "    # Perform Stratified K-Fold Cross Validation\n",
    "    for train_idx, val_idx in skf.split(X, y):\n",
    "        # Get the training and validation sets for each fold\n",
    "        X_train_fold, X_val_fold = X[train_idx], X[val_idx]\n",
    "        y_train_fold, y_val_fold = y[train_idx], y[val_idx]\n",
    "        X_train_fold = scaler.fit_transform(X_train_fold)\n",
    "        X_val_fold = scaler.transform(X_val_fold)\n",
    "        # Train the model\n",
    "        model.fit(X_train_fold, y_train_fold)\n",
    "        \n",
    "        # Predict on the validation fold\n",
    "        y_val_pred = model.predict(X_val_fold)\n",
    "        \n",
    "        # Calculate Precision, Recall, F1 Score, and Accuracy for the current fold\n",
    "        precision = precision_score(y_val_fold, y_val_pred, average='weighted')\n",
    "        recall = recall_score(y_val_fold, y_val_pred, average='weighted')\n",
    "        f1 = f1_score(y_val_fold, y_val_pred, average='weighted')\n",
    "        accuracy = accuracy_score(y_val_fold, y_val_pred)\n",
    "        \n",
    "        # Append the scores for the fold\n",
    "        precision_scores.append(precision)\n",
    "        recall_scores.append(recall)\n",
    "        f1_scores.append(f1)\n",
    "        accuracy_scores.append(accuracy)\n",
    "        \n",
    "        print(f\"Fold Accuracy: {accuracy:.4f}, Precision: {precision:.4f}, Recall: {recall:.4f}, F1 Score: {f1:.4f}\")\n",
    "\n",
    "    # Calculate and print the average scores across all folds\n",
    "    avg_precision = np.mean(precision_scores)\n",
    "    avg_recall = np.mean(recall_scores)\n",
    "    avg_f1 = np.mean(f1_scores)\n",
    "    avg_accuracy = np.mean(accuracy_scores)\n",
    "\n",
    "    print(\"\\nAverage Scores across all folds:\")\n",
    "    print(f\"Average Accuracy: {avg_accuracy:.4f}\")\n",
    "    print(f\"Average Precision: {avg_precision:.4f}\")\n",
    "    print(f\"Average Recall: {avg_recall:.4f}\")\n",
    "    print(f\"Average F1 Score: {avg_f1:.4f}\")"
   ]
  },
  {
   "cell_type": "code",
   "execution_count": 13,
   "metadata": {},
   "outputs": [
    {
     "name": "stdout",
     "output_type": "stream",
     "text": [
      "Fold Accuracy: 0.7613, Precision: 0.8748, Recall: 0.7613, F1 Score: 0.8083\n",
      "Fold Accuracy: 0.7564, Precision: 0.8723, Recall: 0.7564, F1 Score: 0.8042\n",
      "Fold Accuracy: 0.7736, Precision: 0.8735, Recall: 0.7736, F1 Score: 0.8150\n",
      "Fold Accuracy: 0.7680, Precision: 0.8809, Recall: 0.7680, F1 Score: 0.8145\n",
      "Fold Accuracy: 0.7671, Precision: 0.8769, Recall: 0.7671, F1 Score: 0.8125\n",
      "Fold Accuracy: 0.7563, Precision: 0.8731, Recall: 0.7563, F1 Score: 0.8048\n",
      "Fold Accuracy: 0.7646, Precision: 0.8753, Recall: 0.7646, F1 Score: 0.8099\n",
      "Fold Accuracy: 0.7656, Precision: 0.8743, Recall: 0.7656, F1 Score: 0.8105\n",
      "Fold Accuracy: 0.7730, Precision: 0.8784, Recall: 0.7730, F1 Score: 0.8169\n",
      "Fold Accuracy: 0.7728, Precision: 0.8774, Recall: 0.7728, F1 Score: 0.8164\n",
      "\n",
      "Average Scores across all folds:\n",
      "Average Accuracy: 0.7659\n",
      "Average Precision: 0.8757\n",
      "Average Recall: 0.7659\n",
      "Average F1 Score: 0.8113\n"
     ]
    }
   ],
   "source": [
    "model_nb = GaussianNB()\n",
    "stratified_kfold_cv(X_train_reduced, y_train, model_nb, n_splits=10)"
   ]
  },
  {
   "cell_type": "code",
   "execution_count": 14,
   "metadata": {},
   "outputs": [
    {
     "name": "stdout",
     "output_type": "stream",
     "text": [
      "Fold Accuracy: 0.9640, Precision: 0.9627, Recall: 0.9640, F1 Score: 0.9610\n",
      "Fold Accuracy: 0.9676, Precision: 0.9666, Recall: 0.9676, F1 Score: 0.9656\n",
      "Fold Accuracy: 0.9649, Precision: 0.9635, Recall: 0.9649, F1 Score: 0.9617\n",
      "Fold Accuracy: 0.9716, Precision: 0.9707, Recall: 0.9716, F1 Score: 0.9699\n",
      "Fold Accuracy: 0.9658, Precision: 0.9649, Recall: 0.9658, F1 Score: 0.9633\n",
      "Fold Accuracy: 0.9666, Precision: 0.9657, Recall: 0.9666, F1 Score: 0.9642\n",
      "Fold Accuracy: 0.9659, Precision: 0.9646, Recall: 0.9659, F1 Score: 0.9635\n",
      "Fold Accuracy: 0.9657, Precision: 0.9642, Recall: 0.9657, F1 Score: 0.9628\n",
      "Fold Accuracy: 0.9651, Precision: 0.9632, Recall: 0.9651, F1 Score: 0.9619\n",
      "Fold Accuracy: 0.9665, Precision: 0.9655, Recall: 0.9665, F1 Score: 0.9636\n",
      "\n",
      "Average Scores across all folds:\n",
      "Average Accuracy: 0.9664\n",
      "Average Precision: 0.9652\n",
      "Average Recall: 0.9664\n",
      "Average F1 Score: 0.9637\n"
     ]
    }
   ],
   "source": [
    "model_knn = KNeighborsClassifier(n_neighbors=5, n_jobs=-1)\n",
    "stratified_kfold_cv(X_train_reduced, y_train, model_knn, n_splits=10)"
   ]
  },
  {
   "cell_type": "code",
   "execution_count": 15,
   "metadata": {},
   "outputs": [
    {
     "name": "stdout",
     "output_type": "stream",
     "text": [
      "Fold Accuracy: 0.9500, Precision: 0.9475, Recall: 0.9500, F1 Score: 0.9417\n",
      "Fold Accuracy: 0.9522, Precision: 0.9520, Recall: 0.9522, F1 Score: 0.9454\n",
      "Fold Accuracy: 0.9528, Precision: 0.9510, Recall: 0.9528, F1 Score: 0.9451\n",
      "Fold Accuracy: 0.9544, Precision: 0.9548, Recall: 0.9544, F1 Score: 0.9478\n",
      "Fold Accuracy: 0.9567, Precision: 0.9570, Recall: 0.9567, F1 Score: 0.9509\n",
      "Fold Accuracy: 0.9526, Precision: 0.9521, Recall: 0.9526, F1 Score: 0.9457\n",
      "Fold Accuracy: 0.9561, Precision: 0.9562, Recall: 0.9561, F1 Score: 0.9506\n",
      "Fold Accuracy: 0.9523, Precision: 0.9527, Recall: 0.9523, F1 Score: 0.9445\n",
      "Fold Accuracy: 0.9546, Precision: 0.9542, Recall: 0.9546, F1 Score: 0.9470\n",
      "Fold Accuracy: 0.9538, Precision: 0.9542, Recall: 0.9538, F1 Score: 0.9471\n",
      "\n",
      "Average Scores across all folds:\n",
      "Average Accuracy: 0.9536\n",
      "Average Precision: 0.9532\n",
      "Average Recall: 0.9536\n",
      "Average F1 Score: 0.9466\n"
     ]
    }
   ],
   "source": [
    "model_rf = RandomForestClassifier(n_estimators = 500, max_depth = 10, n_jobs=-1, random_state=42)\n",
    "stratified_kfold_cv(X_train_reduced, y_train, model_rf, n_splits=10)"
   ]
  },
  {
   "cell_type": "code",
   "execution_count": 16,
   "metadata": {},
   "outputs": [
    {
     "name": "stdout",
     "output_type": "stream",
     "text": [
      "Fold Accuracy: 0.9654, Precision: 0.9640, Recall: 0.9654, F1 Score: 0.9619\n",
      "Fold Accuracy: 0.9672, Precision: 0.9662, Recall: 0.9672, F1 Score: 0.9647\n",
      "Fold Accuracy: 0.9652, Precision: 0.9635, Recall: 0.9652, F1 Score: 0.9616\n",
      "Fold Accuracy: 0.9699, Precision: 0.9692, Recall: 0.9699, F1 Score: 0.9677\n",
      "Fold Accuracy: 0.9681, Precision: 0.9669, Recall: 0.9681, F1 Score: 0.9655\n",
      "Fold Accuracy: 0.9676, Precision: 0.9668, Recall: 0.9676, F1 Score: 0.9648\n",
      "Fold Accuracy: 0.9683, Precision: 0.9672, Recall: 0.9683, F1 Score: 0.9660\n",
      "Fold Accuracy: 0.9666, Precision: 0.9660, Recall: 0.9666, F1 Score: 0.9633\n",
      "Fold Accuracy: 0.9690, Precision: 0.9681, Recall: 0.9690, F1 Score: 0.9662\n",
      "Fold Accuracy: 0.9705, Precision: 0.9700, Recall: 0.9705, F1 Score: 0.9682\n",
      "\n",
      "Average Scores across all folds:\n",
      "Average Accuracy: 0.9678\n",
      "Average Precision: 0.9668\n",
      "Average Recall: 0.9678\n",
      "Average F1 Score: 0.9650\n"
     ]
    }
   ],
   "source": [
    "model = SVC(kernel='rbf')\n",
    "stratified_kfold_cv(X_train_reduced, y_train, model, n_splits=10)"
   ]
  },
  {
   "cell_type": "code",
   "execution_count": 17,
   "metadata": {},
   "outputs": [
    {
     "name": "stdout",
     "output_type": "stream",
     "text": [
      "Fold Accuracy: 0.9446, Precision: 0.9407, Recall: 0.9446, F1 Score: 0.9363\n",
      "Fold Accuracy: 0.9416, Precision: 0.9370, Recall: 0.9416, F1 Score: 0.9329\n",
      "Fold Accuracy: 0.9413, Precision: 0.9382, Recall: 0.9413, F1 Score: 0.9324\n",
      "Fold Accuracy: 0.9460, Precision: 0.9429, Recall: 0.9460, F1 Score: 0.9389\n",
      "Fold Accuracy: 0.9471, Precision: 0.9429, Recall: 0.9471, F1 Score: 0.9396\n",
      "Fold Accuracy: 0.9455, Precision: 0.9423, Recall: 0.9455, F1 Score: 0.9380\n",
      "Fold Accuracy: 0.9470, Precision: 0.9440, Recall: 0.9470, F1 Score: 0.9403\n",
      "Fold Accuracy: 0.9441, Precision: 0.9403, Recall: 0.9441, F1 Score: 0.9352\n",
      "Fold Accuracy: 0.9488, Precision: 0.9450, Recall: 0.9488, F1 Score: 0.9418\n",
      "Fold Accuracy: 0.9472, Precision: 0.9442, Recall: 0.9472, F1 Score: 0.9393\n",
      "\n",
      "Average Scores across all folds:\n",
      "Average Accuracy: 0.9453\n",
      "Average Precision: 0.9417\n",
      "Average Recall: 0.9453\n",
      "Average F1 Score: 0.9375\n"
     ]
    }
   ],
   "source": [
    "model = SVC(kernel='linear')\n",
    "stratified_kfold_cv(X_train_reduced, y_train, model, n_splits=10)"
   ]
  },
  {
   "cell_type": "code",
   "execution_count": 18,
   "metadata": {},
   "outputs": [
    {
     "name": "stdout",
     "output_type": "stream",
     "text": [
      "Fold Accuracy: 0.9591, Precision: 0.9571, Recall: 0.9591, F1 Score: 0.9548\n",
      "Fold Accuracy: 0.9584, Precision: 0.9560, Recall: 0.9584, F1 Score: 0.9540\n",
      "Fold Accuracy: 0.9576, Precision: 0.9551, Recall: 0.9576, F1 Score: 0.9524\n",
      "Fold Accuracy: 0.9628, Precision: 0.9612, Recall: 0.9628, F1 Score: 0.9593\n",
      "Fold Accuracy: 0.9635, Precision: 0.9619, Recall: 0.9635, F1 Score: 0.9598\n",
      "Fold Accuracy: 0.9595, Precision: 0.9583, Recall: 0.9595, F1 Score: 0.9549\n",
      "Fold Accuracy: 0.9585, Precision: 0.9562, Recall: 0.9585, F1 Score: 0.9544\n",
      "Fold Accuracy: 0.9573, Precision: 0.9552, Recall: 0.9573, F1 Score: 0.9518\n",
      "Fold Accuracy: 0.9595, Precision: 0.9571, Recall: 0.9595, F1 Score: 0.9549\n",
      "Fold Accuracy: 0.9603, Precision: 0.9585, Recall: 0.9603, F1 Score: 0.9563\n",
      "\n",
      "Average Scores across all folds:\n",
      "Average Accuracy: 0.9597\n",
      "Average Precision: 0.9577\n",
      "Average Recall: 0.9597\n",
      "Average F1 Score: 0.9553\n"
     ]
    }
   ],
   "source": [
    "model = SVC(kernel='poly')\n",
    "stratified_kfold_cv(X_train_reduced, y_train, model, n_splits=10)"
   ]
  },
  {
   "cell_type": "code",
   "execution_count": 19,
   "metadata": {},
   "outputs": [
    {
     "name": "stdout",
     "output_type": "stream",
     "text": [
      "Fold Accuracy: 0.8157, Precision: 0.8110, Recall: 0.8157, F1 Score: 0.8131\n",
      "Fold Accuracy: 0.8188, Precision: 0.8106, Recall: 0.8188, F1 Score: 0.8145\n",
      "Fold Accuracy: 0.8262, Precision: 0.8126, Recall: 0.8262, F1 Score: 0.8192\n",
      "Fold Accuracy: 0.8429, Precision: 0.8117, Recall: 0.8429, F1 Score: 0.8260\n",
      "Fold Accuracy: 0.8410, Precision: 0.8094, Recall: 0.8410, F1 Score: 0.8239\n",
      "Fold Accuracy: 0.8351, Precision: 0.8081, Recall: 0.8351, F1 Score: 0.8206\n",
      "Fold Accuracy: 0.8361, Precision: 0.8102, Recall: 0.8361, F1 Score: 0.8224\n",
      "Fold Accuracy: 0.8244, Precision: 0.8107, Recall: 0.8244, F1 Score: 0.8173\n",
      "Fold Accuracy: 0.8397, Precision: 0.8137, Recall: 0.8397, F1 Score: 0.8259\n",
      "Fold Accuracy: 0.8428, Precision: 0.8126, Recall: 0.8428, F1 Score: 0.8264\n",
      "\n",
      "Average Scores across all folds:\n",
      "Average Accuracy: 0.8323\n",
      "Average Precision: 0.8111\n",
      "Average Recall: 0.8323\n",
      "Average F1 Score: 0.8209\n"
     ]
    }
   ],
   "source": [
    "model = SVC(kernel='sigmoid')\n",
    "stratified_kfold_cv(X_train_reduced, y_train, model, n_splits=10)"
   ]
  },
  {
   "cell_type": "code",
   "execution_count": 11,
   "metadata": {},
   "outputs": [],
   "source": [
    "import tensorflow as tf\n",
    "from tensorflow.keras.models import Sequential\n",
    "from tensorflow.keras.layers import Conv1D, MaxPooling1D, Input, LSTM, Dense, Flatten, Dropout, BatchNormalization"
   ]
  },
  {
   "cell_type": "code",
   "execution_count": 12,
   "metadata": {},
   "outputs": [],
   "source": [
    "def stratified_kfold_cv_nn(X, y, model, n_splits=10, batch_size=64, lstm=False):\n",
    "\n",
    "    # Initialize StratifiedKFold for cross-validation\n",
    "    skf = StratifiedKFold(n_splits=n_splits, shuffle=True, random_state=42)\n",
    "\n",
    "    # Initialize lists to store scores for each fold\n",
    "    f1_scores = []\n",
    "    precision_scores = []\n",
    "    recall_scores = []\n",
    "    accuracy_scores = []\n",
    "    scaler = StandardScaler()\n",
    "    \n",
    "    # Perform Stratified K-Fold Cross Validation\n",
    "    for train_idx, val_idx in skf.split(X, y):\n",
    "        # Get the training and validation sets for each fold\n",
    "        X_train_fold, X_val_fold = X[train_idx], X[val_idx]\n",
    "        y_train_fold, y_val_fold = y[train_idx], y[val_idx]\n",
    "        X_train_fold = scaler.fit_transform(X_train_fold)\n",
    "        X_val_fold = scaler.transform(X_val_fold)\n",
    "        \n",
    "        if lstm == True:\n",
    "            # Reshape to (samples, timesteps, features)\n",
    "            X_train_fold = X_train_fold.reshape(X_train_fold.shape[0], X_train_fold.shape[1], 1)\n",
    "            X_val_fold = X_val_fold.reshape(X_val_fold.shape[0], X_val_fold.shape[1], 1)\n",
    "        \n",
    "        # Train the model\n",
    "        \n",
    "        model.fit(\n",
    "            X_train_fold, y_train_fold,\n",
    "            epochs=20,\n",
    "            batch_size=batch_size,\n",
    "            validation_data=(X_val_fold, y_val_fold),\n",
    "            verbose=0\n",
    "        )\n",
    "        \n",
    "        # Predict on the validation fold\n",
    "        y_val_pred = np.argmax(model.predict(X_val_fold), axis=1)\n",
    "        \n",
    "        # Calculate Precision, Recall, F1 Score, and Accuracy for the current fold\n",
    "        precision = precision_score(y_val_fold, y_val_pred, average='weighted')\n",
    "        recall = recall_score(y_val_fold, y_val_pred, average='weighted')\n",
    "        f1 = f1_score(y_val_fold, y_val_pred, average='weighted')\n",
    "        accuracy = accuracy_score(y_val_fold, y_val_pred)\n",
    "        \n",
    "        # Append the scores for the fold\n",
    "        precision_scores.append(precision)\n",
    "        recall_scores.append(recall)\n",
    "        f1_scores.append(f1)\n",
    "        accuracy_scores.append(accuracy)\n",
    "        \n",
    "        print(f\"Fold Accuracy: {accuracy:.4f}, Precision: {precision:.4f}, Recall: {recall:.4f}, F1 Score: {f1:.4f}\")\n",
    "\n",
    "    # Calculate and print the average scores across all folds\n",
    "    avg_precision = np.mean(precision_scores)\n",
    "    avg_recall = np.mean(recall_scores)\n",
    "    avg_f1 = np.mean(f1_scores)\n",
    "    avg_accuracy = np.mean(accuracy_scores)\n",
    "\n",
    "    print(\"\\nAverage Scores across all folds:\")\n",
    "    print(f\"Average Accuracy: {avg_accuracy:.4f}\")\n",
    "    print(f\"Average Precision: {avg_precision:.4f}\")\n",
    "    print(f\"Average Recall: {avg_recall:.4f}\")\n",
    "    print(f\"Average F1 Score: {avg_f1:.4f}\")"
   ]
  },
  {
   "cell_type": "code",
   "execution_count": null,
   "metadata": {},
   "outputs": [
    {
     "name": "stdout",
     "output_type": "stream",
     "text": [
      "model_mlp batch_size: 64\n",
      "\u001b[1m260/260\u001b[0m \u001b[32m━━━━━━━━━━━━━━━━━━━━\u001b[0m\u001b[37m\u001b[0m \u001b[1m1s\u001b[0m 2ms/step\n",
      "Fold Accuracy: 0.9742, Precision: 0.9734, Recall: 0.9742, F1 Score: 0.9729\n",
      "\u001b[1m260/260\u001b[0m \u001b[32m━━━━━━━━━━━━━━━━━━━━\u001b[0m\u001b[37m\u001b[0m \u001b[1m1s\u001b[0m 2ms/step\n",
      "Fold Accuracy: 0.9784, Precision: 0.9778, Recall: 0.9784, F1 Score: 0.9778\n",
      "\u001b[1m260/260\u001b[0m \u001b[32m━━━━━━━━━━━━━━━━━━━━\u001b[0m\u001b[37m\u001b[0m \u001b[1m0s\u001b[0m 2ms/step\n",
      "Fold Accuracy: 0.9798, Precision: 0.9791, Recall: 0.9798, F1 Score: 0.9787\n",
      "\u001b[1m260/260\u001b[0m \u001b[32m━━━━━━━━━━━━━━━━━━━━\u001b[0m\u001b[37m\u001b[0m \u001b[1m0s\u001b[0m 1ms/step\n",
      "Fold Accuracy: 0.9861, Precision: 0.9859, Recall: 0.9861, F1 Score: 0.9859\n",
      "\u001b[1m260/260\u001b[0m \u001b[32m━━━━━━━━━━━━━━━━━━━━\u001b[0m\u001b[37m\u001b[0m \u001b[1m0s\u001b[0m 1ms/step\n",
      "Fold Accuracy: 0.9857, Precision: 0.9854, Recall: 0.9857, F1 Score: 0.9852\n",
      "\u001b[1m260/260\u001b[0m \u001b[32m━━━━━━━━━━━━━━━━━━━━\u001b[0m\u001b[37m\u001b[0m \u001b[1m0s\u001b[0m 1ms/step\n",
      "Fold Accuracy: 0.9857, Precision: 0.9855, Recall: 0.9857, F1 Score: 0.9855\n",
      "\u001b[1m260/260\u001b[0m \u001b[32m━━━━━━━━━━━━━━━━━━━━\u001b[0m\u001b[37m\u001b[0m \u001b[1m1s\u001b[0m 4ms/step\n",
      "Fold Accuracy: 0.9860, Precision: 0.9858, Recall: 0.9860, F1 Score: 0.9857\n",
      "\u001b[1m260/260\u001b[0m \u001b[32m━━━━━━━━━━━━━━━━━━━━\u001b[0m\u001b[37m\u001b[0m \u001b[1m1s\u001b[0m 3ms/step\n",
      "Fold Accuracy: 0.9882, Precision: 0.9880, Recall: 0.9882, F1 Score: 0.9879\n",
      "\u001b[1m260/260\u001b[0m \u001b[32m━━━━━━━━━━━━━━━━━━━━\u001b[0m\u001b[37m\u001b[0m \u001b[1m1s\u001b[0m 3ms/step\n",
      "Fold Accuracy: 0.9876, Precision: 0.9873, Recall: 0.9876, F1 Score: 0.9873\n",
      "\u001b[1m260/260\u001b[0m \u001b[32m━━━━━━━━━━━━━━━━━━━━\u001b[0m\u001b[37m\u001b[0m \u001b[1m1s\u001b[0m 3ms/step\n",
      "Fold Accuracy: 0.9892, Precision: 0.9890, Recall: 0.9892, F1 Score: 0.9889\n",
      "\n",
      "Average Scores across all folds:\n",
      "Average Accuracy: 0.9841\n",
      "Average Precision: 0.9837\n",
      "Average Recall: 0.9841\n",
      "Average F1 Score: 0.9836\n",
      "********************\n"
     ]
    }
   ],
   "source": [
    "model_mlp = Sequential([\n",
    "    Input(shape=(X_train_reduced.shape[1],)),\n",
    "    Dense(256, activation='relu'),\n",
    "\n",
    "    Dense(128, activation='relu'),\n",
    "\n",
    "    Dense(64, activation='relu'),\n",
    "    Dense(32, activation='relu'),\n",
    "    Dense(5, activation='softmax')\n",
    "])\n",
    "\n",
    "\n",
    "model_mlp.compile(loss='sparse_categorical_crossentropy', optimizer='adam', metrics=['accuracy'])\n",
    "\n",
    "batch_sizes = [64]\n",
    "for bs in batch_sizes:\n",
    "    print(f'model_mlp batch_size: {bs}')\n",
    "    stratified_kfold_cv_nn(X_train_reduced, y_train, model_mlp, n_splits=10, batch_size=bs, lstm=False)\n",
    "    print('*' * 20)"
   ]
  },
  {
   "cell_type": "code",
   "execution_count": 23,
   "metadata": {},
   "outputs": [
    {
     "name": "stdout",
     "output_type": "stream",
     "text": [
      "model_lstm batch_size: 64\n",
      "\u001b[1m260/260\u001b[0m \u001b[32m━━━━━━━━━━━━━━━━━━━━\u001b[0m\u001b[37m\u001b[0m \u001b[1m8s\u001b[0m 27ms/step\n",
      "Fold Accuracy: 0.9578, Precision: 0.9551, Recall: 0.9578, F1 Score: 0.9548\n",
      "\u001b[1m260/260\u001b[0m \u001b[32m━━━━━━━━━━━━━━━━━━━━\u001b[0m\u001b[37m\u001b[0m \u001b[1m6s\u001b[0m 23ms/step\n",
      "Fold Accuracy: 0.9695, Precision: 0.9691, Recall: 0.9695, F1 Score: 0.9690\n",
      "\u001b[1m260/260\u001b[0m \u001b[32m━━━━━━━━━━━━━━━━━━━━\u001b[0m\u001b[37m\u001b[0m \u001b[1m6s\u001b[0m 23ms/step\n",
      "Fold Accuracy: 0.9765, Precision: 0.9760, Recall: 0.9765, F1 Score: 0.9762\n",
      "\u001b[1m260/260\u001b[0m \u001b[32m━━━━━━━━━━━━━━━━━━━━\u001b[0m\u001b[37m\u001b[0m \u001b[1m6s\u001b[0m 23ms/step\n",
      "Fold Accuracy: 0.9849, Precision: 0.9850, Recall: 0.9849, F1 Score: 0.9849\n",
      "\u001b[1m260/260\u001b[0m \u001b[32m━━━━━━━━━━━━━━━━━━━━\u001b[0m\u001b[37m\u001b[0m \u001b[1m7s\u001b[0m 28ms/step\n",
      "Fold Accuracy: 0.9870, Precision: 0.9868, Recall: 0.9870, F1 Score: 0.9869\n",
      "\u001b[1m260/260\u001b[0m \u001b[32m━━━━━━━━━━━━━━━━━━━━\u001b[0m\u001b[37m\u001b[0m \u001b[1m7s\u001b[0m 28ms/step\n",
      "Fold Accuracy: 0.9887, Precision: 0.9887, Recall: 0.9887, F1 Score: 0.9886\n",
      "\u001b[1m260/260\u001b[0m \u001b[32m━━━━━━━━━━━━━━━━━━━━\u001b[0m\u001b[37m\u001b[0m \u001b[1m7s\u001b[0m 25ms/step\n",
      "Fold Accuracy: 0.9911, Precision: 0.9910, Recall: 0.9911, F1 Score: 0.9910\n",
      "\u001b[1m260/260\u001b[0m \u001b[32m━━━━━━━━━━━━━━━━━━━━\u001b[0m\u001b[37m\u001b[0m \u001b[1m6s\u001b[0m 23ms/step\n",
      "Fold Accuracy: 0.9914, Precision: 0.9913, Recall: 0.9914, F1 Score: 0.9913\n",
      "\u001b[1m260/260\u001b[0m \u001b[32m━━━━━━━━━━━━━━━━━━━━\u001b[0m\u001b[37m\u001b[0m \u001b[1m8s\u001b[0m 29ms/step\n",
      "Fold Accuracy: 0.9912, Precision: 0.9911, Recall: 0.9912, F1 Score: 0.9911\n",
      "\u001b[1m260/260\u001b[0m \u001b[32m━━━━━━━━━━━━━━━━━━━━\u001b[0m\u001b[37m\u001b[0m \u001b[1m8s\u001b[0m 29ms/step\n",
      "Fold Accuracy: 0.9893, Precision: 0.9892, Recall: 0.9893, F1 Score: 0.9890\n",
      "\n",
      "Average Scores across all folds:\n",
      "Average Accuracy: 0.9827\n",
      "Average Precision: 0.9823\n",
      "Average Recall: 0.9827\n",
      "Average F1 Score: 0.9823\n",
      "****************************************************************************************************\n"
     ]
    }
   ],
   "source": [
    "model_lstm = Sequential([\n",
    "    Input(shape=(X_train_reduced.shape[1], 1)),\n",
    "\n",
    "\n",
    "    LSTM(128, return_sequences=True),\n",
    "    LSTM(64, return_sequences=True),\n",
    "    LSTM(32),\n",
    "\n",
    "\n",
    "    Dense(128, activation='relu'),\n",
    "    Dropout(0.3),\n",
    "    Dense(5, activation='softmax')\n",
    "])\n",
    "\n",
    "model_lstm.compile(loss='sparse_categorical_crossentropy', optimizer='adam', metrics=['accuracy'])\n",
    "\n",
    "\n",
    "for bs in batch_sizes:\n",
    "    print(f'model_lstm batch_size: {bs}')\n",
    "    stratified_kfold_cv_nn(X_train_reduced, y_train, model_lstm, n_splits=10, batch_size=bs, lstm=True)\n",
    "    print('*' * 100)"
   ]
  },
  {
   "cell_type": "code",
   "execution_count": 24,
   "metadata": {},
   "outputs": [
    {
     "name": "stdout",
     "output_type": "stream",
     "text": [
      "model_mlp batch_size: 64\n",
      "\u001b[1m260/260\u001b[0m \u001b[32m━━━━━━━━━━━━━━━━━━━━\u001b[0m\u001b[37m\u001b[0m \u001b[1m1s\u001b[0m 3ms/step\n",
      "Fold Accuracy: 0.9724, Precision: 0.9716, Recall: 0.9724, F1 Score: 0.9717\n",
      "\u001b[1m260/260\u001b[0m \u001b[32m━━━━━━━━━━━━━━━━━━━━\u001b[0m\u001b[37m\u001b[0m \u001b[1m1s\u001b[0m 2ms/step\n",
      "Fold Accuracy: 0.9795, Precision: 0.9794, Recall: 0.9795, F1 Score: 0.9794\n",
      "\u001b[1m260/260\u001b[0m \u001b[32m━━━━━━━━━━━━━━━━━━━━\u001b[0m\u001b[37m\u001b[0m \u001b[1m1s\u001b[0m 3ms/step\n",
      "Fold Accuracy: 0.9814, Precision: 0.9825, Recall: 0.9814, F1 Score: 0.9819\n",
      "\u001b[1m260/260\u001b[0m \u001b[32m━━━━━━━━━━━━━━━━━━━━\u001b[0m\u001b[37m\u001b[0m \u001b[1m1s\u001b[0m 4ms/step\n",
      "Fold Accuracy: 0.9908, Precision: 0.9909, Recall: 0.9908, F1 Score: 0.9909\n",
      "\u001b[1m260/260\u001b[0m \u001b[32m━━━━━━━━━━━━━━━━━━━━\u001b[0m\u001b[37m\u001b[0m \u001b[1m1s\u001b[0m 3ms/step\n",
      "Fold Accuracy: 0.9931, Precision: 0.9931, Recall: 0.9931, F1 Score: 0.9931\n",
      "\u001b[1m260/260\u001b[0m \u001b[32m━━━━━━━━━━━━━━━━━━━━\u001b[0m\u001b[37m\u001b[0m \u001b[1m1s\u001b[0m 3ms/step\n",
      "Fold Accuracy: 0.9943, Precision: 0.9943, Recall: 0.9943, F1 Score: 0.9943\n",
      "\u001b[1m260/260\u001b[0m \u001b[32m━━━━━━━━━━━━━━━━━━━━\u001b[0m\u001b[37m\u001b[0m \u001b[1m1s\u001b[0m 3ms/step\n",
      "Fold Accuracy: 0.9947, Precision: 0.9947, Recall: 0.9947, F1 Score: 0.9947\n",
      "\u001b[1m260/260\u001b[0m \u001b[32m━━━━━━━━━━━━━━━━━━━━\u001b[0m\u001b[37m\u001b[0m \u001b[1m1s\u001b[0m 3ms/step\n",
      "Fold Accuracy: 0.9957, Precision: 0.9956, Recall: 0.9957, F1 Score: 0.9956\n",
      "\u001b[1m260/260\u001b[0m \u001b[32m━━━━━━━━━━━━━━━━━━━━\u001b[0m\u001b[37m\u001b[0m \u001b[1m1s\u001b[0m 4ms/step\n",
      "Fold Accuracy: 0.9965, Precision: 0.9965, Recall: 0.9965, F1 Score: 0.9965\n",
      "\u001b[1m260/260\u001b[0m \u001b[32m━━━━━━━━━━━━━━━━━━━━\u001b[0m\u001b[37m\u001b[0m \u001b[1m1s\u001b[0m 3ms/step\n",
      "Fold Accuracy: 0.9973, Precision: 0.9974, Recall: 0.9973, F1 Score: 0.9973\n",
      "\n",
      "Average Scores across all folds:\n",
      "Average Accuracy: 0.9896\n",
      "Average Precision: 0.9896\n",
      "Average Recall: 0.9896\n",
      "Average F1 Score: 0.9895\n",
      "****************************************************************************************************\n"
     ]
    }
   ],
   "source": [
    "from tensorflow.keras.models import Sequential\n",
    "from tensorflow.keras.layers import Conv1D, MaxPooling1D, Dense, Dropout, GlobalAveragePooling1D, Input\n",
    "\n",
    "model_cnn = Sequential([\n",
    "    Input(shape=(X_train_reduced.shape[1], 1)),  # Ensure X_train_reduced.shape[1] matches the number of features\n",
    "\n",
    "    Conv1D(filters=32, kernel_size=3, activation='relu', padding='same'),\n",
    "    MaxPooling1D(pool_size=2),  # Increased pool size to downsample the sequence length\n",
    "\n",
    "    Conv1D(filters=64, kernel_size=3, activation='relu', padding='same'),\n",
    "    MaxPooling1D(pool_size=2),  # Increased pool size\n",
    "\n",
    "    Flatten(),\n",
    "    Dense(128, activation='relu'),\n",
    "    Dense(64, activation='relu'),\n",
    "    Dense(5, activation='softmax')  # Output layer for 5 classes\n",
    "])\n",
    "\n",
    "model_cnn.compile(loss='sparse_categorical_crossentropy', optimizer='adam', metrics=['accuracy'])\n",
    "\n",
    "for bs in batch_sizes:\n",
    "    print(f'model_mlp batch_size: {bs}')\n",
    "    stratified_kfold_cv_nn(X_train_reduced, y_train, model_cnn, n_splits=10, batch_size=bs, lstm=True)\n",
    "    print('*' * 100)"
   ]
  },
  {
   "cell_type": "code",
   "execution_count": null,
   "metadata": {},
   "outputs": [],
   "source": [
    "model_cnn = Sequential([\n",
    "    Input(shape=(X_train_reduced.shape[1], 1)),  # Ensure X_train_reduced.shape[1] matches the number of features\n",
    "\n",
    "    Conv1D(filters=32, kernel_size=3, activation='relu', padding='same'),\n",
    "    MaxPooling1D(pool_size=2),  # Increased pool size to downsample the sequence length\n",
    "\n",
    "    Conv1D(filters=64, kernel_size=3, activation='relu', padding='same'),\n",
    "    MaxPooling1D(pool_size=2),  # Increased pool size\n",
    "\n",
    "    Flatten(),\n",
    "    Dense(128, activation='relu'),\n",
    "    Dense(64, activation='relu'),\n",
    "    Dense(5, activation='softmax')  # Output layer for 5 classes\n",
    "])\n",
    "\n",
    "\n",
    "model_cnn.compile(loss='sparse_categorical_crossentropy', optimizer='adam', metrics=['accuracy'])"
   ]
  },
  {
   "cell_type": "code",
   "execution_count": null,
   "metadata": {},
   "outputs": [
    {
     "name": "stdout",
     "output_type": "stream",
     "text": [
      "Epoch 1/20\n",
      "\u001b[1m1297/1297\u001b[0m \u001b[32m━━━━━━━━━━━━━━━━━━━━\u001b[0m\u001b[37m\u001b[0m \u001b[1m7s\u001b[0m 5ms/step - accuracy: 0.9725 - loss: 0.0886\n",
      "Epoch 2/20\n",
      "\u001b[1m1297/1297\u001b[0m \u001b[32m━━━━━━━━━━━━━━━━━━━━\u001b[0m\u001b[37m\u001b[0m \u001b[1m6s\u001b[0m 5ms/step - accuracy: 0.9707 - loss: 0.0913\n",
      "Epoch 3/20\n",
      "\u001b[1m1297/1297\u001b[0m \u001b[32m━━━━━━━━━━━━━━━━━━━━\u001b[0m\u001b[37m\u001b[0m \u001b[1m6s\u001b[0m 5ms/step - accuracy: 0.9727 - loss: 0.0869\n",
      "Epoch 4/20\n",
      "\u001b[1m1297/1297\u001b[0m \u001b[32m━━━━━━━━━━━━━━━━━━━━\u001b[0m\u001b[37m\u001b[0m \u001b[1m7s\u001b[0m 5ms/step - accuracy: 0.9728 - loss: 0.0857\n",
      "Epoch 5/20\n",
      "\u001b[1m1297/1297\u001b[0m \u001b[32m━━━━━━━━━━━━━━━━━━━━\u001b[0m\u001b[37m\u001b[0m \u001b[1m7s\u001b[0m 6ms/step - accuracy: 0.9720 - loss: 0.0843\n",
      "Epoch 6/20\n",
      "\u001b[1m1297/1297\u001b[0m \u001b[32m━━━━━━━━━━━━━━━━━━━━\u001b[0m\u001b[37m\u001b[0m \u001b[1m6s\u001b[0m 5ms/step - accuracy: 0.9728 - loss: 0.0832\n",
      "Epoch 7/20\n",
      "\u001b[1m1297/1297\u001b[0m \u001b[32m━━━━━━━━━━━━━━━━━━━━\u001b[0m\u001b[37m\u001b[0m \u001b[1m6s\u001b[0m 5ms/step - accuracy: 0.9732 - loss: 0.0824\n",
      "Epoch 8/20\n",
      "\u001b[1m1297/1297\u001b[0m \u001b[32m━━━━━━━━━━━━━━━━━━━━\u001b[0m\u001b[37m\u001b[0m \u001b[1m7s\u001b[0m 5ms/step - accuracy: 0.9722 - loss: 0.0872\n",
      "Epoch 9/20\n",
      "\u001b[1m1297/1297\u001b[0m \u001b[32m━━━━━━━━━━━━━━━━━━━━\u001b[0m\u001b[37m\u001b[0m \u001b[1m7s\u001b[0m 5ms/step - accuracy: 0.9738 - loss: 0.0822\n",
      "Epoch 10/20\n",
      "\u001b[1m1297/1297\u001b[0m \u001b[32m━━━━━━━━━━━━━━━━━━━━\u001b[0m\u001b[37m\u001b[0m \u001b[1m7s\u001b[0m 5ms/step - accuracy: 0.9735 - loss: 0.0829\n",
      "Epoch 11/20\n",
      "\u001b[1m1297/1297\u001b[0m \u001b[32m━━━━━━━━━━━━━━━━━━━━\u001b[0m\u001b[37m\u001b[0m \u001b[1m7s\u001b[0m 5ms/step - accuracy: 0.9726 - loss: 0.0849\n",
      "Epoch 12/20\n",
      "\u001b[1m1297/1297\u001b[0m \u001b[32m━━━━━━━━━━━━━━━━━━━━\u001b[0m\u001b[37m\u001b[0m \u001b[1m7s\u001b[0m 5ms/step - accuracy: 0.9744 - loss: 0.0799\n",
      "Epoch 13/20\n",
      "\u001b[1m1297/1297\u001b[0m \u001b[32m━━━━━━━━━━━━━━━━━━━━\u001b[0m\u001b[37m\u001b[0m \u001b[1m7s\u001b[0m 5ms/step - accuracy: 0.9754 - loss: 0.0751\n",
      "Epoch 14/20\n",
      "\u001b[1m1297/1297\u001b[0m \u001b[32m━━━━━━━━━━━━━━━━━━━━\u001b[0m\u001b[37m\u001b[0m \u001b[1m6s\u001b[0m 5ms/step - accuracy: 0.9738 - loss: 0.0808\n",
      "Epoch 15/20\n",
      "\u001b[1m1297/1297\u001b[0m \u001b[32m━━━━━━━━━━━━━━━━━━━━\u001b[0m\u001b[37m\u001b[0m \u001b[1m6s\u001b[0m 5ms/step - accuracy: 0.9762 - loss: 0.0774\n",
      "Epoch 16/20\n",
      "\u001b[1m1297/1297\u001b[0m \u001b[32m━━━━━━━━━━━━━━━━━━━━\u001b[0m\u001b[37m\u001b[0m \u001b[1m7s\u001b[0m 5ms/step - accuracy: 0.9753 - loss: 0.0764\n",
      "Epoch 17/20\n",
      "\u001b[1m1297/1297\u001b[0m \u001b[32m━━━━━━━━━━━━━━━━━━━━\u001b[0m\u001b[37m\u001b[0m \u001b[1m6s\u001b[0m 5ms/step - accuracy: 0.9759 - loss: 0.0737\n",
      "Epoch 18/20\n",
      "\u001b[1m1297/1297\u001b[0m \u001b[32m━━━━━━━━━━━━━━━━━━━━\u001b[0m\u001b[37m\u001b[0m \u001b[1m6s\u001b[0m 5ms/step - accuracy: 0.9754 - loss: 0.0769\n",
      "Epoch 19/20\n",
      "\u001b[1m1297/1297\u001b[0m \u001b[32m━━━━━━━━━━━━━━━━━━━━\u001b[0m\u001b[37m\u001b[0m \u001b[1m6s\u001b[0m 5ms/step - accuracy: 0.9748 - loss: 0.0770\n",
      "Epoch 20/20\n",
      "\u001b[1m1297/1297\u001b[0m \u001b[32m━━━━━━━━━━━━━━━━━━━━\u001b[0m\u001b[37m\u001b[0m \u001b[1m7s\u001b[0m 5ms/step - accuracy: 0.9756 - loss: 0.0742\n",
      "\u001b[1m649/649\u001b[0m \u001b[32m━━━━━━━━━━━━━━━━━━━━\u001b[0m\u001b[37m\u001b[0m \u001b[1m2s\u001b[0m 3ms/step\n"
     ]
    }
   ],
   "source": [
    "history = model_cnn.fit(\n",
    "            X_train_reduced.reshape(X_train_reduced.shape[0], X_train_reduced.shape[1],1), y_train,\n",
    "            epochs=20,\n",
    "            batch_size=64,\n",
    "            verbose=1\n",
    "        )\n",
    "y_pred = np.argmax(model_cnn.predict(X_test_reduced.reshape(X_test_reduced.shape[0], X_test_reduced.shape[1],1)), axis=1)\n"
   ]
  },
  {
   "cell_type": "code",
   "execution_count": 20,
   "metadata": {},
   "outputs": [
    {
     "name": "stdout",
     "output_type": "stream",
     "text": [
      "\n",
      "Classification Report:\n",
      "               precision    recall  f1-score   support\n",
      "\n",
      "           N       0.97      0.99      0.98     18025\n",
      "           S       0.89      0.56      0.69       556\n",
      "           V       0.90      0.88      0.89      1402\n",
      "           F       0.76      0.51      0.61       161\n",
      "           Q       0.76      0.58      0.66       601\n",
      "\n",
      "    accuracy                           0.96     20745\n",
      "   macro avg       0.86      0.71      0.77     20745\n",
      "weighted avg       0.95      0.96      0.95     20745\n",
      "\n"
     ]
    },
    {
     "data": {
      "image/png": "[encoded data removed]",
      "text/plain": [
       "<Figure size 600x500 with 2 Axes>"
      ]
     },
     "metadata": {},
     "output_type": "display_data"
    }
   ],
   "source": [
    "confusion_matrix_plot(y_test, y_pred)"
   ]
  },
  {
   "cell_type": "code",
   "execution_count": 23,
   "metadata": {},
   "outputs": [],
   "source": [
    "def plot_history(history):\n",
    "    \"\"\"Plots training and validation accuracy and loss curves.\"\"\"\n",
    "    epochs = range(1, len(history.history['loss']) + 1)\n",
    "    \n",
    "    # Create a figure with two subplots\n",
    "    plt.figure(figsize=(12, 5))\n",
    "\n",
    "    # Plot Loss\n",
    "    plt.subplot(1, 2, 1)\n",
    "    plt.plot(epochs, history.history['loss'], label='Training Loss')\n",
    "    plt.xlabel('Epochs')\n",
    "    plt.ylabel('Loss')\n",
    "    plt.legend()\n",
    "    plt.title('Training Loss')\n",
    "\n",
    "    # Plot Accuracy\n",
    "    plt.subplot(1, 2, 2)\n",
    "    plt.plot(epochs, history.history['accuracy'], label='Training Accuracy')\n",
    "    plt.xlabel('Epochs')\n",
    "    plt.ylabel('Accuracy')\n",
    "    plt.legend()\n",
    "    plt.title('Training Accuracy')\n",
    "\n",
    "    plt.show()"
   ]
  },
  {
   "cell_type": "code",
   "execution_count": 24,
   "metadata": {},
   "outputs": [
    {
     "data": {
      "image/png": "[encoded data removed]",
      "text/plain": [
       "<Figure size 1200x500 with 2 Axes>"
      ]
     },
     "metadata": {},
     "output_type": "display_data"
    }
   ],
   "source": [
    "plot_history(history)"
   ]
  },
  {
   "cell_type": "code",
   "execution_count": null,
   "metadata": {},
   "outputs": [],
   "source": []
  }
 ],
 "metadata": {
  "kernelspec": {
   "display_name": "mitbih",
   "language": "python",
   "name": "python3"
  },
  "language_info": {
   "codemirror_mode": {
    "name": "ipython",
    "version": 3
   },
   "file_extension": ".py",
   "mimetype": "text/x-python",
   "name": "python",
   "nbconvert_exporter": "python",
   "pygments_lexer": "ipython3",
   "version": "3.10.16"
  }
 },
 "nbformat": 4,
 "nbformat_minor": 2
}
